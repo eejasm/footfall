{
 "cells": [
  {
   "cell_type": "markdown",
   "metadata": {},
   "source": [
    "# Model selection\n",
    "\n",
    "Cross-validation is used here to select the best model. In this script it is used to test the best machine learning model for use in this context.\n",
    "\n",
    "<u>Tests using the following models :</u>\n",
    "* Linear regression\n",
    "* Random forest regressor\n",
    "* XGBoost\n",
    "* Extra Trees Regressor\n",
    "\n",
    "<u> The following variables are included in the model:</u>\n",
    "* Weather variables (rain, temperature, windspeed)\n",
    "* Time variables (Day of week, month, year, time of day, public holiday)\n",
    "* Sensor environment variables (within a 500m buffer of the sensor):\n",
    "    * Betweenness of the street \n",
    "    * Buildings in proximity to the sensor\n",
    "    * Landmarks in proximity to the sensor  \n",
    "    * Furniture in proximity to the sensor    \n",
    "    * Lights in proximity to the sensor   "
   ]
  },
  {
   "cell_type": "code",
   "execution_count": 3,
   "metadata": {},
   "outputs": [],
   "source": [
    "import pandas as pd\n",
    "from sklearn.linear_model import LinearRegression\n",
    "from sklearn.preprocessing import StandardScaler\n",
    "from sklearn.model_selection import KFold\n",
    "import numpy as np\n",
    "from sklearn.ensemble import RandomForestRegressor, ExtraTreesRegressor \n",
    "import xgboost as xgb\n",
    "from sklearn.pipeline import Pipeline\n",
    "import folium\n",
    "import branca.colormap as cm\n",
    "from eli5.sklearn import PermutationImportance\n",
    "import joblib\n",
    "import os\n",
    "import psutil\n",
    "\n",
    "from Functions import *"
   ]
  },
  {
   "cell_type": "markdown",
   "metadata": {},
   "source": [
    "## Run models with cross-validation"
   ]
  },
  {
   "cell_type": "markdown",
   "metadata": {},
   "source": [
    "### Define the error metrics for the cross-validation to return, and the parameters of the cross validation"
   ]
  },
  {
   "cell_type": "code",
   "execution_count": 34,
   "metadata": {},
   "outputs": [],
   "source": [
    "error_metrics = ['neg_mean_absolute_error', 'r2', 'neg_root_mean_squared_error', 'neg_mean_absolute_percentage_error']\n",
    "cv_parameters = KFold(n_splits=10, random_state=1, shuffle=True)"
   ]
  },
  {
   "cell_type": "code",
   "execution_count": 31,
   "metadata": {},
   "outputs": [],
   "source": [
    "lr_model_pipeline = Pipeline(steps=[['scaler',StandardScaler()],['linear_regressor',LinearRegression()]])\n",
    "rf_model_pipeline = Pipeline(steps=[['scaler',StandardScaler()],['rf_regressor', RandomForestRegressor(random_state = 1, n_jobs = 10)]])\n",
    "xgb_model_pipeline = Pipeline(steps=[['scaler',StandardScaler()],['xgb_regressor',xgb.XGBRegressor(random_state=1, n_jobs = 16)]])\n",
    "et_model_pipeline = Pipeline(steps=[['scaler',StandardScaler()],['et_regressor',ExtraTreesRegressor (random_state = 1, n_jobs = 16)]])"
   ]
  },
  {
   "cell_type": "code",
   "execution_count": 32,
   "metadata": {},
   "outputs": [],
   "source": [
    "models_dict = {\"linear_regressor\": lr_model_pipeline, \"xgb_regressor\":xgb_model_pipeline, \n",
    "               \"rf_regressor\":rf_model_pipeline}"
   ]
  },
  {
   "cell_type": "markdown",
   "metadata": {},
   "source": [
    "### Use CV to return error metrics for the datasets produced with different buffer sizes"
   ]
  },
  {
   "cell_type": "code",
   "execution_count": 6,
   "metadata": {},
   "outputs": [],
   "source": [
    "buffer_size_m = 500\n",
    "Xfull, Yfull, data_time_columns = prepare_x_y_data(buffer_size_m)"
   ]
  },
  {
   "cell_type": "code",
   "execution_count": 1,
   "metadata": {},
   "outputs": [],
   "source": [
    "# Dataframe to store the scores for all the models\n",
    "error_metric_scores = pd.DataFrame()\n",
    "\n",
    "for model_name, model_pipeline in models_dict.items():\n",
    "    print(model_name)\n",
    "    # Use cross_validate to return the error scores associated with this model and this data\n",
    "    start = time()\n",
    "    model_output = cross_validate(model_pipeline, Xfull, Yfull, cv=cv_parameters, scoring=error_metrics, error_score=\"raise\")\n",
    "    end = time()\n",
    "    print('Ran in {} minutes'.format(round((end - start)/60),2))\n",
    "    \n",
    "    # Formulate the different error scores into a dataframe\n",
    "    error_metrics_df =pd.DataFrame({'mae': round(abs(model_output['test_neg_mean_absolute_error'].mean()),2), \n",
    "                  'mape': round(abs(model_output['test_neg_mean_absolute_percentage_error'].mean()),2),\n",
    "                  'r2': round(abs(model_output['test_r2'].mean()),2), \n",
    "                  'rmse': round(abs(model_output['test_neg_root_mean_squared_error'].mean()),2)},\n",
    "                 index =[\"{}\".format(buffer_size_m)])\n",
    "        \n",
    "    # Add evaluation metric scores for this model to the dataframe containing the metrics for each model\n",
    "    error_metric_scores = error_metric_scores.append(error_metrics_df)\n",
    "    # Save error scores for this distance to file\n",
    "    error_metrics_df.to_csv('Results/CV/ComparingModels/{}_{}m_error_metric_scores.csv'.format(model_name,buffer_size_m),index=False)    \n",
    "\n",
    "# Save dataframes of error metrics for each buffer distance \n",
    "error_metric_scores.to_csv('Results/CV/ComparingModels/comparingmodels_error_metric_scores.csv')   "
   ]
  },
  {
   "cell_type": "markdown",
   "metadata": {},
   "source": [
    "### Print table showing error metrics associated with each model"
   ]
  },
  {
   "cell_type": "code",
   "execution_count": null,
   "metadata": {},
   "outputs": [],
   "source": [
    "error_metric_scores"
   ]
  },
  {
   "cell_type": "code",
   "execution_count": 17,
   "metadata": {},
   "outputs": [
    {
     "data": {
      "text/html": [
       "<div>\n",
       "<style scoped>\n",
       "    .dataframe tbody tr th:only-of-type {\n",
       "        vertical-align: middle;\n",
       "    }\n",
       "\n",
       "    .dataframe tbody tr th {\n",
       "        vertical-align: top;\n",
       "    }\n",
       "\n",
       "    .dataframe thead th {\n",
       "        text-align: right;\n",
       "    }\n",
       "</style>\n",
       "<table border=\"1\" class=\"dataframe\">\n",
       "  <thead>\n",
       "    <tr style=\"text-align: right;\">\n",
       "      <th></th>\n",
       "      <th>model</th>\n",
       "      <th>mae</th>\n",
       "      <th>mape</th>\n",
       "      <th>r2</th>\n",
       "      <th>rmse</th>\n",
       "    </tr>\n",
       "  </thead>\n",
       "  <tbody>\n",
       "    <tr>\n",
       "      <th>0</th>\n",
       "      <td>linear_regression</td>\n",
       "      <td>259.12</td>\n",
       "      <td>1.460275e+16</td>\n",
       "      <td>0.48</td>\n",
       "      <td>354.58</td>\n",
       "    </tr>\n",
       "    <tr>\n",
       "      <th>0</th>\n",
       "      <td>XGBoost</td>\n",
       "      <td>114.97</td>\n",
       "      <td>4.382298e+15</td>\n",
       "      <td>0.84</td>\n",
       "      <td>194.98</td>\n",
       "    </tr>\n",
       "    <tr>\n",
       "      <th>0</th>\n",
       "      <td>RandomForestRegressor</td>\n",
       "      <td>75.63</td>\n",
       "      <td>2.112577e+15</td>\n",
       "      <td>0.91</td>\n",
       "      <td>149.95</td>\n",
       "    </tr>\n",
       "  </tbody>\n",
       "</table>\n",
       "</div>"
      ],
      "text/plain": [
       "                   model     mae          mape    r2    rmse\n",
       "0      linear_regression  259.12  1.460275e+16  0.48  354.58\n",
       "0                XGBoost  114.97  4.382298e+15  0.84  194.98\n",
       "0  RandomForestRegressor   75.63  2.112577e+15  0.91  149.95"
      ]
     },
     "execution_count": 17,
     "metadata": {},
     "output_type": "execute_result"
    }
   ],
   "source": [
    "result"
   ]
  }
 ],
 "metadata": {
  "hide_input": false,
  "kernelspec": {
   "display_name": "Python 3 (ipykernel)",
   "language": "python",
   "name": "python3"
  },
  "language_info": {
   "codemirror_mode": {
    "name": "ipython",
    "version": 3
   },
   "file_extension": ".py",
   "mimetype": "text/x-python",
   "name": "python",
   "nbconvert_exporter": "python",
   "pygments_lexer": "ipython3",
   "version": "3.7.15"
  }
 },
 "nbformat": 4,
 "nbformat_minor": 2
}
