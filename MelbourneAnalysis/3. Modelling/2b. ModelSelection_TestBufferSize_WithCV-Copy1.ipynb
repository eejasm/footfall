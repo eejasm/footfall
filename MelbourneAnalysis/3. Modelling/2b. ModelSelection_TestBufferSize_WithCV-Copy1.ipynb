{
 "cells": [
  {
   "cell_type": "code",
   "execution_count": 1,
   "metadata": {},
   "outputs": [],
   "source": [
    "import pandas as pd\n",
    "from sklearn.linear_model import LinearRegression\n",
    "from sklearn.preprocessing import StandardScaler\n",
    "from sklearn.model_selection import KFold\n",
    "import numpy as np\n",
    "from sklearn.ensemble import RandomForestRegressor, ExtraTreesRegressor \n",
    "import xgboost as xgb\n",
    "from sklearn.pipeline import Pipeline\n",
    "import folium\n",
    "import branca.colormap as cm\n",
    "from eli5.sklearn import PermutationImportance\n",
    "import joblib\n",
    "import os\n",
    "import psutil\n",
    "\n",
    "from Functions import *"
   ]
  },
  {
   "cell_type": "code",
   "execution_count": 2,
   "metadata": {},
   "outputs": [],
   "source": [
    "lr_model_pipeline = Pipeline(steps=[['scaler',StandardScaler()],['linear_regressor',LinearRegression()]])\n",
    "rf_model_pipeline = Pipeline(steps=[['scaler',StandardScaler()],['rf_regressor', RandomForestRegressor(random_state = 1, n_jobs = 10)]])\n",
    "xgb_model_pipeline = Pipeline(steps=[['scaler',StandardScaler()],['xgb_regressor',xgb.XGBRegressor(random_state=1, n_jobs = 16)]])\n",
    "et_model_pipeline = Pipeline(steps=[['scaler',StandardScaler()],['et_regressor',ExtraTreesRegressor (random_state = 1, n_jobs = 16)]])"
   ]
  },
  {
   "cell_type": "code",
   "execution_count": 3,
   "metadata": {},
   "outputs": [],
   "source": [
    "error_metrics = ['neg_mean_absolute_error', 'r2', 'neg_root_mean_squared_error', 'neg_mean_absolute_percentage_error']\n",
    "cv_parameters = KFold(n_splits=10, random_state=1, shuffle=True)"
   ]
  },
  {
   "cell_type": "code",
   "execution_count": 9,
   "metadata": {},
   "outputs": [
    {
     "data": {
      "text/plain": [
       "Index(['year', 'Temp', 'Humidity', 'Pressure', 'Rain', 'WindSpeed',\n",
       "       'Rainfall amount (millimetres)', 'public_holiday', 'school_holiday',\n",
       "       'betweenness', 'lights', 'memorials', 'trees', 'bus-stops',\n",
       "       'tram-stops', 'metro-stations', 'taxi-ranks', 'big-car-parks',\n",
       "       'street_inf_Bicycle Rails', 'street_inf_Bollard',\n",
       "       'street_inf_Drinking Fountain', 'street_inf_Floral Crate/Planter Box',\n",
       "       'street_inf_Horse Trough', 'street_inf_Information Pillar',\n",
       "       'street_inf_Litter Bin', 'street_inf_Seat', 'street_inf_Tree Guard',\n",
       "       'landmarks_Community Use', 'landmarks_Mixed Use',\n",
       "       'landmarks_Place Of Assembly', 'landmarks_Place of Worship',\n",
       "       'landmarks_Retail', 'landmarks_Transport', 'landmarks_Education Centre',\n",
       "       'landmarks_Leisure/Recreation', 'landmarks_Office',\n",
       "       'street_inf_Barbeque', 'street_inf_Hoop', 'street_inf_Picnic Setting',\n",
       "       'landmarks_Specialist Residential Accommodation',\n",
       "       'landmarks_Vacant Land', 'landmarks_Purpose Built',\n",
       "       'landmarks_Health Services', 'avg_n_floors',\n",
       "       'buildings_Commercial Accommodation', 'buildings_Community Use',\n",
       "       'buildings_Educational/Research',\n",
       "       'buildings_Entertainment/Recreation - Indoor',\n",
       "       'buildings_Equipment Installation', 'buildings_Hospital/Clinic',\n",
       "       'buildings_House/Townhouse', 'buildings_Manufacturing',\n",
       "       'buildings_Office', 'buildings_Parking - Commercial Covered',\n",
       "       'buildings_Performances, Conferences, Ceremonies',\n",
       "       'buildings_Public Display Area', 'buildings_Residential Apartment',\n",
       "       'buildings_Retail - Shop', 'buildings_Retail - Showroom',\n",
       "       'buildings_Storage', 'buildings_Student Accommodation',\n",
       "       'buildings_Unoccupied - Under Construction',\n",
       "       'buildings_Unoccupied - Under Demolition/Condemned',\n",
       "       'buildings_Unoccupied - Under Renovation',\n",
       "       'buildings_Unoccupied - Unused', 'buildings_Workshop/Studio',\n",
       "       'buildings_Parking - Private Covered', 'buildings_Transport',\n",
       "       'buildings_Retail - Cars', 'buildings_Wholesale',\n",
       "       'buildings_Institutional Accommodation', 'buildings_Retail - Stall',\n",
       "       'Monday', 'Saturday', 'Sunday', 'Thursday', 'Tuesday', 'Wednesday',\n",
       "       'month_2', 'month_3', 'month_4', 'month_5', 'month_6', 'month_7',\n",
       "       'month_8', 'month_9', 'month_10', 'month_11', 'month_12', 'Sin_time',\n",
       "       'Cos_time', 'Sin_month_num', 'Cos_month_num', 'Sin_weekday_num',\n",
       "       'Cos_weekday_num', 'random', 'random_cat'],\n",
       "      dtype='object')"
      ]
     },
     "execution_count": 9,
     "metadata": {},
     "output_type": "execute_result"
    }
   ],
   "source": [
    "# buffer_size_m = 500\n",
    "# Xfull, Yfull = prepare_x_y_data_old(buffer_size_m)\n",
    "Xfull.columns"
   ]
  },
  {
   "cell_type": "code",
   "execution_count": 8,
   "metadata": {},
   "outputs": [],
   "source": [
    "# Dataframe to store the scores for each model\n",
    "error_metric_scores = pd.DataFrame()\n",
    "\n",
    "# model_name = {\"xgb_regressor\":xgb_model_pipeline}\n",
    "model = rf_model_pipeline\n",
    "model_name = 'rf_regressor'\n",
    "regex_name = 'withsubtypes'\n",
    "regex = 'buildings$|furniture$|landmarks$'\n",
    "\n",
    "for buffer_size_m in [500]:\n",
    "    Xfull, Yfull = prepare_x_y_data_old(buffer_size_m)\n",
    "\n",
    "    start = time()\n",
    "    print(\"running cross_validate\")\n",
    "    model_output = cross_validate(rf_model_pipeline, Xfull, Yfull, cv=cv_parameters, scoring=error_metrics, error_score=\"raise\")\n",
    "    print(\"ran cross_validate\")   \n",
    "    end = time()\n",
    "    print('Ran in {} minutes'.format(round((end - start)/60),2))\n",
    "    \n",
    "    error_metrics_df =pd.DataFrame({'mae': round(abs(model_output['test_neg_mean_absolute_error'].mean()),2), \n",
    "                  'mape': round(abs(model_output['test_neg_mean_absolute_percentage_error'].mean()),2),\n",
    "                  'r2': round(abs(model_output['test_r2'].mean()),2), \n",
    "                  'rmse': round(abs(model_output['test_neg_root_mean_squared_error'].mean()),2)},\n",
    "                 index =[\"{}\".format(buffer_size_m)])\n",
    "    \n",
    "    \n",
    "    # Add evaluation metric scores for this model to the dataframe containing the metrics for each model\n",
    "    error_metric_scores = error_metric_scores.append(error_metrics_df)\n",
    "    #error_metrics_df.to_csv('PickleFiles/CV/{}/{}_error_metrics_{}m.csv'.format(buffer_size_m, model_name,buffer_size_m),index=False)    \n",
    "        \n",
    "#error_metric_scores.to_csv('error_metric_scores.csv')   "
   ]
  },
  {
   "cell_type": "code",
   "execution_count": 8,
   "metadata": {},
   "outputs": [
    {
     "data": {
      "text/html": [
       "<div>\n",
       "<style scoped>\n",
       "    .dataframe tbody tr th:only-of-type {\n",
       "        vertical-align: middle;\n",
       "    }\n",
       "\n",
       "    .dataframe tbody tr th {\n",
       "        vertical-align: top;\n",
       "    }\n",
       "\n",
       "    .dataframe thead th {\n",
       "        text-align: right;\n",
       "    }\n",
       "</style>\n",
       "<table border=\"1\" class=\"dataframe\">\n",
       "  <thead>\n",
       "    <tr style=\"text-align: right;\">\n",
       "      <th></th>\n",
       "      <th>mae</th>\n",
       "      <th>mape</th>\n",
       "      <th>r2</th>\n",
       "      <th>rmse</th>\n",
       "    </tr>\n",
       "  </thead>\n",
       "  <tbody>\n",
       "    <tr>\n",
       "      <th>500</th>\n",
       "      <td>61.11</td>\n",
       "      <td>1.480037e+15</td>\n",
       "      <td>0.94</td>\n",
       "      <td>125.58</td>\n",
       "    </tr>\n",
       "  </tbody>\n",
       "</table>\n",
       "</div>"
      ],
      "text/plain": [
       "       mae          mape    r2    rmse\n",
       "500  61.11  1.480037e+15  0.94  125.58"
      ]
     },
     "execution_count": 8,
     "metadata": {},
     "output_type": "execute_result"
    }
   ],
   "source": [
    "error_metric_scores"
   ]
  },
  {
   "cell_type": "code",
   "execution_count": 7,
   "metadata": {},
   "outputs": [
    {
     "data": {
      "text/html": [
       "<div>\n",
       "<style scoped>\n",
       "    .dataframe tbody tr th:only-of-type {\n",
       "        vertical-align: middle;\n",
       "    }\n",
       "\n",
       "    .dataframe tbody tr th {\n",
       "        vertical-align: top;\n",
       "    }\n",
       "\n",
       "    .dataframe thead th {\n",
       "        text-align: right;\n",
       "    }\n",
       "</style>\n",
       "<table border=\"1\" class=\"dataframe\">\n",
       "  <thead>\n",
       "    <tr style=\"text-align: right;\">\n",
       "      <th></th>\n",
       "      <th>mae</th>\n",
       "      <th>mape</th>\n",
       "      <th>r2</th>\n",
       "      <th>rmse</th>\n",
       "    </tr>\n",
       "  </thead>\n",
       "  <tbody>\n",
       "    <tr>\n",
       "      <th>500</th>\n",
       "      <td>57.77</td>\n",
       "      <td>1.402749e+15</td>\n",
       "      <td>0.94</td>\n",
       "      <td>119.62</td>\n",
       "    </tr>\n",
       "  </tbody>\n",
       "</table>\n",
       "</div>"
      ],
      "text/plain": [
       "       mae          mape    r2    rmse\n",
       "500  57.77  1.402749e+15  0.94  119.62"
      ]
     },
     "execution_count": 7,
     "metadata": {},
     "output_type": "execute_result"
    }
   ],
   "source": [
    "error_metric_scores"
   ]
  },
  {
   "cell_type": "code",
   "execution_count": 11,
   "metadata": {},
   "outputs": [
    {
     "data": {
      "text/plain": [
       "Index(['Temp', 'Humidity', 'Pressure', 'Rain', 'WindSpeed',\n",
       "       'Rainfall amount (millimetres)', 'public_holiday', 'school_holiday',\n",
       "       'betweenness', 'lights', 'memorials', 'trees', 'bus-stops',\n",
       "       'tram-stops', 'metro-stations', 'taxi-ranks', 'big-car-parks',\n",
       "       'street_inf_Bicycle Rails', 'street_inf_Bollard',\n",
       "       'street_inf_Drinking Fountain', 'street_inf_Floral Crate/Planter Box',\n",
       "       'street_inf_Horse Trough', 'street_inf_Information Pillar',\n",
       "       'street_inf_Litter Bin', 'street_inf_Seat', 'street_inf_Tree Guard',\n",
       "       'landmarks_Community Use', 'landmarks_Mixed Use',\n",
       "       'landmarks_Place Of Assembly', 'landmarks_Place of Worship',\n",
       "       'landmarks_Retail', 'landmarks_Transport', 'landmarks_Education Centre',\n",
       "       'landmarks_Leisure/Recreation', 'landmarks_Office',\n",
       "       'street_inf_Barbeque', 'street_inf_Hoop', 'street_inf_Picnic Setting',\n",
       "       'landmarks_Specialist Residential Accommodation',\n",
       "       'landmarks_Vacant Land', 'landmarks_Purpose Built',\n",
       "       'landmarks_Health Services', 'avg_n_floors',\n",
       "       'buildings_Commercial Accommodation', 'buildings_Community Use',\n",
       "       'buildings_Educational/Research',\n",
       "       'buildings_Entertainment/Recreation - Indoor',\n",
       "       'buildings_Equipment Installation', 'buildings_Hospital/Clinic',\n",
       "       'buildings_House/Townhouse', 'buildings_Manufacturing',\n",
       "       'buildings_Office', 'buildings_Parking - Commercial Covered',\n",
       "       'buildings_Performances, Conferences, Ceremonies',\n",
       "       'buildings_Public Display Area', 'buildings_Residential Apartment',\n",
       "       'buildings_Retail - Shop', 'buildings_Retail - Showroom',\n",
       "       'buildings_Storage', 'buildings_Student Accommodation',\n",
       "       'buildings_Unoccupied - Under Construction',\n",
       "       'buildings_Unoccupied - Under Demolition/Condemned',\n",
       "       'buildings_Unoccupied - Under Renovation',\n",
       "       'buildings_Unoccupied - Unused', 'buildings_Workshop/Studio',\n",
       "       'buildings_Parking - Private Covered', 'buildings_Transport',\n",
       "       'buildings_Retail - Cars', 'buildings_Wholesale',\n",
       "       'buildings_Institutional Accommodation', 'buildings_Retail - Stall',\n",
       "       'Monday', 'Saturday', 'Sunday', 'Thursday', 'Tuesday', 'Wednesday',\n",
       "       'month_2', 'month_3', 'month_4', 'month_5', 'month_6', 'month_7',\n",
       "       'month_8', 'month_9', 'month_10', 'month_11', 'month_12', 'Sin_time',\n",
       "       'Cos_time', 'Sin_month_num', 'Cos_month_num', 'Sin_weekday_num',\n",
       "       'Cos_weekday_num', 'random', 'random_cat'],\n",
       "      dtype='object')"
      ]
     },
     "execution_count": 11,
     "metadata": {},
     "output_type": "execute_result"
    }
   ],
   "source": [
    "# del Xfull['year']\n",
    "Xfull.columns"
   ]
  },
  {
   "cell_type": "code",
   "execution_count": null,
   "metadata": {},
   "outputs": [
    {
     "name": "stdout",
     "output_type": "stream",
     "text": [
      "running cross_validate\n"
     ]
    }
   ],
   "source": [
    "# Dataframe to store the scores for each model\n",
    "error_metric_scores = pd.DataFrame()\n",
    "\n",
    "# model_name = {\"xgb_regressor\":xgb_model_pipeline}\n",
    "model = rf_model_pipeline\n",
    "model_name = 'rf_regressor'\n",
    "regex_name = 'withsubtypes'\n",
    "regex = 'buildings$|furniture$|landmarks$'\n",
    "\n",
    "for buffer_size_m in [500]:\n",
    "\n",
    "    start = time()\n",
    "    print(\"running cross_validate\")\n",
    "    model_output = cross_validate(rf_model_pipeline, Xfull, Yfull, cv=cv_parameters, scoring=error_metrics, error_score=\"raise\")\n",
    "    print(\"ran cross_validate\")   \n",
    "    end = time()\n",
    "    print('Ran in {} minutes'.format(round((end - start)/60),2))\n",
    "    \n",
    "    error_metrics_df =pd.DataFrame({'mae': round(abs(model_output['test_neg_mean_absolute_error'].mean()),2), \n",
    "                  'mape': round(abs(model_output['test_neg_mean_absolute_percentage_error'].mean()),2),\n",
    "                  'r2': round(abs(model_output['test_r2'].mean()),2), \n",
    "                  'rmse': round(abs(model_output['test_neg_root_mean_squared_error'].mean()),2)},\n",
    "                 index =[\"{}\".format(buffer_size_m)])\n",
    "    \n",
    "    \n",
    "    # Add evaluation metric scores for this model to the dataframe containing the metrics for each model\n",
    "    error_metric_scores = error_metric_scores.append(error_metrics_df)\n",
    "    #error_metrics_df.to_csv('PickleFiles/CV/{}/{}_error_metrics_{}m.csv'.format(buffer_size_m, model_name,buffer_size_m),index=False)    \n",
    "        \n",
    "#error_metric_scores.to_csv('error_metric_scores.csv')   "
   ]
  }
 ],
 "metadata": {
  "hide_input": false,
  "kernelspec": {
   "display_name": "Python 3 (ipykernel)",
   "language": "python",
   "name": "python3"
  },
  "language_info": {
   "codemirror_mode": {
    "name": "ipython",
    "version": 3
   },
   "file_extension": ".py",
   "mimetype": "text/x-python",
   "name": "python",
   "nbconvert_exporter": "python",
   "pygments_lexer": "ipython3",
   "version": "3.7.15"
  }
 },
 "nbformat": 4,
 "nbformat_minor": 2
}
