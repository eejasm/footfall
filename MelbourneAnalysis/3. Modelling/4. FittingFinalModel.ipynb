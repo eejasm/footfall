{
 "cells": [
  {
   "cell_type": "markdown",
   "metadata": {},
   "source": [
    "# Fitting the final model\n",
    "<u>Tests using the following models :</u>\n",
    "* Linear regression\n",
    "* Random forest regressor\n",
    "* Ridge and Lasso Regularization (add on to linear modelling?)\n",
    "\n",
    "<u> Tests using the following variables:</u>\n",
    "* Weather variables (rain, temperature, windspeed)\n",
    "* Time variables (Day of week, month, year, time of day, public holiday)\n",
    "* Sensor environment variables:\n",
    "    * Sensor_id\n",
    "    * Betweenness of the street \n",
    "    * Buildings in proximity to the sensor\n",
    "    * Landmarks in proximity to the sensor  \n",
    "    * Furniture in proximity to the sensor    \n",
    "    * Lights in proximity to the sensor   "
   ]
  },
  {
   "cell_type": "code",
   "execution_count": 1,
   "metadata": {},
   "outputs": [],
   "source": [
    "import copy\n",
    "import pandas as pd\n",
    "from sklearn.linear_model import LinearRegression, Ridge, Lasso, ElasticNet\n",
    "from sklearn.preprocessing import StandardScaler\n",
    "from sklearn.model_selection import train_test_split, cross_val_score, GridSearchCV\n",
    "import numpy as np\n",
    "import matplotlib.pyplot as plt\n",
    "from sklearn.metrics import classification_report, mean_squared_error,r2_score, accuracy_score, mean_absolute_error, mean_absolute_percentage_error\n",
    "from sklearn.tree import DecisionTreeRegressor\n",
    "from sklearn.ensemble import RandomForestRegressor, ExtraTreesRegressor\n",
    "from sklearn.preprocessing import MinMaxScaler\n",
    "import time as thetime\n",
    "from sklearn.model_selection import cross_validate\n",
    "from xgboost import XGBClassifier, XGBRegressor\n",
    "from time import time\n",
    "from sklearn.inspection import permutation_importance\n",
    "from scipy import stats\n",
    "\n",
    "from eli5.sklearn import PermutationImportance\n",
    "from sklearn.model_selection import cross_val_predict\n",
    "\n",
    "from warnings import simplefilter\n",
    "simplefilter(action='ignore', category=FutureWarning)\n",
    "\n",
    "from Functions import *\n",
    "import joblib"
   ]
  },
  {
   "cell_type": "markdown",
   "metadata": {},
   "source": [
    "## Prepare data for modelling"
   ]
  },
  {
   "cell_type": "code",
   "execution_count": 2,
   "metadata": {},
   "outputs": [],
   "source": [
    "buffer_size_m=500\n",
    "Xfull, Yfull, data_time_columns = prepare_x_y_data(buffer_size_m)"
   ]
  },
  {
   "cell_type": "markdown",
   "metadata": {},
   "source": [
    "## Fit the final model\n",
    "Random Forest with a buffer size of 500m was the best performing model from CV  \n",
    "For this, we use all of the data"
   ]
  },
  {
   "cell_type": "code",
   "execution_count": 21,
   "metadata": {},
   "outputs": [],
   "source": [
    "# Fit the final model\n",
    "rf_model_pipeline1 = Pipeline(steps=[['scaler',StandardScaler()],\n",
    "                                    ['rf_regressor',RandomForestRegressor(random_state = 1, n_jobs = 32)]])\n",
    "rf_model_pipeline1.fit(Xfull, Yfull)\n",
    "print(\"saving pickled file\")\n",
    "# Save to pickled file\n",
    "filename = 'Results/FinalModels/rf_model_pipeline1_combined_features_{}.pkl'.format(buffer_size_m)\n",
    "joblib.dump(rf_model_pipeline1, filename)"
   ]
  },
  {
   "cell_type": "code",
   "execution_count": 22,
   "metadata": {},
   "outputs": [
    {
     "name": "stdout",
     "output_type": "stream",
     "text": [
      "saving pickled file\n"
     ]
    },
    {
     "data": {
      "text/plain": [
       "['Results/FinalModels/rf_model_pipeline2_combined_features_500.pkl']"
      ]
     },
     "execution_count": 22,
     "metadata": {},
     "output_type": "execute_result"
    }
   ],
   "source": [
    "# Fit the final model\n",
    "rf_model_pipeline2 = Pipeline(steps=[['scaler',StandardScaler()],\n",
    "                                    ['rf_regressor',RandomForestRegressor(random_state = 2, n_jobs = 32)]])\n",
    "rf_model_pipeline2.fit(Xfull, Yfull)\n",
    "print(\"saving pickled file\")\n",
    "# Save to pickled file\n",
    "filename = 'Results/FinalModels/rf_model_pipeline2_combined_features_{}.pkl'.format(buffer_size_m)\n",
    "joblib.dump(rf_model_pipeline2, filename)"
   ]
  },
  {
   "cell_type": "code",
   "execution_count": 3,
   "metadata": {},
   "outputs": [
    {
     "name": "stdout",
     "output_type": "stream",
     "text": [
      "saving pickled file\n"
     ]
    },
    {
     "data": {
      "text/plain": [
       "['Results/FinalModels/rf_model_pipeline3_combined_features_500.pkl']"
      ]
     },
     "execution_count": 3,
     "metadata": {},
     "output_type": "execute_result"
    }
   ],
   "source": [
    "# Fit the final model\n",
    "rf_model_pipeline3 = Pipeline(steps=[['scaler',StandardScaler()],\n",
    "                                    ['rf_regressor',RandomForestRegressor(random_state = 2, n_jobs = 32)]])\n",
    "rf_model_pipeline3.fit(Xfull, Yfull)\n",
    "print(\"saving pickled file\")\n",
    "# Save to pickled file\n",
    "filename = 'Results/FinalModels/rf_model_pipeline3_combined_features_{}.pkl'.format(buffer_size_m)\n",
    "joblib.dump(rf_model_pipeline3, filename)"
   ]
  },
  {
   "cell_type": "code",
   "execution_count": 20,
   "metadata": {},
   "outputs": [],
   "source": [
    "Xfull.to_csv('Results/FinalModels/Xfull_rf_model_pipeline1_combined_features_{}.csv'.format(buffer_size_m), index=False)\n",
    "Yfull_df=pd.DataFrame(Yfull)\n",
    "Yfull_df.to_csv('Results/FinalModels/Yfull_rf_model_pipeline1_combined_features_{}.csv'.format(buffer_size_m), index=False)"
   ]
  }
 ],
 "metadata": {
  "hide_input": false,
  "kernelspec": {
   "display_name": "Python 3 (ipykernel)",
   "language": "python",
   "name": "python3"
  },
  "language_info": {
   "codemirror_mode": {
    "name": "ipython",
    "version": 3
   },
   "file_extension": ".py",
   "mimetype": "text/x-python",
   "name": "python",
   "nbconvert_exporter": "python",
   "pygments_lexer": "ipython3",
   "version": "3.7.15"
  }
 },
 "nbformat": 4,
 "nbformat_minor": 2
}
