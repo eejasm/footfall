{
 "cells": [
  {
   "cell_type": "markdown",
   "metadata": {},
   "source": [
    "# Model selection\n",
    "\n",
    "Cross-validation is used here to select the best model. In this script it is used to test the best machine learning model for use in this context.\n",
    "\n",
    "<u>Tests using the following models :</u>\n",
    "* Linear regression\n",
    "* Random forest regressor\n",
    "* XGBoost\n",
    "* Extra Trees Regressor\n",
    "\n",
    "<u> The following variables are included in the model:</u>\n",
    "* Weather variables (rain, temperature, windspeed)\n",
    "* Time variables (Day of week, month, year, time of day, public holiday)\n",
    "* Sensor environment variables (within a 500m buffer of the sensor):\n",
    "    * Betweenness of the street \n",
    "    * Buildings in proximity to the sensor\n",
    "    * Landmarks in proximity to the sensor  \n",
    "    * Furniture in proximity to the sensor    \n",
    "    * Lights in proximity to the sensor   "
   ]
  },
  {
   "cell_type": "code",
   "execution_count": 70,
   "metadata": {},
   "outputs": [],
   "source": [
    "import pandas as pd\n",
    "from sklearn.linear_model import LinearRegression\n",
    "from sklearn.preprocessing import StandardScaler\n",
    "from sklearn.model_selection import KFold\n",
    "import numpy as np\n",
    "from sklearn.ensemble import RandomForestRegressor, ExtraTreesRegressor \n",
    "import xgboost as xgb\n",
    "from sklearn.pipeline import Pipeline\n",
    "import folium\n",
    "import branca.colormap as cm\n",
    "from eli5.sklearn import PermutationImportance\n",
    "import joblib\n",
    "import os\n",
    "import psutil\n",
    "import geopy.distance\n",
    "from sklearn.model_selection import TimeSeriesSplit\n",
    "\n",
    "from Functions import *\n",
    "\n",
    "#https://goldinlocks.github.io/Time-Series-Cross-Validation/ \n",
    "class BlockingTimeSeriesSplit():\n",
    "    def __init__(self, n_splits):\n",
    "        self.n_splits = n_splits\n",
    "    \n",
    "    def get_n_splits(self, X, y, groups):\n",
    "        return self.n_splits\n",
    "    \n",
    "    def split(self, X, y=None, groups=None):\n",
    "        # Define number of samples\n",
    "        n_samples = len(X)\n",
    "        # Define how many samples will be in each of the folds (number of samples divided by number of splits)\n",
    "        k_fold_size = n_samples // self.n_splits\n",
    "        # Get an indice for every value in the dataset\n",
    "        indices = np.arange(n_samples)\n",
    "                \n",
    "        margin = 0\n",
    "        # For each of the folds\n",
    "        for i in range(self.n_splits):\n",
    "            # Find the start, and end (and middle?) index of the fold\n",
    "            start = i * k_fold_size\n",
    "            stop = start + k_fold_size\n",
    "            # This is where the training data stops and testing starts\n",
    "            mid = int(0.9 * (stop - start)) + start\n",
    "            \n",
    "            training_indices = indices[start: mid]\n",
    "            test_indices = indices[mid + margin: stop]\n",
    "            \n",
    "            yield training_indices, test_indices\n",
    "            \n",
    "# class BlockingTimeSeriesSplit():\n",
    "#     def __init__(self, n_splits):\n",
    "#         self.n_splits = n_splits\n",
    "    \n",
    "#     def get_n_splits(self, X, y, groups):\n",
    "#         return self.n_splits\n",
    "    \n",
    "#     def split(self, X, y=None, groups=None):\n",
    "#         # Define number of samples\n",
    "#         n_samples = len(X)\n",
    "#         # Define how many samples will be in each of the folds (number of samples divided by number of splits)\n",
    "#         k_fold_size = n_samples // self.n_splits\n",
    "#         # Get an indice for every value in the dataset\n",
    "#         indices = np.arange(n_samples)\n",
    "                \n",
    "#         margin = 0\n",
    "#         # For each of the folds\n",
    "#         for i in range(self.n_splits):\n",
    "#             # Find the start, and end (and middle?) index of the fold\n",
    "#             start = i * k_fold_size\n",
    "#             stop = start + k_fold_size\n",
    "#             # This is where the training data stops and testing starts\n",
    "#             mid = int(0.9 * (stop - start)) + start\n",
    "#             yield indices[start: mid], indices[mid + margin: stop]            "
   ]
  },
  {
   "cell_type": "markdown",
   "metadata": {},
   "source": [
    "### Get cluster numbers"
   ]
  },
  {
   "cell_type": "code",
   "execution_count": 31,
   "metadata": {},
   "outputs": [],
   "source": [
    "cluster_numbers = pd.read_csv(\"../Data/FootfallData/melbourne_locations.csv\")[['sensor_id','Cluster_num_5clusters']]"
   ]
  },
  {
   "cell_type": "markdown",
   "metadata": {},
   "source": [
    "### Get data"
   ]
  },
  {
   "cell_type": "code",
   "execution_count": 4,
   "metadata": {},
   "outputs": [],
   "source": [
    "buffer_size_m = 500\n",
    "input_csv =\"../Cleaned_data/FormattedDataForModelling/formatted_data_for_modelling_allsensors_{}.csv\".format(buffer_size_m)\n",
    "Xfull, Yfull, data_time_columns = prepare_x_y_data(input_csv)"
   ]
  },
  {
   "cell_type": "code",
   "execution_count": 27,
   "metadata": {},
   "outputs": [],
   "source": [
    "Xfull['sensor_id'] = pd.read_csv(input_csv)['sensor_id']"
   ]
  },
  {
   "cell_type": "code",
   "execution_count": 33,
   "metadata": {},
   "outputs": [],
   "source": [
    "Xfull = pd.merge(Xfull, cluster_numbers, on='sensor_id', how='left')"
   ]
  },
  {
   "cell_type": "markdown",
   "metadata": {},
   "source": [
    "### Join the cluster number data"
   ]
  },
  {
   "cell_type": "code",
   "execution_count": 24,
   "metadata": {},
   "outputs": [],
   "source": [
    "# Predictor variables\n",
    "X=Xfull\n",
    "# Define number of samples in dataset\n",
    "n_samples = len(X)\n",
    "# Get an indice for every value in the dataset\n",
    "indices = np.arange(n_samples)\n",
    "# Number of temporal splits\n",
    "n_temporal_splits= 10\n",
    "# Define how many samples will be in each of the temporal folds (number of samples divided by number of splits)\n",
    "k_fold_size = n_samples // n_temporal_splits\n",
    "# Number of spatial clusters\n",
    "n_spatial_clusters= 5"
   ]
  },
  {
   "cell_type": "code",
   "execution_count": null,
   "metadata": {},
   "outputs": [],
   "source": [
    "class BlockingTimeSeriesSplit():\n",
    "    def __init__(self, n_splits):\n",
    "        self.n_splits = n_splits\n",
    "    \n",
    "    def get_n_splits(self, X, y, groups):\n",
    "        return self.n_splits\n",
    "    \n",
    "    def split(self, X, y=None, groups=None):\n",
    "        # Define number of samples\n",
    "        n_samples = len(X)\n",
    "        # Define how many samples will be in each of the folds (number of samples divided by number of splits)\n",
    "        k_fold_size = n_samples // self.n_splits\n",
    "        # Get an indice for every value in the dataset\n",
    "        indices = np.arange(n_samples)\n",
    "                \n",
    "        # I think the margin is about leaving a space between folds\n",
    "        margin = 0\n",
    "\n",
    "        ###############################################################\n",
    "        ###############################################################\n",
    "        # For each of the temporal folds\n",
    "        ###############################################################\n",
    "        ###############################################################\n",
    "        for temporal_i in range(n_temporal_splits):\n",
    "            print(f\"Temporal split number {temporal_i}\")\n",
    "\n",
    "            # Find the start, and end index of the temporal split\n",
    "            start = temporal_i * k_fold_size\n",
    "            stop = start + k_fold_size\n",
    "\n",
    "            # Find the mid point of this split (where the testing data stops and training starts)\n",
    "            mid = int(0.9 * (stop - start)) + start\n",
    "            # Get the indices equating to the rows which will be in the training and testing portions for this temporal split\n",
    "            training_indices = indices[start: mid]\n",
    "            test_indices = indices[mid + margin: stop]\n",
    "\n",
    "            ###############################################################\n",
    "            ###############################################################\n",
    "            # Create 3 sets of training and testing indices\n",
    "            ###############################################################\n",
    "            ###############################################################\n",
    "            # For each of the spatial clusters\n",
    "            for spatial_i in range(len(list(range(0,n_spatial_clusters)))):\n",
    "                print(f\"spatial cluster number {spatial_i}\")\n",
    "\n",
    "                # For this spatial iteration, create lists to store the training and testing indices \n",
    "                this_cluster_trainingindices = []\n",
    "                this_cluster_testingindices = []\n",
    "\n",
    "                # For this spatial iteration, define the clusters which will be used in testing\n",
    "                training_clusters = list(range(0,n_spatial_clusters))\n",
    "                training_clusters.pop(spatial_i)\n",
    "                print(f\"Clusters {training_clusters} being used here in training\")\n",
    "\n",
    "                # For each of the training indices, check if it's in a training cluster\n",
    "                for training_idx in training_indices:\n",
    "                    # Get the cluster number of each row in the temporal training set\n",
    "                    cluster_num = Xfull.iloc[training_idx]['Cluster_num_5clusters']\n",
    "                    # If this cluster number is in the spatial training set, add to training indices list for this cluster\n",
    "                    # If not, add to testing indicies for this cluster\n",
    "                    if cluster_num in training_clusters:\n",
    "                        this_cluster_trainingindices.append(training_idx)\n",
    "                    else:\n",
    "                        this_cluster_testingindices.append(training_idx)    \n",
    "\n",
    "                yield np.array(this_cluster_trainingindices), np.array(this_cluster_testingindices)"
   ]
  },
  {
   "cell_type": "code",
   "execution_count": null,
   "metadata": {},
   "outputs": [],
   "source": [
    "n_spatial_clusters"
   ]
  },
  {
   "cell_type": "code",
   "execution_count": 77,
   "metadata": {},
   "outputs": [
    {
     "ename": "SyntaxError",
     "evalue": "'yield' outside function (1994800714.py, line 51)",
     "output_type": "error",
     "traceback": [
      "\u001b[0;36m  File \u001b[0;32m\"/tmp/ipykernel_392964/1994800714.py\"\u001b[0;36m, line \u001b[0;32m51\u001b[0m\n\u001b[0;31m    yield np.array(this_cluster_trainingindices), np.array(this_cluster_testingindices)\u001b[0m\n\u001b[0m    ^\u001b[0m\n\u001b[0;31mSyntaxError\u001b[0m\u001b[0;31m:\u001b[0m 'yield' outside function\n"
     ]
    }
   ],
   "source": [
    "# I think the margin is about leaving a space between folds\n",
    "margin = 0\n",
    "\n",
    "###############################################################\n",
    "###############################################################\n",
    "# For each of the temporal folds\n",
    "###############################################################\n",
    "###############################################################\n",
    "for temporal_i in range(n_temporal_splits):\n",
    "    print(f\"Temporal split number {i}\")\n",
    "   \n",
    "    # Find the start, and end index of the temporal split\n",
    "    start = temporal_i * k_fold_size\n",
    "    stop = start + k_fold_size\n",
    "    \n",
    "    # Find the mid point of this split (where the testing data stops and training starts)\n",
    "    mid = int(0.9 * (stop - start)) + start\n",
    "    # Get the indices equating to the rows which will be in the training and testing portions for this temporal split\n",
    "    training_indices = indices[start: mid]\n",
    "    test_indices = indices[mid + margin: stop]\n",
    "    \n",
    "    ###############################################################\n",
    "    ###############################################################\n",
    "    # Create 3 sets of training and testing indices\n",
    "    ###############################################################\n",
    "    ###############################################################\n",
    "    # For each of the spatial clusters\n",
    "    for spatial_i in range(len(list(range(0,n_spatial_clusters)))):\n",
    "\n",
    "        # For this spatial iteration, create lists to store the training and testing indices \n",
    "        this_cluster_trainingindices = []\n",
    "        this_cluster_testingindices = []\n",
    "\n",
    "        # For this spatial iteration, define the clusters which will be used in testing\n",
    "        training_clusters = list(range(0,n_spatial_clusters))\n",
    "        training_clusters.pop(spatial_i)\n",
    "        print(f\"Clusters {training_clusters} being used here in training\")\n",
    "\n",
    "        # For each of the training indices, check if it's in a training cluster\n",
    "        for training_idx in training_indices:\n",
    "            # Get the cluster number of each row in the temporal training set\n",
    "            cluster_num = Xfull.iloc[training_idx]['Cluster_num_5clusters']\n",
    "            # If this cluster number is in the spatial training set, add to training indices list for this cluster\n",
    "            # If not, add to testing indicies for this cluster\n",
    "            if cluster_num in training_clusters:\n",
    "                this_cluster_trainingindices.append(training_idx)\n",
    "            else:\n",
    "                this_cluster_testingindices.append(training_idx)    \n",
    "        \n"
   ]
  },
  {
   "cell_type": "code",
   "execution_count": null,
   "metadata": {},
   "outputs": [],
   "source": [
    "# Create the BlockedTimeSeriesSplit object\n",
    "n_temporal_blocks=10\n",
    "btss = BlockingTimeSeriesSplit(n_splits=n_temporal_blocks)"
   ]
  },
  {
   "cell_type": "code",
   "execution_count": null,
   "metadata": {},
   "outputs": [],
   "source": [
    "for fold, (train_index, test_index) in enumerate(btss.split(Xfull)):\n",
    "    print(fold, test_index, train_index)"
   ]
  },
  {
   "cell_type": "markdown",
   "metadata": {},
   "source": [
    "## Run models with cross-validation"
   ]
  },
  {
   "cell_type": "markdown",
   "metadata": {},
   "source": [
    "### Define the error metrics for the cross-validation to return, and the parameters of the cross validation"
   ]
  },
  {
   "cell_type": "code",
   "execution_count": 14,
   "metadata": {},
   "outputs": [],
   "source": [
    "error_metrics = ['neg_mean_absolute_error', 'r2', 'neg_root_mean_squared_error', 'neg_mean_absolute_percentage_error']\n",
    "cv_parameters = KFold(n_splits=10, random_state=1, shuffle=True)\n",
    "cv_parameters = btscv = BlockingTimeSeriesSplit(n_splits=10)"
   ]
  },
  {
   "cell_type": "code",
   "execution_count": 15,
   "metadata": {},
   "outputs": [],
   "source": [
    "lr_model_pipeline = Pipeline(steps=[['scaler',StandardScaler()],['linear_regressor',LinearRegression()]])\n",
    "rf_model_pipeline = Pipeline(steps=[['scaler',StandardScaler()],['rf_regressor', RandomForestRegressor(random_state = 1, n_jobs = 10)]])\n",
    "xgb_model_pipeline = Pipeline(steps=[['scaler',StandardScaler()],['xgb_regressor',xgb.XGBRegressor(random_state=1, n_jobs = 16)]])\n",
    "et_model_pipeline = Pipeline(steps=[['scaler',StandardScaler()],['et_regressor',ExtraTreesRegressor (random_state = 1, n_jobs = 16)]])"
   ]
  },
  {
   "cell_type": "code",
   "execution_count": 16,
   "metadata": {},
   "outputs": [],
   "source": [
    "models_dict = {\"rf_regressor\":rf_model_pipeline,\n",
    "               \"linear_regressor\": lr_model_pipeline, \"xgb_regressor\":xgb_model_pipeline\n",
    "              }"
   ]
  },
  {
   "cell_type": "markdown",
   "metadata": {},
   "source": [
    "### Prepare data for modelling"
   ]
  },
  {
   "cell_type": "code",
   "execution_count": 41,
   "metadata": {},
   "outputs": [],
   "source": [
    "Xfull, Yfull, data_time_columns = prepare_x_y_data(input_csv)"
   ]
  },
  {
   "cell_type": "code",
   "execution_count": 43,
   "metadata": {},
   "outputs": [],
   "source": [
    "# Add sensor_ids\n",
    "sensor_ids = pd.read_csv(input_csv)['sensor_id']\n",
    "Xfull['sensor_id'] = sensor_ids"
   ]
  },
  {
   "cell_type": "code",
   "execution_count": 44,
   "metadata": {},
   "outputs": [],
   "source": [
    "# Join to the cluster number (for cross validation)\n",
    "test = Xfull.merge(cluster_numbers, on=['sensor_id'], how='left')"
   ]
  },
  {
   "cell_type": "markdown",
   "metadata": {},
   "source": [
    "### Remove year"
   ]
  },
  {
   "cell_type": "code",
   "execution_count": null,
   "metadata": {},
   "outputs": [],
   "source": [
    "# del Xfull['year']"
   ]
  },
  {
   "cell_type": "markdown",
   "metadata": {},
   "source": [
    "### Choose which month_num and weekday_num option to include"
   ]
  },
  {
   "cell_type": "code",
   "execution_count": null,
   "metadata": {},
   "outputs": [],
   "source": [
    "# If using the dummy variables\n",
    "# Xfull.drop(['Cos_month_num', 'Sin_month_num', 'Cos_weekday_num', 'Sin_weekday_num'], axis=1)\n",
    "# If using the cyclical variables\n",
    "Xfull.drop(['Monday', 'Saturday', 'Sunday', 'Thursday', 'Tuesday', 'Wednesday',\n",
    "       'month_2', 'month_3', 'month_4', 'month_5', 'month_6', 'month_7',\n",
    "       'month_8', 'month_9', 'month_10', 'month_11', 'month_12'], axis=1, inplace = True)"
   ]
  },
  {
   "cell_type": "markdown",
   "metadata": {},
   "source": [
    "### Run model with cross validation"
   ]
  },
  {
   "cell_type": "code",
   "execution_count": 62,
   "metadata": {},
   "outputs": [],
   "source": [
    "models_dict = {\"rf_regressor\":rf_model_pipeline}"
   ]
  },
  {
   "cell_type": "code",
   "execution_count": 80,
   "metadata": {},
   "outputs": [],
   "source": [
    "# Create the BlockedTimeSeriesSplit object\n",
    "n_temporal_blocks=10\n",
    "btss = BlockingTimeSeriesSplit(n_splits=n_temporal_blocks)"
   ]
  },
  {
   "cell_type": "code",
   "execution_count": 81,
   "metadata": {},
   "outputs": [
    {
     "name": "stdout",
     "output_type": "stream",
     "text": [
      "Temporal split number 1\n",
      "spatial cluster number 0\n",
      "Clusters [1] being used here in training\n",
      "0 [     0      4      5 ... 371604 371609 371611] [     1      2      3 ... 371614 371615 371616]\n",
      "spatial cluster number 1\n",
      "Clusters [0] being used here in training\n",
      "1 [     0      1      2 ... 371614 371615 371616] [     4     16     34 ... 371556 371587 371597]\n",
      "Temporal split number 1\n",
      "spatial cluster number 0\n",
      "Clusters [1] being used here in training\n",
      "2 [412908 412921 412925 ... 784514 784520 784521] [412909 412910 412911 ... 784522 784523 784524]\n",
      "spatial cluster number 1\n",
      "Clusters [0] being used here in training\n",
      "3 [412908 412909 412910 ... 784522 784523 784524] [412925 412926 412944 ... 784501 784512 784520]\n",
      "Temporal split number 1\n",
      "spatial cluster number 0\n",
      "Clusters [1] being used here in training\n",
      "4 [ 825822  825827  825829 ... 1197422 1197425 1197428] [ 825816  825817  825818 ... 1197430 1197431 1197432]\n",
      "spatial cluster number 1\n",
      "Clusters [0] being used here in training\n",
      "5 [ 825816  825817  825818 ... 1197430 1197431 1197432] [ 825836  825844  825848 ... 1197392 1197396 1197419]\n",
      "Temporal split number 1\n",
      "spatial cluster number 0\n",
      "Clusters [1] being used here in training\n",
      "6 [1238728 1238731 1238733 ... 1610335 1610336 1610338] [1238724 1238725 1238726 ... 1610337 1610339 1610340]\n",
      "spatial cluster number 1\n",
      "Clusters [0] being used here in training\n",
      "7 [1238724 1238725 1238726 ... 1610337 1610339 1610340] [1238745 1238769 1238770 ... 1610314 1610318 1610338]\n",
      "Temporal split number 1\n",
      "spatial cluster number 0\n",
      "Clusters [1] being used here in training\n",
      "8 [1651635 1651637 1651638 ... 2023245 2023247 2023248] [1651632 1651633 1651634 ... 2023242 2023244 2023246]\n",
      "spatial cluster number 1\n",
      "Clusters [0] being used here in training\n",
      "9 [1651632 1651633 1651634 ... 2023245 2023246 2023248] [1651640 1651643 1651645 ... 2023239 2023241 2023247]\n",
      "Temporal split number 1\n",
      "spatial cluster number 0\n",
      "Clusters [1] being used here in training\n",
      "10 [2064540 2064543 2064544 ... 2436152 2436154 2436156] [2064541 2064542 2064545 ... 2436151 2436153 2436155]\n",
      "spatial cluster number 1\n",
      "Clusters [0] being used here in training\n",
      "11 [2064540 2064541 2064542 ... 2436154 2436155 2436156] [2064559 2064575 2064581 ... 2436119 2436122 2436131]\n",
      "Temporal split number 1\n",
      "spatial cluster number 0\n",
      "Clusters [1] being used here in training\n",
      "12 [2477450 2477455 2477457 ... 2849055 2849056 2849058] [2477448 2477449 2477451 ... 2849062 2849063 2849064]\n",
      "spatial cluster number 1\n",
      "Clusters [0] being used here in training\n",
      "13 [2477448 2477449 2477450 ... 2849062 2849063 2849064] [2477458 2477459 2477478 ... 2849045 2849050 2849056]\n",
      "Temporal split number 1\n",
      "spatial cluster number 0\n",
      "Clusters [1] being used here in training\n",
      "14 [2890358 2890359 2890364 ... 3261966 3261967 3261972] [2890356 2890357 2890360 ... 3261969 3261970 3261971]\n",
      "spatial cluster number 1\n",
      "Clusters [0] being used here in training\n",
      "15 [2890356 2890357 2890358 ... 3261970 3261971 3261972] [2890364 2890384 2890387 ... 3261939 3261947 3261953]\n",
      "Temporal split number 1\n",
      "spatial cluster number 0\n",
      "Clusters [1] being used here in training\n",
      "16 [3303270 3303272 3303274 ... 3674874 3674876 3674877] [3303264 3303265 3303266 ... 3674878 3674879 3674880]\n",
      "spatial cluster number 1\n",
      "Clusters [0] being used here in training\n",
      "17 [3303264 3303265 3303266 ... 3674878 3674879 3674880] [3303270 3303274 3303277 ... 3674845 3674867 3674877]\n",
      "Temporal split number 1\n",
      "spatial cluster number 0\n",
      "Clusters [1] being used here in training\n",
      "18 [3716174 3716175 3716177 ... 4087785 4087786 4087788] [3716172 3716173 3716176 ... 4087782 4087784 4087787]\n",
      "spatial cluster number 1\n",
      "Clusters [0] being used here in training\n",
      "19 [3716172 3716173 3716175 ... 4087786 4087787 4087788] [3716174 3716185 3716204 ... 4087774 4087780 4087783]\n"
     ]
    }
   ],
   "source": [
    "for fold, (train_index, test_index) in enumerate(btss.split(Xfull)):\n",
    "    print(fold, test_index, train_index)"
   ]
  },
  {
   "cell_type": "code",
   "execution_count": null,
   "metadata": {},
   "outputs": [
    {
     "name": "stdout",
     "output_type": "stream",
     "text": [
      "Temporal split number 1\n",
      "spatial cluster number 0\n",
      "Clusters [1] being used here in training\n"
     ]
    },
    {
     "data": {
      "image/png": "[encoded data removed]",
      "text/plain": [
       "<Figure size 800x300 with 1 Axes>"
      ]
     },
     "metadata": {},
     "output_type": "display_data"
    },
    {
     "name": "stdout",
     "output_type": "stream",
     "text": [
      "spatial cluster number 1\n",
      "Clusters [0] being used here in training\n"
     ]
    },
    {
     "data": {
      "image/png": "[encoded data removed]",
      "text/plain": [
       "<Figure size 800x300 with 1 Axes>"
      ]
     },
     "metadata": {},
     "output_type": "display_data"
    },
    {
     "name": "stdout",
     "output_type": "stream",
     "text": [
      "Temporal split number 1\n",
      "spatial cluster number 0\n",
      "Clusters [1] being used here in training\n"
     ]
    },
    {
     "data": {
      "image/png": "[encoded data removed]",
      "text/plain": [
       "<Figure size 800x300 with 1 Axes>"
      ]
     },
     "metadata": {},
     "output_type": "display_data"
    },
    {
     "name": "stdout",
     "output_type": "stream",
     "text": [
      "spatial cluster number 1\n",
      "Clusters [0] being used here in training\n"
     ]
    },
    {
     "data": {
      "image/png": "[encoded data removed]",
      "text/plain": [
       "<Figure size 800x300 with 1 Axes>"
      ]
     },
     "metadata": {},
     "output_type": "display_data"
    },
    {
     "name": "stdout",
     "output_type": "stream",
     "text": [
      "Temporal split number 1\n",
      "spatial cluster number 0\n",
      "Clusters [1] being used here in training\n"
     ]
    },
    {
     "data": {
      "image/png": "[encoded data removed]",
      "text/plain": [
       "<Figure size 800x300 with 1 Axes>"
      ]
     },
     "metadata": {},
     "output_type": "display_data"
    },
    {
     "name": "stdout",
     "output_type": "stream",
     "text": [
      "spatial cluster number 1\n",
      "Clusters [0] being used here in training\n"
     ]
    },
    {
     "data": {
      "image/png": "[encoded data removed]",
      "text/plain": [
       "<Figure size 800x300 with 1 Axes>"
      ]
     },
     "metadata": {},
     "output_type": "display_data"
    },
    {
     "name": "stdout",
     "output_type": "stream",
     "text": [
      "Temporal split number 1\n",
      "spatial cluster number 0\n",
      "Clusters [1] being used here in training\n"
     ]
    },
    {
     "data": {
      "image/png": "[encoded data removed]",
      "text/plain": [
       "<Figure size 800x300 with 1 Axes>"
      ]
     },
     "metadata": {},
     "output_type": "display_data"
    },
    {
     "name": "stdout",
     "output_type": "stream",
     "text": [
      "spatial cluster number 1\n",
      "Clusters [0] being used here in training\n"
     ]
    },
    {
     "data": {
      "image/png": "[encoded data removed]",
      "text/plain": [
       "<Figure size 800x300 with 1 Axes>"
      ]
     },
     "metadata": {},
     "output_type": "display_data"
    },
    {
     "name": "stdout",
     "output_type": "stream",
     "text": [
      "Temporal split number 1\n",
      "spatial cluster number 0\n",
      "Clusters [1] being used here in training\n"
     ]
    }
   ],
   "source": [
    "data = Yfull\n",
    "for fold, (train_index, test_index) in enumerate(btss.split(data)):\n",
    "    # Plot the fold indices\n",
    "    plt.figure(figsize=(8, 3))\n",
    "    plt.plot(np.arange(len(data)), np.zeros_like(data), 'r-', lw=2, label='Data')\n",
    "    plt.scatter(train_index, np.zeros_like(train_index), c='b', marker='o', label='Train')\n",
    "    plt.scatter(test_index, np.zeros_like(test_index), c='g', marker='o', label='Test')\n",
    "    plt.title(f'Fold {fold+1}')\n",
    "    plt.legend(loc='upper left')\n",
    "    plt.ylim(-0.1, 0.1)\n",
    "    plt.show()"
   ]
  },
  {
   "cell_type": "code",
   "execution_count": 48,
   "metadata": {},
   "outputs": [],
   "source": [
    "cv_parameters = BlockingTimeSeriesSplit(n_splits=10)\n",
    "# cv_parameters =  KFold(n_splits=10, random_state=1, shuffle=True)\n",
    "# cv_parameters = TimeSeriesSplit(n_splits=10)"
   ]
  },
  {
   "cell_type": "code",
   "execution_count": 63,
   "metadata": {},
   "outputs": [
    {
     "name": "stdout",
     "output_type": "stream",
     "text": [
      "[      0       1       2 ... 1238721 1238722 1238723] [1238724 1238725 1238726 ... 1376357 1376358 1376359]\n",
      "[1376360 1376361 1376362 ... 2615081 2615082 2615083] [2615084 2615085 2615086 ... 2752717 2752718 2752719]\n",
      "[2752720 2752721 2752722 ... 3991441 3991442 3991443] [3991444 3991445 3991446 ... 4129077 4129078 4129079]\n"
     ]
    }
   ],
   "source": [
    "# Create the BlockedTimeSeriesSplit object\n",
    "btss = BlockingTimeSeriesSplit(n_splits=3)\n",
    "# Perform cross-validation with spatial and temporal blocking\n",
    "for train_temporal_index, test_temporal_index in btss.split(X):\n",
    "    print(train_temporal_index, test_temporal_index)"
   ]
  },
  {
   "cell_type": "code",
   "execution_count": 65,
   "metadata": {},
   "outputs": [
    {
     "name": "stdout",
     "output_type": "stream",
     "text": [
      "rf_regressor\n",
      "Ran in 4 minutes\n"
     ]
    }
   ],
   "source": [
    "# Dataframe to store the scores for all the models\n",
    "#error_metric_scores = pd.DataFrame()\n",
    "\n",
    "for model_name, model_pipeline in models_dict.items():\n",
    "    print(model_name)\n",
    "    # Use cross_validate to return the error scores associated with this model and this data\n",
    "    start = time()\n",
    "    model_output = cross_validate(model_pipeline, Xfull, Yfull, cv=cv_parameters, scoring=error_metrics, error_score=\"raise\")\n",
    "    end = time()\n",
    "    print('Ran in {} minutes'.format(round((end - start)/60),2))\n",
    "    \n",
    "    # Formulate the different error scores into a dataframe\n",
    "    error_metrics_df =pd.DataFrame({'mae': round(abs(model_output['test_neg_mean_absolute_error'].mean()),2), \n",
    "                  'mape': round(abs(model_output['test_neg_mean_absolute_percentage_error'].mean()),2),\n",
    "                  'r2': round(abs(model_output['test_r2'].mean()),2), \n",
    "                  'rmse': round(abs(model_output['test_neg_root_mean_squared_error'].mean()),2)},\n",
    "                 index =[model_name])\n",
    "        \n",
    "    # Add evaluation metric scores for this model to the dataframe containing the metrics for each model\n",
    "    error_metric_scores = error_metric_scores.append(error_metrics_df)\n",
    "    # Save error scores for this distance to file\n",
    "    error_metrics_df.to_csv('Results/CV/ComparingModels/{}_{}m_error_metric_scores.csv'.format(model_name,buffer_size_m),index=False)    \n",
    "\n",
    "# Save dataframes of error metrics for each buffer distance \n",
    "error_metric_scores.to_csv('Results/CV/ComparingModels/comparingmodels_error_metric_scores.csv')   "
   ]
  },
  {
   "cell_type": "markdown",
   "metadata": {},
   "source": [
    "### Print table showing error metrics associated with each model"
   ]
  },
  {
   "cell_type": "code",
   "execution_count": 68,
   "metadata": {},
   "outputs": [
    {
     "data": {
      "text/html": [
       "<div>\n",
       "<style scoped>\n",
       "    .dataframe tbody tr th:only-of-type {\n",
       "        vertical-align: middle;\n",
       "    }\n",
       "\n",
       "    .dataframe tbody tr th {\n",
       "        vertical-align: top;\n",
       "    }\n",
       "\n",
       "    .dataframe thead th {\n",
       "        text-align: right;\n",
       "    }\n",
       "</style>\n",
       "<table border=\"1\" class=\"dataframe\">\n",
       "  <thead>\n",
       "    <tr style=\"text-align: right;\">\n",
       "      <th></th>\n",
       "      <th>mae</th>\n",
       "      <th>mape</th>\n",
       "      <th>r2</th>\n",
       "      <th>rmse</th>\n",
       "    </tr>\n",
       "  </thead>\n",
       "  <tbody>\n",
       "    <tr>\n",
       "      <th>rf_regressor</th>\n",
       "      <td>100.29</td>\n",
       "      <td>2.631653e+15</td>\n",
       "      <td>0.75</td>\n",
       "      <td>199.69</td>\n",
       "    </tr>\n",
       "    <tr>\n",
       "      <th>rf_regressor</th>\n",
       "      <td>100.29</td>\n",
       "      <td>2.631653e+15</td>\n",
       "      <td>0.75</td>\n",
       "      <td>199.69</td>\n",
       "    </tr>\n",
       "    <tr>\n",
       "      <th>rf_regressor</th>\n",
       "      <td>100.29</td>\n",
       "      <td>2.631653e+15</td>\n",
       "      <td>0.75</td>\n",
       "      <td>199.69</td>\n",
       "    </tr>\n",
       "    <tr>\n",
       "      <th>rf_regressor</th>\n",
       "      <td>100.29</td>\n",
       "      <td>2.631653e+15</td>\n",
       "      <td>0.75</td>\n",
       "      <td>199.69</td>\n",
       "    </tr>\n",
       "    <tr>\n",
       "      <th>rf_regressor</th>\n",
       "      <td>58.35</td>\n",
       "      <td>1.438735e+15</td>\n",
       "      <td>0.94</td>\n",
       "      <td>120.87</td>\n",
       "    </tr>\n",
       "    <tr>\n",
       "      <th>rf_regressor</th>\n",
       "      <td>100.29</td>\n",
       "      <td>2.631653e+15</td>\n",
       "      <td>0.75</td>\n",
       "      <td>199.69</td>\n",
       "    </tr>\n",
       "  </tbody>\n",
       "</table>\n",
       "</div>"
      ],
      "text/plain": [
       "                 mae          mape    r2    rmse\n",
       "rf_regressor  100.29  2.631653e+15  0.75  199.69\n",
       "rf_regressor  100.29  2.631653e+15  0.75  199.69\n",
       "rf_regressor  100.29  2.631653e+15  0.75  199.69\n",
       "rf_regressor  100.29  2.631653e+15  0.75  199.69\n",
       "rf_regressor   58.35  1.438735e+15  0.94  120.87\n",
       "rf_regressor  100.29  2.631653e+15  0.75  199.69"
      ]
     },
     "execution_count": 68,
     "metadata": {},
     "output_type": "execute_result"
    }
   ],
   "source": [
    "error_metric_scores"
   ]
  }
 ],
 "metadata": {
  "hide_input": false,
  "kernelspec": {
   "display_name": "Python 3 (ipykernel)",
   "language": "python",
   "name": "python3"
  },
  "language_info": {
   "codemirror_mode": {
    "name": "ipython",
    "version": 3
   },
   "file_extension": ".py",
   "mimetype": "text/x-python",
   "name": "python",
   "nbconvert_exporter": "python",
   "pygments_lexer": "ipython3",
   "version": "3.7.15"
  }
 },
 "nbformat": 4,
 "nbformat_minor": 2
}
