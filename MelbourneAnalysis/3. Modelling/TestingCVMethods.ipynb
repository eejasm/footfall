{
 "cells": [
  {
   "cell_type": "markdown",
   "metadata": {},
   "source": [
    "# Model selection\n",
    "\n",
    "Cross-validation is used here to select the best model. In this script it is used to test the best machine learning model for use in this context.\n",
    "\n",
    "<u>Tests using the following models :</u>\n",
    "* Linear regression\n",
    "* Random forest regressor\n",
    "* XGBoost\n",
    "* Extra Trees Regressor\n",
    "\n",
    "<u> The following variables are included in the model:</u>\n",
    "* Weather variables (rain, temperature, windspeed)\n",
    "* Time variables (Day of week, month, year, time of day, public holiday)\n",
    "* Sensor environment variables (within a 500m buffer of the sensor):\n",
    "    * Betweenness of the street \n",
    "    * Buildings in proximity to the sensor\n",
    "    * Landmarks in proximity to the sensor  \n",
    "    * Furniture in proximity to the sensor    \n",
    "    * Lights in proximity to the sensor   "
   ]
  },
  {
   "cell_type": "code",
   "execution_count": 1,
   "metadata": {},
   "outputs": [],
   "source": [
    "# !pip install -q scikit-learn-extra"
   ]
  },
  {
   "cell_type": "code",
   "execution_count": 1,
   "metadata": {},
   "outputs": [],
   "source": [
    "import sklearn_extra\n",
    "from sklearn_extra.cluster import KMedoids\n",
    "from pyclustering.cluster import cluster_visualizer\n",
    "from sklearn.cluster import KMeans"
   ]
  },
  {
   "cell_type": "code",
   "execution_count": 25,
   "metadata": {},
   "outputs": [],
   "source": [
    "import pandas as pd\n",
    "from sklearn.linear_model import LinearRegression\n",
    "from sklearn.preprocessing import StandardScaler\n",
    "from sklearn.model_selection import KFold\n",
    "import numpy as np\n",
    "from sklearn.ensemble import RandomForestRegressor, ExtraTreesRegressor \n",
    "from sklearn.pipeline import Pipeline\n",
    "import folium\n",
    "import branca.colormap as cm\n",
    "# from eli5.sklearn import PermutationImportance\n",
    "import joblib\n",
    "import os\n",
    "import psutil\n",
    "import geopy.distance\n",
    "from sklearn.model_selection import TimeSeriesSplit\n",
    "import time as time\n",
    "import sklearn_extra\n",
    "from sklearn_extra.cluster import KMedoids\n",
    "#  Spatial packages\n",
    "from shapely.geometry import Point\n",
    "import geopandas as gpd\n",
    "import contextily as cx\n",
    "import matplotlib.colors as colors\n",
    "# Machine learning packages\n",
    "# import xgboost as xgb\n",
    "\n",
    "from Functions import *\n",
    "\n",
    "#https://goldinlocks.github.io/Time-Series-Cross-Validation/ \n",
    "class BlockingTimeSeries_withSpatial_Split():\n",
    "    def __init__(self, n_temporal_splits, n_spatial_clusters, temporal_testing_fraction, datetimes, plot):\n",
    "        self.n_temporal_splits = n_temporal_splits\n",
    "        self.n_spatial_clusters = n_spatial_clusters\n",
    "        self.datetimes = datetimes\n",
    "        self.temporal_testing_fraction = temporal_testing_fraction\n",
    "        \n",
    "    def get_n_splits(self, X, y, groups):\n",
    "        return self.n_temporal_splits\n",
    "    \n",
    "    def get_n_spatial_splits(self, X, y, groups):\n",
    "        return self.n_spatial_clusters  \n",
    "    \n",
    "    @staticmethod\n",
    "    def plot_spatially(melbourne_sensors_in_this_timeslice, n_spatial_clusters,temporal_i,ax):\n",
    "        \n",
    "        # Plot\n",
    "        geometry = [Point(xy) for xy in zip(melbourne_sensors_in_this_timeslice.Longitude,\n",
    "                                            melbourne_sensors_in_this_timeslice.Latitude)]\n",
    "        gdf = gpd.GeoDataFrame(melbourne_sensors_in_this_timeslice, geometry=geometry)\n",
    "        gdf = gdf.set_crs('EPSG:4326')\n",
    "        gdf = gdf.to_crs('epsg:3857')\n",
    "        colors_ls = ['black'] * n_spatial_clusters\n",
    "        color = ['red', 'green', 'blue', 'purple', 'yellow', 'orange','brown','indigo','violet','cyan']\n",
    "\n",
    "        gdf.plot(column=gdf.Cluster_number, ax = ax[temporal_i], markersize = 100, cmap=colors.ListedColormap(color))\n",
    "        cx.add_basemap(ax = ax[temporal_i])\n",
    "        ax[temporal_i].axis('off')\n",
    "        #colors_ls[num] = 'black';\n",
    "        ax[temporal_i].set_axis_off()\n",
    "    \n",
    "    \n",
    "    @staticmethod    \n",
    "    def run_cluster_analysis(X, start, stop, melbourne_sensors, n_spatial_clusters, temporal_i, ax, plot):\n",
    "            \n",
    "            ##############################################################\n",
    "            # Get data for just the timeslice being considered (defined by start:stop)\n",
    "            # And then get a list of sensors which have data during this timeslice\n",
    "            ##############################################################\n",
    "            # Add sensor IDs to the data\n",
    "            X['sensor_id'] = sensor_ids\n",
    "            # Get list of sensors which have data in this time block\n",
    "            list_sensors_this_timeslice = X.iloc[start :stop]['sensor_id'].unique().tolist()\n",
    "            \n",
    "            ##############################################################\n",
    "            # Run K-means clustering using just these sensors (i.e. with data in this timeslice)\n",
    "            # Based on coordinates of sensors\n",
    "            ##############################################################            \n",
    "            # Get dataframe containing coordinates for these sensors\n",
    "            melbourne_sensors_in_this_timeslice = melbourne_sensors[melbourne_sensors['sensor_id'].isin(list_sensors_this_timeslice)].copy()\n",
    "            coordinates_to_cluster = melbourne_sensors_in_this_timeslice[['Latitude','Longitude']].copy()   \n",
    "\n",
    "            # Initialize KMeans instance\n",
    "            kmeans = KMeans(n_clusters=n_spatial_clusters, random_state=0).fit(coordinates_to_cluster)\n",
    "            # coordinates_to_cluster['Kmeans_clusternum'] = kmeans.labels_\n",
    "\n",
    "            ##############################################################\n",
    "            # Join back on to main dataset (X) \n",
    "            # So now X includes a column containing the cluster number of each row\n",
    "            # If the row is from a sensor not present in this timeslice, it will have NA\n",
    "            # Rows not within this timeslice, but with a sensor ID present in this timeslice\n",
    "            # will get the cluster number for that sensor in this timeslice, but this will be overridden\n",
    "            # in the future when that timeslice is considered\n",
    "            ##############################################################      \n",
    "            # Join the cluster number back onto the dataset of sensors present in this timeslice\n",
    "            melbourne_sensors_in_this_timeslice['Cluster_number'] = kmeans.labels_\n",
    "\n",
    "            # Remove a cluster number column if it was already created in previous iteration\n",
    "            if 'Cluster_number' in X.columns:\n",
    "                X = X.drop('Cluster_number', axis=1)\n",
    "            \n",
    "            # Join this onto X (so now all rows with that sensor_id will show as being in that cluster)\n",
    "            # Including rows not within this timeslice, but this shouldn't matter\n",
    "            X = pd.merge(X, melbourne_sensors_in_this_timeslice[['sensor_id','Cluster_number']], on='sensor_id', how='left')\n",
    "\n",
    "            ##############################################################\n",
    "            # Send to plotting function\n",
    "            ##############################################################\n",
    "            if plot == True:\n",
    "                BlockingTimeSeries_withSpatial_Split.plot_spatially(melbourne_sensors_in_this_timeslice,\n",
    "                                                                   n_spatial_clusters, temporal_i, ax)\n",
    "            \n",
    "            return X\n",
    "            \n",
    "    \n",
    "    def split(self, X, datetimes, y=None, groups=None):\n",
    "        # Define number of samples\n",
    "        n_samples = len(X)\n",
    "        # Define how many samples will be in each of the folds (number of samples divided by number of splits)\n",
    "        k_fold_size = n_samples // self.n_temporal_splits\n",
    "        # Get an indice for every value in the dataset\n",
    "        indices = np.arange(n_samples)\n",
    "                \n",
    "        # I think the margin is about leaving a space between folds\n",
    "        margin = 0\n",
    "        \n",
    "        ###############################################################\n",
    "        ###############################################################\n",
    "        # For each of the temporal folds\n",
    "        ###############################################################\n",
    "        ###############################################################\n",
    "        plot = fig, ax = plt.subplots(ncols = self.n_temporal_splits, figsize=(20,20))\n",
    "        for temporal_i in range(self.n_temporal_splits):\n",
    "            print(f\"Temporal split number {temporal_i}\")\n",
    "\n",
    "            # Find the start, and end index of the temporal split\n",
    "            start = temporal_i * k_fold_size\n",
    "            stop = start + k_fold_size\n",
    "            # Find the mid point of this split (where the testing data stops and training starts)\n",
    "            mid = int(self.temporal_testing_fraction * (stop - start)) + start\n",
    "            # Get the indices equating to the rows which will be in the training and testing portions for this temporal split\n",
    "            training_indices = pd.Series (indices[start: mid])\n",
    "            test_indices =pd.Series(indices[mid + margin: stop])\n",
    "            print(start, stop)\n",
    "            print(f\"Start: {self.datetimes[start]}, end: {self.datetimes[stop]}\")\n",
    "            \n",
    "            ###############################################################\n",
    "            ###############################################################\n",
    "            # For the portion of data being used in this timeslice (incl. both testing and training):\n",
    "                # Assign sensor's to clusters (using only the sensors present in this timeslice, sensors not \n",
    "                # in this timeslice will get a NA for cluster_number)\n",
    "            ###############################################################\n",
    "            ###############################################################\n",
    "            X_thistimeslice = BlockingTimeSeries_withSpatial_Split.run_cluster_analysis(X=X, start = start , stop =stop,\n",
    "                             melbourne_sensors= melbourne_sensors, n_spatial_clusters=self.n_spatial_clusters, \n",
    "                             temporal_i=temporal_i, ax=ax, plot = True)\n",
    "            \n",
    "            ###############################################################\n",
    "            ###############################################################\n",
    "            # Create n_spatial_clusters versions of this temporal fold\n",
    "            # In each case only using the training rows found within n_spatial_clusters - 1 of the clusters\n",
    "            # and only keeping testing rows found within the other row\n",
    "            ###############################################################\n",
    "            ###############################################################\n",
    "            # For each of the spatial clusters\n",
    "            for spatial_i in range(len(list(range(0,self.n_spatial_clusters)))):\n",
    "                # print(f\"Spatial split number {spatial_i}\")\n",
    "                \n",
    "                # For this spatial iteration, create lists to store the training and testing indices \n",
    "                this_cluster_trainingindices = []\n",
    "                this_cluster_testingindices = []\n",
    "\n",
    "                # For this spatial iteration, define the clusters which will be used in testing and training\n",
    "                training_clusters = list(range(0,self.n_spatial_clusters))\n",
    "                training_clusters.pop(spatial_i)\n",
    "                testing_clusters = [spatial_i]\n",
    "                \n",
    "                # Find the indices of rows which \n",
    "                this_cluster_trainingindices = X_thistimeslice.iloc[training_indices][X_thistimeslice.iloc[training_indices]['Cluster_number'].isin(training_clusters)].index.values.tolist()\n",
    "                this_cluster_testingindices = X_thistimeslice.iloc[test_indices][X_thistimeslice.iloc[test_indices]['Cluster_number'].isin(testing_clusters)].index.values.tolist()\n",
    "                \n",
    "                #print(f\"Clusters {training_clusters} being used here in training. \"\n",
    "                #      f\"There are {len(this_cluster_trainingindices)} rows of training data in this cluster\")\n",
    "                      \n",
    "                # print(f\"Clusters {testing_clusters} being used here in testing. \"\n",
    "                #     f\"There are {len(this_cluster_testingindices)} rows of testing data in this cluster\")\n",
    "                \n",
    "                print(f\"Testing data is {round((len(this_cluster_testingindices)/len(this_cluster_trainingindices))*100,1)}\"\n",
    "                      f\"% of training data\")\n",
    "                \n",
    "                yield np.array(this_cluster_trainingindices), np.array(this_cluster_testingindices)\n",
    "                \n",
    "        return plot"
   ]
  },
  {
   "cell_type": "markdown",
   "metadata": {},
   "source": [
    "### Get data"
   ]
  },
  {
   "cell_type": "code",
   "execution_count": 4,
   "metadata": {
    "scrolled": true
   },
   "outputs": [],
   "source": [
    "buffer_size_m = 500\n",
    "input_csv =\"../Cleaned_data/FormattedDataForModelling/formatted_data_for_modelling_allsensors_{}.csv\".format(buffer_size_m)\n",
    "Xfull, Yfull, data_time_columns = prepare_x_y_data(input_csv)"
   ]
  },
  {
   "cell_type": "markdown",
   "metadata": {},
   "source": [
    "### Test kmediods"
   ]
  },
  {
   "cell_type": "code",
   "execution_count": 31,
   "metadata": {},
   "outputs": [],
   "source": [
    "import matplotlib.pyplot as plt\n",
    "from sklearn.datasets import make_blobs\n",
    "from pyclustering.cluster.kmedoids import kmedoids\n",
    "from pyclustering.utils import read_sample\n",
    "from pyclustering.samples.definitions import SIMPLE_SAMPLES\n",
    "from pyclustering.cluster import cluster_visualizer"
   ]
  },
  {
   "cell_type": "code",
   "execution_count": 27,
   "metadata": {},
   "outputs": [],
   "source": [
    "X=Xfull\n",
    "# Add sensor IDs to the data\n",
    "X['sensor_id'] = sensor_ids\n",
    "\n",
    "start = 0\n",
    "stop = 1376360\n",
    "\n",
    "# Get list of sensors which have data in this time block\n",
    "list_sensors_this_timeslice = X.iloc[start :stop]['sensor_id'].unique().tolist()\n",
    "\n",
    "##############################################################\n",
    "# Run K-means clustering using just these sensors (i.e. with data in this timeslice)\n",
    "# Based on coordinates of sensors\n",
    "##############################################################            \n",
    "# Get dataframe containing coordinates for these sensors\n",
    "melbourne_sensors_in_this_timeslice = melbourne_sensors[melbourne_sensors['sensor_id'].isin(list_sensors_this_timeslice)].copy()\n",
    "coordinates_to_cluster = melbourne_sensors_in_this_timeslice[['Latitude','Longitude']].copy()   \n",
    "\n",
    "# Initialize KMeans instance\n",
    "kmeans = KMeans(n_clusters=n_spatial_clusters, random_state=0).fit(coordinates_to_cluster)"
   ]
  },
  {
   "cell_type": "code",
   "execution_count": 51,
   "metadata": {},
   "outputs": [
    {
     "data": {
      "image/png": "[encoded data removed]",
      "text/plain": [
       "<Figure size 640x480 with 1 Axes>"
      ]
     },
     "metadata": {},
     "output_type": "display_data"
    },
    {
     "data": {
      "image/png": "[encoded data removed]",
      "text/plain": [
       "<Figure size 640x480 with 1 Axes>"
      ]
     },
     "execution_count": 51,
     "metadata": {},
     "output_type": "execute_result"
    }
   ],
   "source": [
    "# Initialize K-Medoids with 3 clusters and random initial medoids\n",
    "initial_medoids = np.random.choice(len(np.array(coordinates_to_cluster)), 6, replace=True).tolist()\n",
    "# initial_medoids\n",
    "kmedoids_instance = kmedoids(np.array(coordinates_to_cluster).tolist(), initial_medoids)\n",
    "# # Run K-Medoids clustering\n",
    "kmedoids_instance.process()\n",
    "clusters = kmedoids_instance.get_clusters()\n",
    "# Visualize the clusters\n",
    "visualizer = cluster_visualizer()\n",
    "visualizer.append_clusters(clusters, np.array(coordinates_to_cluster).tolist())\n",
    "visualizer.show()"
   ]
  },
  {
   "cell_type": "code",
   "execution_count": 1,
   "metadata": {},
   "outputs": [],
   "source": [
    "# def balance_clusters(clusters, desired_size=None):\n",
    "#     \"\"\"Balance the size of clusters by moving points from larger clusters to smaller ones.\"\"\"\n",
    "#     if desired_size is None:\n",
    "#         desired_size = sum(len(cluster) for cluster in clusters) // len(clusters)\n",
    "\n",
    "#     overflow = []  # Points that are in clusters that are too large\n",
    "#     underflow = []  # Clusters that are too small\n",
    "\n",
    "#     for cluster in clusters:\n",
    "#         while len(cluster) > desired_size:\n",
    "#             overflow.append(cluster.pop())\n",
    "#         while len(cluster) < desired_size:\n",
    "#             underflow.append(cluster)\n",
    "\n",
    "#     for point in overflow:\n",
    "#         underflow[0].append(point)\n",
    "#         if len(underflow[0]) == desired_size:\n",
    "#             underflow.pop(0)\n",
    "\n",
    "#     return clusters\n",
    "\n",
    "# # Balance the clusters\n",
    "# balanced_clusters = balance_clusters(clusters)\n",
    "\n",
    "# # Visualize the balanced clusters\n",
    "# visualizer = cluster_visualizer()\n",
    "# visualizer.append_clusters(balanced_clusters, np.array(coordinates_to_cluster).tolist())\n",
    "# visualizer.show()"
   ]
  },
  {
   "cell_type": "code",
   "execution_count": 5,
   "metadata": {},
   "outputs": [],
   "source": [
    "melbourne_sensors = pd.read_csv(\"../Data/FootfallData/melbourne_locations.csv\")"
   ]
  },
  {
   "cell_type": "markdown",
   "metadata": {},
   "source": [
    "### Add sensor id and datetime"
   ]
  },
  {
   "cell_type": "code",
   "execution_count": 6,
   "metadata": {
    "scrolled": true
   },
   "outputs": [],
   "source": [
    "sensor_ids = pd.read_csv(input_csv)['sensor_id']\n",
    "datetimes = pd.read_csv(input_csv)['datetime']"
   ]
  },
  {
   "cell_type": "markdown",
   "metadata": {},
   "source": [
    "### Print spatial locations of sensor (need footfall_spatial environment)"
   ]
  },
  {
   "cell_type": "code",
   "execution_count": 26,
   "metadata": {
    "scrolled": false
   },
   "outputs": [
    {
     "name": "stdout",
     "output_type": "stream",
     "text": [
      "Temporal split number 0\n",
      "0 1376360\n",
      "Start: 2011-01-01 00:00:00, end: 2017-01-02 09:00:00\n"
     ]
    },
    {
     "ename": "KeyboardInterrupt",
     "evalue": "",
     "output_type": "error",
     "traceback": [
      "\u001b[0;31m---------------------------------------------------------------------------\u001b[0m",
      "\u001b[0;31mKeyboardInterrupt\u001b[0m                         Traceback (most recent call last)",
      "\u001b[0;32m/tmp/ipykernel_186191/289939164.py\u001b[0m in \u001b[0;36m<module>\u001b[0;34m\u001b[0m\n\u001b[1;32m      5\u001b[0m                                            temporal_testing_fraction = 0.8, datetimes = datetimes, plot =True)\n\u001b[1;32m      6\u001b[0m \u001b[0;31m# Plot the fold indices\u001b[0m\u001b[0;34m\u001b[0m\u001b[0;34m\u001b[0m\u001b[0;34m\u001b[0m\u001b[0m\n\u001b[0;32m----> 7\u001b[0;31m \u001b[0;32mfor\u001b[0m \u001b[0mfold\u001b[0m\u001b[0;34m,\u001b[0m \u001b[0;34m(\u001b[0m\u001b[0mtrain_index\u001b[0m\u001b[0;34m,\u001b[0m \u001b[0mtest_index\u001b[0m\u001b[0;34m)\u001b[0m \u001b[0;32min\u001b[0m \u001b[0menumerate\u001b[0m\u001b[0;34m(\u001b[0m\u001b[0mbtss\u001b[0m\u001b[0;34m.\u001b[0m\u001b[0msplit\u001b[0m\u001b[0;34m(\u001b[0m\u001b[0mXfull\u001b[0m\u001b[0;34m,\u001b[0m \u001b[0mdatetimes\u001b[0m\u001b[0;34m)\u001b[0m\u001b[0;34m)\u001b[0m\u001b[0;34m:\u001b[0m\u001b[0;34m\u001b[0m\u001b[0;34m\u001b[0m\u001b[0m\n\u001b[0m\u001b[1;32m      8\u001b[0m      \u001b[0;32mpass\u001b[0m\u001b[0;34m\u001b[0m\u001b[0;34m\u001b[0m\u001b[0m\n\u001b[1;32m      9\u001b[0m \u001b[0;31m#     plt.figure(figsize=(8, 3))\u001b[0m\u001b[0;34m\u001b[0m\u001b[0;34m\u001b[0m\u001b[0;34m\u001b[0m\u001b[0m\n",
      "\u001b[0;32m/tmp/ipykernel_186191/4095128331.py\u001b[0m in \u001b[0;36msplit\u001b[0;34m(self, X, datetimes, y, groups)\u001b[0m\n\u001b[1;32m    153\u001b[0m             X_thistimeslice = BlockingTimeSeries_withSpatial_Split.run_cluster_analysis(X=X, start = start , stop =stop,\n\u001b[1;32m    154\u001b[0m                              \u001b[0mmelbourne_sensors\u001b[0m\u001b[0;34m=\u001b[0m \u001b[0mmelbourne_sensors\u001b[0m\u001b[0;34m,\u001b[0m \u001b[0mn_spatial_clusters\u001b[0m\u001b[0;34m=\u001b[0m\u001b[0mself\u001b[0m\u001b[0;34m.\u001b[0m\u001b[0mn_spatial_clusters\u001b[0m\u001b[0;34m,\u001b[0m\u001b[0;34m\u001b[0m\u001b[0;34m\u001b[0m\u001b[0m\n\u001b[0;32m--> 155\u001b[0;31m                              temporal_i=temporal_i, ax=ax, plot = True)\n\u001b[0m\u001b[1;32m    156\u001b[0m \u001b[0;34m\u001b[0m\u001b[0m\n\u001b[1;32m    157\u001b[0m             \u001b[0;31m###############################################################\u001b[0m\u001b[0;34m\u001b[0m\u001b[0;34m\u001b[0m\u001b[0;34m\u001b[0m\u001b[0m\n",
      "\u001b[0;32m/tmp/ipykernel_186191/4095128331.py\u001b[0m in \u001b[0;36mrun_cluster_analysis\u001b[0;34m(X, start, stop, melbourne_sensors, n_spatial_clusters, temporal_i, ax, plot)\u001b[0m\n\u001b[1;32m    101\u001b[0m             \u001b[0;31m# Join this onto X (so now all rows with that sensor_id will show as being in that cluster)\u001b[0m\u001b[0;34m\u001b[0m\u001b[0;34m\u001b[0m\u001b[0;34m\u001b[0m\u001b[0m\n\u001b[1;32m    102\u001b[0m             \u001b[0;31m# Including rows not within this timeslice, but this shouldn't matter\u001b[0m\u001b[0;34m\u001b[0m\u001b[0;34m\u001b[0m\u001b[0;34m\u001b[0m\u001b[0m\n\u001b[0;32m--> 103\u001b[0;31m             \u001b[0mX\u001b[0m \u001b[0;34m=\u001b[0m \u001b[0mpd\u001b[0m\u001b[0;34m.\u001b[0m\u001b[0mmerge\u001b[0m\u001b[0;34m(\u001b[0m\u001b[0mX\u001b[0m\u001b[0;34m,\u001b[0m \u001b[0mmelbourne_sensors_in_this_timeslice\u001b[0m\u001b[0;34m[\u001b[0m\u001b[0;34m[\u001b[0m\u001b[0;34m'sensor_id'\u001b[0m\u001b[0;34m,\u001b[0m\u001b[0;34m'Cluster_number'\u001b[0m\u001b[0;34m]\u001b[0m\u001b[0;34m]\u001b[0m\u001b[0;34m,\u001b[0m \u001b[0mon\u001b[0m\u001b[0;34m=\u001b[0m\u001b[0;34m'sensor_id'\u001b[0m\u001b[0;34m,\u001b[0m \u001b[0mhow\u001b[0m\u001b[0;34m=\u001b[0m\u001b[0;34m'left'\u001b[0m\u001b[0;34m)\u001b[0m\u001b[0;34m\u001b[0m\u001b[0;34m\u001b[0m\u001b[0m\n\u001b[0m\u001b[1;32m    104\u001b[0m \u001b[0;34m\u001b[0m\u001b[0m\n\u001b[1;32m    105\u001b[0m             \u001b[0;31m##############################################################\u001b[0m\u001b[0;34m\u001b[0m\u001b[0;34m\u001b[0m\u001b[0;34m\u001b[0m\u001b[0m\n",
      "\u001b[0;32m/nfs/a321/gy17m2a/anaconda_install/anaconda3/envs/footfall_spatial/lib/python3.7/site-packages/pandas/core/reshape/merge.py\u001b[0m in \u001b[0;36mmerge\u001b[0;34m(left, right, how, on, left_on, right_on, left_index, right_index, sort, suffixes, copy, indicator, validate)\u001b[0m\n\u001b[1;32m    119\u001b[0m         \u001b[0mvalidate\u001b[0m\u001b[0;34m=\u001b[0m\u001b[0mvalidate\u001b[0m\u001b[0;34m,\u001b[0m\u001b[0;34m\u001b[0m\u001b[0;34m\u001b[0m\u001b[0m\n\u001b[1;32m    120\u001b[0m     )\n\u001b[0;32m--> 121\u001b[0;31m     \u001b[0;32mreturn\u001b[0m \u001b[0mop\u001b[0m\u001b[0;34m.\u001b[0m\u001b[0mget_result\u001b[0m\u001b[0;34m(\u001b[0m\u001b[0;34m)\u001b[0m\u001b[0;34m\u001b[0m\u001b[0;34m\u001b[0m\u001b[0m\n\u001b[0m\u001b[1;32m    122\u001b[0m \u001b[0;34m\u001b[0m\u001b[0m\n\u001b[1;32m    123\u001b[0m \u001b[0;34m\u001b[0m\u001b[0m\n",
      "\u001b[0;32m/nfs/a321/gy17m2a/anaconda_install/anaconda3/envs/footfall_spatial/lib/python3.7/site-packages/pandas/core/reshape/merge.py\u001b[0m in \u001b[0;36mget_result\u001b[0;34m(self)\u001b[0m\n\u001b[1;32m    726\u001b[0m             \u001b[0maxes\u001b[0m\u001b[0;34m=\u001b[0m\u001b[0;34m[\u001b[0m\u001b[0mllabels\u001b[0m\u001b[0;34m.\u001b[0m\u001b[0mappend\u001b[0m\u001b[0;34m(\u001b[0m\u001b[0mrlabels\u001b[0m\u001b[0;34m)\u001b[0m\u001b[0;34m,\u001b[0m \u001b[0mjoin_index\u001b[0m\u001b[0;34m]\u001b[0m\u001b[0;34m,\u001b[0m\u001b[0;34m\u001b[0m\u001b[0;34m\u001b[0m\u001b[0m\n\u001b[1;32m    727\u001b[0m             \u001b[0mconcat_axis\u001b[0m\u001b[0;34m=\u001b[0m\u001b[0;36m0\u001b[0m\u001b[0;34m,\u001b[0m\u001b[0;34m\u001b[0m\u001b[0;34m\u001b[0m\u001b[0m\n\u001b[0;32m--> 728\u001b[0;31m             \u001b[0mcopy\u001b[0m\u001b[0;34m=\u001b[0m\u001b[0mself\u001b[0m\u001b[0;34m.\u001b[0m\u001b[0mcopy\u001b[0m\u001b[0;34m,\u001b[0m\u001b[0;34m\u001b[0m\u001b[0;34m\u001b[0m\u001b[0m\n\u001b[0m\u001b[1;32m    729\u001b[0m         )\n\u001b[1;32m    730\u001b[0m \u001b[0;34m\u001b[0m\u001b[0m\n",
      "\u001b[0;32m/nfs/a321/gy17m2a/anaconda_install/anaconda3/envs/footfall_spatial/lib/python3.7/site-packages/pandas/core/internals/concat.py\u001b[0m in \u001b[0;36mconcatenate_managers\u001b[0;34m(mgrs_indexers, axes, concat_axis, copy)\u001b[0m\n\u001b[1;32m    224\u001b[0m             \u001b[0mfastpath\u001b[0m \u001b[0;34m=\u001b[0m \u001b[0mblk\u001b[0m\u001b[0;34m.\u001b[0m\u001b[0mvalues\u001b[0m\u001b[0;34m.\u001b[0m\u001b[0mdtype\u001b[0m \u001b[0;34m==\u001b[0m \u001b[0mvalues\u001b[0m\u001b[0;34m.\u001b[0m\u001b[0mdtype\u001b[0m\u001b[0;34m\u001b[0m\u001b[0;34m\u001b[0m\u001b[0m\n\u001b[1;32m    225\u001b[0m         \u001b[0;32melse\u001b[0m\u001b[0;34m:\u001b[0m\u001b[0;34m\u001b[0m\u001b[0;34m\u001b[0m\u001b[0m\n\u001b[0;32m--> 226\u001b[0;31m             \u001b[0mvalues\u001b[0m \u001b[0;34m=\u001b[0m \u001b[0m_concatenate_join_units\u001b[0m\u001b[0;34m(\u001b[0m\u001b[0mjoin_units\u001b[0m\u001b[0;34m,\u001b[0m \u001b[0mconcat_axis\u001b[0m\u001b[0;34m,\u001b[0m \u001b[0mcopy\u001b[0m\u001b[0;34m=\u001b[0m\u001b[0mcopy\u001b[0m\u001b[0;34m)\u001b[0m\u001b[0;34m\u001b[0m\u001b[0;34m\u001b[0m\u001b[0m\n\u001b[0m\u001b[1;32m    227\u001b[0m             \u001b[0mfastpath\u001b[0m \u001b[0;34m=\u001b[0m \u001b[0;32mFalse\u001b[0m\u001b[0;34m\u001b[0m\u001b[0;34m\u001b[0m\u001b[0m\n\u001b[1;32m    228\u001b[0m \u001b[0;34m\u001b[0m\u001b[0m\n",
      "\u001b[0;32m/nfs/a321/gy17m2a/anaconda_install/anaconda3/envs/footfall_spatial/lib/python3.7/site-packages/pandas/core/internals/concat.py\u001b[0m in \u001b[0;36m_concatenate_join_units\u001b[0;34m(join_units, concat_axis, copy)\u001b[0m\n\u001b[1;32m    490\u001b[0m     to_concat = [\n\u001b[1;32m    491\u001b[0m         \u001b[0mju\u001b[0m\u001b[0;34m.\u001b[0m\u001b[0mget_reindexed_values\u001b[0m\u001b[0;34m(\u001b[0m\u001b[0mempty_dtype\u001b[0m\u001b[0;34m=\u001b[0m\u001b[0mempty_dtype\u001b[0m\u001b[0;34m,\u001b[0m \u001b[0mupcasted_na\u001b[0m\u001b[0;34m=\u001b[0m\u001b[0mupcasted_na\u001b[0m\u001b[0;34m)\u001b[0m\u001b[0;34m\u001b[0m\u001b[0;34m\u001b[0m\u001b[0m\n\u001b[0;32m--> 492\u001b[0;31m         \u001b[0;32mfor\u001b[0m \u001b[0mju\u001b[0m \u001b[0;32min\u001b[0m \u001b[0mjoin_units\u001b[0m\u001b[0;34m\u001b[0m\u001b[0;34m\u001b[0m\u001b[0m\n\u001b[0m\u001b[1;32m    493\u001b[0m     ]\n\u001b[1;32m    494\u001b[0m \u001b[0;34m\u001b[0m\u001b[0m\n",
      "\u001b[0;32m/nfs/a321/gy17m2a/anaconda_install/anaconda3/envs/footfall_spatial/lib/python3.7/site-packages/pandas/core/internals/concat.py\u001b[0m in \u001b[0;36m<listcomp>\u001b[0;34m(.0)\u001b[0m\n\u001b[1;32m    490\u001b[0m     to_concat = [\n\u001b[1;32m    491\u001b[0m         \u001b[0mju\u001b[0m\u001b[0;34m.\u001b[0m\u001b[0mget_reindexed_values\u001b[0m\u001b[0;34m(\u001b[0m\u001b[0mempty_dtype\u001b[0m\u001b[0;34m=\u001b[0m\u001b[0mempty_dtype\u001b[0m\u001b[0;34m,\u001b[0m \u001b[0mupcasted_na\u001b[0m\u001b[0;34m=\u001b[0m\u001b[0mupcasted_na\u001b[0m\u001b[0;34m)\u001b[0m\u001b[0;34m\u001b[0m\u001b[0;34m\u001b[0m\u001b[0m\n\u001b[0;32m--> 492\u001b[0;31m         \u001b[0;32mfor\u001b[0m \u001b[0mju\u001b[0m \u001b[0;32min\u001b[0m \u001b[0mjoin_units\u001b[0m\u001b[0;34m\u001b[0m\u001b[0;34m\u001b[0m\u001b[0m\n\u001b[0m\u001b[1;32m    493\u001b[0m     ]\n\u001b[1;32m    494\u001b[0m \u001b[0;34m\u001b[0m\u001b[0m\n",
      "\u001b[0;32m/nfs/a321/gy17m2a/anaconda_install/anaconda3/envs/footfall_spatial/lib/python3.7/site-packages/pandas/core/internals/concat.py\u001b[0m in \u001b[0;36mget_reindexed_values\u001b[0;34m(self, empty_dtype, upcasted_na)\u001b[0m\n\u001b[1;32m    468\u001b[0m         \u001b[0;32melse\u001b[0m\u001b[0;34m:\u001b[0m\u001b[0;34m\u001b[0m\u001b[0;34m\u001b[0m\u001b[0m\n\u001b[1;32m    469\u001b[0m             \u001b[0;32mfor\u001b[0m \u001b[0max\u001b[0m\u001b[0;34m,\u001b[0m \u001b[0mindexer\u001b[0m \u001b[0;32min\u001b[0m \u001b[0mself\u001b[0m\u001b[0;34m.\u001b[0m\u001b[0mindexers\u001b[0m\u001b[0;34m.\u001b[0m\u001b[0mitems\u001b[0m\u001b[0;34m(\u001b[0m\u001b[0;34m)\u001b[0m\u001b[0;34m:\u001b[0m\u001b[0;34m\u001b[0m\u001b[0;34m\u001b[0m\u001b[0m\n\u001b[0;32m--> 470\u001b[0;31m                 \u001b[0mvalues\u001b[0m \u001b[0;34m=\u001b[0m \u001b[0malgos\u001b[0m\u001b[0;34m.\u001b[0m\u001b[0mtake_nd\u001b[0m\u001b[0;34m(\u001b[0m\u001b[0mvalues\u001b[0m\u001b[0;34m,\u001b[0m \u001b[0mindexer\u001b[0m\u001b[0;34m,\u001b[0m \u001b[0maxis\u001b[0m\u001b[0;34m=\u001b[0m\u001b[0max\u001b[0m\u001b[0;34m)\u001b[0m\u001b[0;34m\u001b[0m\u001b[0;34m\u001b[0m\u001b[0m\n\u001b[0m\u001b[1;32m    471\u001b[0m \u001b[0;34m\u001b[0m\u001b[0m\n\u001b[1;32m    472\u001b[0m         \u001b[0;32mreturn\u001b[0m \u001b[0mvalues\u001b[0m\u001b[0;34m\u001b[0m\u001b[0;34m\u001b[0m\u001b[0m\n",
      "\u001b[0;32m/nfs/a321/gy17m2a/anaconda_install/anaconda3/envs/footfall_spatial/lib/python3.7/site-packages/pandas/core/array_algos/take.py\u001b[0m in \u001b[0;36mtake_nd\u001b[0;34m(arr, indexer, axis, fill_value, allow_fill)\u001b[0m\n\u001b[1;32m    106\u001b[0m \u001b[0;34m\u001b[0m\u001b[0m\n\u001b[1;32m    107\u001b[0m     \u001b[0marr\u001b[0m \u001b[0;34m=\u001b[0m \u001b[0mnp\u001b[0m\u001b[0;34m.\u001b[0m\u001b[0masarray\u001b[0m\u001b[0;34m(\u001b[0m\u001b[0marr\u001b[0m\u001b[0;34m)\u001b[0m\u001b[0;34m\u001b[0m\u001b[0;34m\u001b[0m\u001b[0m\n\u001b[0;32m--> 108\u001b[0;31m     \u001b[0;32mreturn\u001b[0m \u001b[0m_take_nd_ndarray\u001b[0m\u001b[0;34m(\u001b[0m\u001b[0marr\u001b[0m\u001b[0;34m,\u001b[0m \u001b[0mindexer\u001b[0m\u001b[0;34m,\u001b[0m \u001b[0maxis\u001b[0m\u001b[0;34m,\u001b[0m \u001b[0mfill_value\u001b[0m\u001b[0;34m,\u001b[0m \u001b[0mallow_fill\u001b[0m\u001b[0;34m)\u001b[0m\u001b[0;34m\u001b[0m\u001b[0;34m\u001b[0m\u001b[0m\n\u001b[0m\u001b[1;32m    109\u001b[0m \u001b[0;34m\u001b[0m\u001b[0m\n\u001b[1;32m    110\u001b[0m \u001b[0;34m\u001b[0m\u001b[0m\n",
      "\u001b[0;32m/nfs/a321/gy17m2a/anaconda_install/anaconda3/envs/footfall_spatial/lib/python3.7/site-packages/pandas/core/array_algos/take.py\u001b[0m in \u001b[0;36m_take_nd_ndarray\u001b[0;34m(arr, indexer, axis, fill_value, allow_fill)\u001b[0m\n\u001b[1;32m    152\u001b[0m         \u001b[0marr\u001b[0m\u001b[0;34m.\u001b[0m\u001b[0mndim\u001b[0m\u001b[0;34m,\u001b[0m \u001b[0marr\u001b[0m\u001b[0;34m.\u001b[0m\u001b[0mdtype\u001b[0m\u001b[0;34m,\u001b[0m \u001b[0mout\u001b[0m\u001b[0;34m.\u001b[0m\u001b[0mdtype\u001b[0m\u001b[0;34m,\u001b[0m \u001b[0maxis\u001b[0m\u001b[0;34m=\u001b[0m\u001b[0maxis\u001b[0m\u001b[0;34m,\u001b[0m \u001b[0mmask_info\u001b[0m\u001b[0;34m=\u001b[0m\u001b[0mmask_info\u001b[0m\u001b[0;34m\u001b[0m\u001b[0;34m\u001b[0m\u001b[0m\n\u001b[1;32m    153\u001b[0m     )\n\u001b[0;32m--> 154\u001b[0;31m     \u001b[0mfunc\u001b[0m\u001b[0;34m(\u001b[0m\u001b[0marr\u001b[0m\u001b[0;34m,\u001b[0m \u001b[0mindexer\u001b[0m\u001b[0;34m,\u001b[0m \u001b[0mout\u001b[0m\u001b[0;34m,\u001b[0m \u001b[0mfill_value\u001b[0m\u001b[0;34m)\u001b[0m\u001b[0;34m\u001b[0m\u001b[0;34m\u001b[0m\u001b[0m\n\u001b[0m\u001b[1;32m    155\u001b[0m \u001b[0;34m\u001b[0m\u001b[0m\n\u001b[1;32m    156\u001b[0m     \u001b[0;32mif\u001b[0m \u001b[0mflip_order\u001b[0m\u001b[0;34m:\u001b[0m\u001b[0;34m\u001b[0m\u001b[0;34m\u001b[0m\u001b[0m\n",
      "\u001b[0;31mKeyboardInterrupt\u001b[0m: "
     ]
    },
    {
     "data": {
      "image/png": "[encoded data removed]",
      "text/plain": [
       "<Figure size 2000x2000 with 3 Axes>"
      ]
     },
     "metadata": {},
     "output_type": "display_data"
    }
   ],
   "source": [
    "# # Create the BlockedTimeSeriesSplit object\n",
    "n_temporal_blocks=3\n",
    "n_spatial_clusters = 4\n",
    "btss = BlockingTimeSeries_withSpatial_Split(n_temporal_splits=n_temporal_blocks, n_spatial_clusters = n_spatial_clusters,\n",
    "                                           temporal_testing_fraction = 0.8, datetimes = datetimes, plot =True)\n",
    "# Plot the fold indices\n",
    "for fold, (train_index, test_index) in enumerate(btss.split(Xfull, datetimes)):\n",
    "     pass\n",
    "#     plt.figure(figsize=(8, 3))\n",
    "#     plt.plot(np.arange(len(Yfull)), np.zeros_like(Yfull), 'r-', lw=2, label='Data')\n",
    "#     plt.scatter(train_index, np.zeros_like(train_index), c='b', marker='o', label='Train')\n",
    "#     plt.scatter(test_index, np.zeros_like(test_index), c='g', marker='o', label='Test')\n",
    "#     plt.title(f'Fold {fold+1}')\n",
    "#     plt.legend(loc='upper left')\n",
    "#     plt.ylim(-0.1, 0.1)\n",
    "#     plt.show()"
   ]
  },
  {
   "cell_type": "code",
   "execution_count": 8,
   "metadata": {},
   "outputs": [],
   "source": [
    "# Xfull.columns"
   ]
  },
  {
   "cell_type": "code",
   "execution_count": 9,
   "metadata": {
    "scrolled": false
   },
   "outputs": [],
   "source": [
    "# # Create the BlockedTimeSeriesSplit object\n",
    "# n_temporal_blocks=4\n",
    "# btss = BlockingTimeSeries_withSpatial_Split(n_temporal_splits=n_temporal_blocks, n_spatial_clusters = 5)\n",
    "\n",
    "# # Plot the fold indices\n",
    "# for fold, (train_index, test_index) in enumerate(btss.split(Xfull)):\n",
    "#     plt.figure(figsize=(8, 3))\n",
    "#     plt.plot(np.arange(len(Yfull)), np.zeros_like(Yfull), 'r-', lw=2, label='Data')\n",
    "#     plt.scatter(train_index, np.zeros_like(train_index), c='b', marker='o', label='Train')\n",
    "#     plt.scatter(test_index, np.zeros_like(test_index), c='g', marker='o', label='Test')\n",
    "#     plt.title(f'Fold {fold+1}')\n",
    "#     plt.legend(loc='upper left')\n",
    "#     plt.ylim(-0.1, 0.1)\n",
    "#     plt.show()"
   ]
  },
  {
   "cell_type": "markdown",
   "metadata": {},
   "source": [
    "## Run models with cross-validation"
   ]
  },
  {
   "cell_type": "markdown",
   "metadata": {},
   "source": [
    "### Define the error metrics for the cross-validation to return, and the parameters of the cross validation"
   ]
  },
  {
   "cell_type": "code",
   "execution_count": 8,
   "metadata": {
    "scrolled": true
   },
   "outputs": [],
   "source": [
    "error_metrics = ['neg_mean_absolute_error', 'r2', 'neg_root_mean_squared_error', 'neg_mean_absolute_percentage_error']"
   ]
  },
  {
   "cell_type": "code",
   "execution_count": 9,
   "metadata": {
    "scrolled": true
   },
   "outputs": [
    {
     "ename": "NameError",
     "evalue": "name 'xgb' is not defined",
     "output_type": "error",
     "traceback": [
      "\u001b[0;31m---------------------------------------------------------------------------\u001b[0m",
      "\u001b[0;31mNameError\u001b[0m                                 Traceback (most recent call last)",
      "\u001b[0;32m/tmp/ipykernel_186191/1134112974.py\u001b[0m in \u001b[0;36m<module>\u001b[0;34m\u001b[0m\n\u001b[1;32m      1\u001b[0m \u001b[0mlr_model_pipeline\u001b[0m \u001b[0;34m=\u001b[0m \u001b[0mPipeline\u001b[0m\u001b[0;34m(\u001b[0m\u001b[0msteps\u001b[0m\u001b[0;34m=\u001b[0m\u001b[0;34m[\u001b[0m\u001b[0;34m[\u001b[0m\u001b[0;34m'scaler'\u001b[0m\u001b[0;34m,\u001b[0m\u001b[0mStandardScaler\u001b[0m\u001b[0;34m(\u001b[0m\u001b[0;34m)\u001b[0m\u001b[0;34m]\u001b[0m\u001b[0;34m,\u001b[0m\u001b[0;34m[\u001b[0m\u001b[0;34m'linear_regressor'\u001b[0m\u001b[0;34m,\u001b[0m\u001b[0mLinearRegression\u001b[0m\u001b[0;34m(\u001b[0m\u001b[0;34m)\u001b[0m\u001b[0;34m]\u001b[0m\u001b[0;34m]\u001b[0m\u001b[0;34m)\u001b[0m\u001b[0;34m\u001b[0m\u001b[0;34m\u001b[0m\u001b[0m\n\u001b[1;32m      2\u001b[0m \u001b[0mrf_model_pipeline\u001b[0m \u001b[0;34m=\u001b[0m \u001b[0mPipeline\u001b[0m\u001b[0;34m(\u001b[0m\u001b[0msteps\u001b[0m\u001b[0;34m=\u001b[0m\u001b[0;34m[\u001b[0m\u001b[0;34m[\u001b[0m\u001b[0;34m'scaler'\u001b[0m\u001b[0;34m,\u001b[0m\u001b[0mStandardScaler\u001b[0m\u001b[0;34m(\u001b[0m\u001b[0;34m)\u001b[0m\u001b[0;34m]\u001b[0m\u001b[0;34m,\u001b[0m\u001b[0;34m[\u001b[0m\u001b[0;34m'rf_regressor'\u001b[0m\u001b[0;34m,\u001b[0m \u001b[0mRandomForestRegressor\u001b[0m\u001b[0;34m(\u001b[0m\u001b[0mrandom_state\u001b[0m \u001b[0;34m=\u001b[0m \u001b[0;36m1\u001b[0m\u001b[0;34m,\u001b[0m \u001b[0mn_jobs\u001b[0m \u001b[0;34m=\u001b[0m \u001b[0;36m10\u001b[0m\u001b[0;34m)\u001b[0m\u001b[0;34m]\u001b[0m\u001b[0;34m]\u001b[0m\u001b[0;34m)\u001b[0m\u001b[0;34m\u001b[0m\u001b[0;34m\u001b[0m\u001b[0m\n\u001b[0;32m----> 3\u001b[0;31m \u001b[0mxgb_model_pipeline\u001b[0m \u001b[0;34m=\u001b[0m \u001b[0mPipeline\u001b[0m\u001b[0;34m(\u001b[0m\u001b[0msteps\u001b[0m\u001b[0;34m=\u001b[0m\u001b[0;34m[\u001b[0m\u001b[0;34m[\u001b[0m\u001b[0;34m'scaler'\u001b[0m\u001b[0;34m,\u001b[0m\u001b[0mStandardScaler\u001b[0m\u001b[0;34m(\u001b[0m\u001b[0;34m)\u001b[0m\u001b[0;34m]\u001b[0m\u001b[0;34m,\u001b[0m\u001b[0;34m[\u001b[0m\u001b[0;34m'xgb_regressor'\u001b[0m\u001b[0;34m,\u001b[0m\u001b[0mxgb\u001b[0m\u001b[0;34m.\u001b[0m\u001b[0mXGBRegressor\u001b[0m\u001b[0;34m(\u001b[0m\u001b[0mrandom_state\u001b[0m\u001b[0;34m=\u001b[0m\u001b[0;36m1\u001b[0m\u001b[0;34m,\u001b[0m \u001b[0mn_jobs\u001b[0m \u001b[0;34m=\u001b[0m \u001b[0;36m16\u001b[0m\u001b[0;34m)\u001b[0m\u001b[0;34m]\u001b[0m\u001b[0;34m]\u001b[0m\u001b[0;34m)\u001b[0m\u001b[0;34m\u001b[0m\u001b[0;34m\u001b[0m\u001b[0m\n\u001b[0m\u001b[1;32m      4\u001b[0m \u001b[0met_model_pipeline\u001b[0m \u001b[0;34m=\u001b[0m \u001b[0mPipeline\u001b[0m\u001b[0;34m(\u001b[0m\u001b[0msteps\u001b[0m\u001b[0;34m=\u001b[0m\u001b[0;34m[\u001b[0m\u001b[0;34m[\u001b[0m\u001b[0;34m'scaler'\u001b[0m\u001b[0;34m,\u001b[0m\u001b[0mStandardScaler\u001b[0m\u001b[0;34m(\u001b[0m\u001b[0;34m)\u001b[0m\u001b[0;34m]\u001b[0m\u001b[0;34m,\u001b[0m\u001b[0;34m[\u001b[0m\u001b[0;34m'et_regressor'\u001b[0m\u001b[0;34m,\u001b[0m\u001b[0mExtraTreesRegressor\u001b[0m \u001b[0;34m(\u001b[0m\u001b[0mrandom_state\u001b[0m \u001b[0;34m=\u001b[0m \u001b[0;36m1\u001b[0m\u001b[0;34m,\u001b[0m \u001b[0mn_jobs\u001b[0m \u001b[0;34m=\u001b[0m \u001b[0;36m16\u001b[0m\u001b[0;34m)\u001b[0m\u001b[0;34m]\u001b[0m\u001b[0;34m]\u001b[0m\u001b[0;34m)\u001b[0m\u001b[0;34m\u001b[0m\u001b[0;34m\u001b[0m\u001b[0m\n",
      "\u001b[0;31mNameError\u001b[0m: name 'xgb' is not defined"
     ]
    }
   ],
   "source": [
    "lr_model_pipeline = Pipeline(steps=[['scaler',StandardScaler()],['linear_regressor',LinearRegression()]])\n",
    "rf_model_pipeline = Pipeline(steps=[['scaler',StandardScaler()],['rf_regressor', RandomForestRegressor(random_state = 1, n_jobs = 10)]])\n",
    "xgb_model_pipeline = Pipeline(steps=[['scaler',StandardScaler()],['xgb_regressor',xgb.XGBRegressor(random_state=1, n_jobs = 16)]])\n",
    "et_model_pipeline = Pipeline(steps=[['scaler',StandardScaler()],['et_regressor',ExtraTreesRegressor (random_state = 1, n_jobs = 16)]])"
   ]
  },
  {
   "cell_type": "code",
   "execution_count": null,
   "metadata": {
    "scrolled": true
   },
   "outputs": [],
   "source": [
    "# models_dict = {\"rf_regressor\":rf_model_pipeline,\n",
    "#                \"linear_regressor\": lr_model_pipeline, \"xgb_regressor\":xgb_model_pipeline}\n",
    "\n",
    "models_dict = {\"rf_regressor\":rf_model_pipeline}"
   ]
  },
  {
   "cell_type": "markdown",
   "metadata": {},
   "source": [
    "### Prepare data for modelling"
   ]
  },
  {
   "cell_type": "markdown",
   "metadata": {},
   "source": [
    "### Remove year"
   ]
  },
  {
   "cell_type": "code",
   "execution_count": 13,
   "metadata": {
    "scrolled": true
   },
   "outputs": [],
   "source": [
    "# del Xfull['year']"
   ]
  },
  {
   "cell_type": "markdown",
   "metadata": {},
   "source": [
    "### Choose which month_num and weekday_num option to include"
   ]
  },
  {
   "cell_type": "code",
   "execution_count": null,
   "metadata": {
    "scrolled": true
   },
   "outputs": [],
   "source": [
    "# If using the dummy variables\n",
    "# Xfull.drop(['Cos_month_num', 'Sin_month_num', 'Cos_weekday_num', 'Sin_weekday_num'], axis=1)\n",
    "# If using the cyclical variables\n",
    "Xfull.drop(['Monday', 'Saturday', 'Sunday', 'Thursday', 'Tuesday', 'Wednesday',\n",
    "       'month_2', 'month_3', 'month_4', 'month_5', 'month_6', 'month_7',\n",
    "       'month_8', 'month_9', 'month_10', 'month_11', 'month_12'], axis=1, inplace = True)"
   ]
  },
  {
   "cell_type": "markdown",
   "metadata": {},
   "source": [
    "### Run model with cross validation"
   ]
  },
  {
   "cell_type": "code",
   "execution_count": null,
   "metadata": {
    "scrolled": true
   },
   "outputs": [],
   "source": [
    "# Dataframe to store the scores for all the models\n",
    "error_metric_scores = pd.DataFrame()\n",
    "\n",
    "for model_name, model_pipeline in models_dict.items():\n",
    "    print(model_name)\n",
    "    # Use cross_validate to return the error scores associated with this model and this data\n",
    "    start = time()\n",
    "    model_output = cross_validate(model_pipeline, Xfull, Yfull, cv=btss, scoring=error_metrics, error_score=\"raise\")\n",
    "    end = time()\n",
    "    print('Ran in {} minutes'.format(round((end - start)/60),2))\n",
    "    \n",
    "    # Formulate the different error scores into a dataframe\n",
    "    error_metrics_df =pd.DataFrame({'mae': round(abs(model_output['test_neg_mean_absolute_error'].mean()),2), \n",
    "                  'mape': round(abs(model_output['test_neg_mean_absolute_percentage_error'].mean()),2),\n",
    "                  'r2': round(abs(model_output['test_r2'].mean()),2), \n",
    "                  'rmse': round(abs(model_output['test_neg_root_mean_squared_error'].mean()),2)},\n",
    "                 index =[model_name])\n",
    "        \n",
    "    # Add evaluation metric scores for this model to the dataframe containing the metrics for each model\n",
    "    error_metric_scores = error_metric_scores.append(error_metrics_df)\n",
    "    # Save error scores for this distance to file\n",
    "    error_metrics_df.to_csv('Results/CV/ComparingModels/{}_{}m_error_metric_scores.csv'.format(model_name,buffer_size_m),index=False)    \n",
    "\n",
    "# Save dataframes of error metrics for each buffer distance \n",
    "error_metric_scores.to_csv('Results/CV/ComparingModels/comparingmodels_error_metric_scores.csv')   "
   ]
  },
  {
   "cell_type": "markdown",
   "metadata": {},
   "source": [
    "### Print table showing error metrics associated with each model"
   ]
  },
  {
   "cell_type": "code",
   "execution_count": 68,
   "metadata": {
    "scrolled": true
   },
   "outputs": [
    {
     "data": {
      "text/html": [
       "<div>\n",
       "<style scoped>\n",
       "    .dataframe tbody tr th:only-of-type {\n",
       "        vertical-align: middle;\n",
       "    }\n",
       "\n",
       "    .dataframe tbody tr th {\n",
       "        vertical-align: top;\n",
       "    }\n",
       "\n",
       "    .dataframe thead th {\n",
       "        text-align: right;\n",
       "    }\n",
       "</style>\n",
       "<table border=\"1\" class=\"dataframe\">\n",
       "  <thead>\n",
       "    <tr style=\"text-align: right;\">\n",
       "      <th></th>\n",
       "      <th>mae</th>\n",
       "      <th>mape</th>\n",
       "      <th>r2</th>\n",
       "      <th>rmse</th>\n",
       "    </tr>\n",
       "  </thead>\n",
       "  <tbody>\n",
       "    <tr>\n",
       "      <th>rf_regressor</th>\n",
       "      <td>100.29</td>\n",
       "      <td>2.631653e+15</td>\n",
       "      <td>0.75</td>\n",
       "      <td>199.69</td>\n",
       "    </tr>\n",
       "    <tr>\n",
       "      <th>rf_regressor</th>\n",
       "      <td>100.29</td>\n",
       "      <td>2.631653e+15</td>\n",
       "      <td>0.75</td>\n",
       "      <td>199.69</td>\n",
       "    </tr>\n",
       "    <tr>\n",
       "      <th>rf_regressor</th>\n",
       "      <td>100.29</td>\n",
       "      <td>2.631653e+15</td>\n",
       "      <td>0.75</td>\n",
       "      <td>199.69</td>\n",
       "    </tr>\n",
       "    <tr>\n",
       "      <th>rf_regressor</th>\n",
       "      <td>100.29</td>\n",
       "      <td>2.631653e+15</td>\n",
       "      <td>0.75</td>\n",
       "      <td>199.69</td>\n",
       "    </tr>\n",
       "    <tr>\n",
       "      <th>rf_regressor</th>\n",
       "      <td>58.35</td>\n",
       "      <td>1.438735e+15</td>\n",
       "      <td>0.94</td>\n",
       "      <td>120.87</td>\n",
       "    </tr>\n",
       "    <tr>\n",
       "      <th>rf_regressor</th>\n",
       "      <td>100.29</td>\n",
       "      <td>2.631653e+15</td>\n",
       "      <td>0.75</td>\n",
       "      <td>199.69</td>\n",
       "    </tr>\n",
       "  </tbody>\n",
       "</table>\n",
       "</div>"
      ],
      "text/plain": [
       "                 mae          mape    r2    rmse\n",
       "rf_regressor  100.29  2.631653e+15  0.75  199.69\n",
       "rf_regressor  100.29  2.631653e+15  0.75  199.69\n",
       "rf_regressor  100.29  2.631653e+15  0.75  199.69\n",
       "rf_regressor  100.29  2.631653e+15  0.75  199.69\n",
       "rf_regressor   58.35  1.438735e+15  0.94  120.87\n",
       "rf_regressor  100.29  2.631653e+15  0.75  199.69"
      ]
     },
     "execution_count": 68,
     "metadata": {},
     "output_type": "execute_result"
    }
   ],
   "source": [
    "error_metric_scores"
   ]
  },
  {
   "cell_type": "code",
   "execution_count": 42,
   "metadata": {},
   "outputs": [
    {
     "data": {
      "text/html": [
       "<div>\n",
       "<style scoped>\n",
       "    .dataframe tbody tr th:only-of-type {\n",
       "        vertical-align: middle;\n",
       "    }\n",
       "\n",
       "    .dataframe tbody tr th {\n",
       "        vertical-align: top;\n",
       "    }\n",
       "\n",
       "    .dataframe thead th {\n",
       "        text-align: right;\n",
       "    }\n",
       "</style>\n",
       "<table border=\"1\" class=\"dataframe\">\n",
       "  <thead>\n",
       "    <tr style=\"text-align: right;\">\n",
       "      <th></th>\n",
       "      <th>mae</th>\n",
       "      <th>mape</th>\n",
       "      <th>r2</th>\n",
       "      <th>rmse</th>\n",
       "    </tr>\n",
       "  </thead>\n",
       "  <tbody>\n",
       "    <tr>\n",
       "      <th>rf_regressor</th>\n",
       "      <td>327.36</td>\n",
       "      <td>7.759219e+15</td>\n",
       "      <td>1.57</td>\n",
       "      <td>498.29</td>\n",
       "    </tr>\n",
       "  </tbody>\n",
       "</table>\n",
       "</div>"
      ],
      "text/plain": [
       "                 mae          mape    r2    rmse\n",
       "rf_regressor  327.36  7.759219e+15  1.57  498.29"
      ]
     },
     "execution_count": 42,
     "metadata": {},
     "output_type": "execute_result"
    }
   ],
   "source": [
    "error_metric_scores"
   ]
  },
  {
   "cell_type": "code",
   "execution_count": 43,
   "metadata": {},
   "outputs": [
    {
     "name": "stdout",
     "output_type": "stream",
     "text": [
      "Temporal split number 0\n",
      "Start: 2011-01-01 00:00:00, end: 2015-12-25 23:00:00\n",
      "Testing data is 17.1% of training data\n",
      "Testing data is 3.7% of training data\n",
      "Testing data is 2.2% of training data\n",
      "Temporal split number 1\n",
      "Start: 2015-12-25 23:00:00, end: 2018-11-17 10:00:00\n",
      "Testing data is 2.5% of training data\n",
      "Testing data is 14.7% of training data\n",
      "Testing data is 3.8% of training data\n",
      "Temporal split number 2\n",
      "Start: 2018-11-17 10:00:00, end: 2021-01-25 04:00:00\n",
      "Testing data is 4.6% of training data\n",
      "Testing data is 12.8% of training data\n",
      "Testing data is 2.2% of training data\n",
      "Temporal split number 3\n",
      "Start: 2021-01-25 04:00:00, end: 2022-10-31 23:00:00\n",
      "Testing data is 12.3% of training data\n",
      "Testing data is 3.3% of training data\n",
      "Testing data is 3.8% of training data\n"
     ]
    },
    {
     "ename": "ValueError",
     "evalue": "cross_val_predict only works for partitions",
     "output_type": "error",
     "traceback": [
      "\u001b[0;31m---------------------------------------------------------------------------\u001b[0m",
      "\u001b[0;31mValueError\u001b[0m                                Traceback (most recent call last)",
      "\u001b[0;32m/tmp/ipykernel_362012/2552530169.py\u001b[0m in \u001b[0;36m<module>\u001b[0;34m\u001b[0m\n\u001b[1;32m      1\u001b[0m \u001b[0;31m#### Run cross_val_predict to get predictions\u001b[0m\u001b[0;34m\u001b[0m\u001b[0;34m\u001b[0m\u001b[0;34m\u001b[0m\u001b[0m\n\u001b[1;32m      2\u001b[0m \u001b[0mstart\u001b[0m \u001b[0;34m=\u001b[0m \u001b[0mtime\u001b[0m\u001b[0;34m(\u001b[0m\u001b[0;34m)\u001b[0m\u001b[0;34m\u001b[0m\u001b[0;34m\u001b[0m\u001b[0m\n\u001b[0;32m----> 3\u001b[0;31m \u001b[0mpredictions\u001b[0m \u001b[0;34m=\u001b[0m \u001b[0mcross_val_predict\u001b[0m\u001b[0;34m(\u001b[0m\u001b[0mrf_model_pipeline\u001b[0m\u001b[0;34m,\u001b[0m \u001b[0mXfull\u001b[0m\u001b[0;34m,\u001b[0m \u001b[0mYfull\u001b[0m\u001b[0;34m,\u001b[0m\u001b[0mcv\u001b[0m\u001b[0;34m=\u001b[0m\u001b[0mbtss\u001b[0m\u001b[0;34m)\u001b[0m\u001b[0;34m\u001b[0m\u001b[0;34m\u001b[0m\u001b[0m\n\u001b[0m\u001b[1;32m      4\u001b[0m \u001b[0mend\u001b[0m \u001b[0;34m=\u001b[0m \u001b[0mtime\u001b[0m\u001b[0;34m(\u001b[0m\u001b[0;34m)\u001b[0m\u001b[0;34m\u001b[0m\u001b[0;34m\u001b[0m\u001b[0m\n\u001b[1;32m      5\u001b[0m \u001b[0mprint\u001b[0m\u001b[0;34m(\u001b[0m\u001b[0;34m'Ran cross_val_predict in {} minutes'\u001b[0m\u001b[0;34m.\u001b[0m\u001b[0mformat\u001b[0m\u001b[0;34m(\u001b[0m\u001b[0mround\u001b[0m\u001b[0;34m(\u001b[0m\u001b[0;34m(\u001b[0m\u001b[0mend\u001b[0m \u001b[0;34m-\u001b[0m \u001b[0mstart\u001b[0m\u001b[0;34m)\u001b[0m\u001b[0;34m/\u001b[0m\u001b[0;36m60\u001b[0m\u001b[0;34m)\u001b[0m\u001b[0;34m,\u001b[0m\u001b[0;36m2\u001b[0m\u001b[0;34m)\u001b[0m\u001b[0;34m)\u001b[0m\u001b[0;34m\u001b[0m\u001b[0;34m\u001b[0m\u001b[0m\n",
      "\u001b[0;32m/nfs/a321/gy17m2a/anaconda_install/anaconda3/envs/footfall_ml/lib/python3.7/site-packages/sklearn/model_selection/_validation.py\u001b[0m in \u001b[0;36mcross_val_predict\u001b[0;34m(estimator, X, y, groups, cv, n_jobs, verbose, fit_params, pre_dispatch, method)\u001b[0m\n\u001b[1;32m    938\u001b[0m     \u001b[0mtest_indices\u001b[0m \u001b[0;34m=\u001b[0m \u001b[0mnp\u001b[0m\u001b[0;34m.\u001b[0m\u001b[0mconcatenate\u001b[0m\u001b[0;34m(\u001b[0m\u001b[0;34m[\u001b[0m\u001b[0mtest\u001b[0m \u001b[0;32mfor\u001b[0m \u001b[0m_\u001b[0m\u001b[0;34m,\u001b[0m \u001b[0mtest\u001b[0m \u001b[0;32min\u001b[0m \u001b[0msplits\u001b[0m\u001b[0;34m]\u001b[0m\u001b[0;34m)\u001b[0m\u001b[0;34m\u001b[0m\u001b[0;34m\u001b[0m\u001b[0m\n\u001b[1;32m    939\u001b[0m     \u001b[0;32mif\u001b[0m \u001b[0;32mnot\u001b[0m \u001b[0m_check_is_permutation\u001b[0m\u001b[0;34m(\u001b[0m\u001b[0mtest_indices\u001b[0m\u001b[0;34m,\u001b[0m \u001b[0m_num_samples\u001b[0m\u001b[0;34m(\u001b[0m\u001b[0mX\u001b[0m\u001b[0;34m)\u001b[0m\u001b[0;34m)\u001b[0m\u001b[0;34m:\u001b[0m\u001b[0;34m\u001b[0m\u001b[0;34m\u001b[0m\u001b[0m\n\u001b[0;32m--> 940\u001b[0;31m         \u001b[0;32mraise\u001b[0m \u001b[0mValueError\u001b[0m\u001b[0;34m(\u001b[0m\u001b[0;34m\"cross_val_predict only works for partitions\"\u001b[0m\u001b[0;34m)\u001b[0m\u001b[0;34m\u001b[0m\u001b[0;34m\u001b[0m\u001b[0m\n\u001b[0m\u001b[1;32m    941\u001b[0m \u001b[0;34m\u001b[0m\u001b[0m\n\u001b[1;32m    942\u001b[0m     \u001b[0;31m# If classification methods produce multiple columns of output,\u001b[0m\u001b[0;34m\u001b[0m\u001b[0;34m\u001b[0m\u001b[0;34m\u001b[0m\u001b[0m\n",
      "\u001b[0;31mValueError\u001b[0m: cross_val_predict only works for partitions"
     ]
    },
    {
     "data": {
      "image/png": "[encoded data removed]",
      "text/plain": [
       "<Figure size 2000x2000 with 4 Axes>"
      ]
     },
     "metadata": {},
     "output_type": "display_data"
    }
   ],
   "source": [
    "#### Run cross_val_predict to get predictions\n",
    "start = time()\n",
    "predictions = cross_val_predict(rf_model_pipeline, Xfull, Yfull,cv=btss)\n",
    "end = time()\n",
    "print('Ran cross_val_predict in {} minutes'.format(round((end - start)/60),2))\n",
    "# Convert to a dataframe\n",
    "predictions_df=pd.DataFrame(predictions)\n",
    "# Store the predictions\n",
    "# predictions_df.to_csv('Results/CV/ModelEvaluation_WithCV/predictions_RF_{}.csv'.format(buffer_size_m),index=False)   "
   ]
  }
 ],
 "metadata": {
  "hide_input": false,
  "kernelspec": {
   "display_name": "Python 3 (ipykernel)",
   "language": "python",
   "name": "python3"
  },
  "language_info": {
   "codemirror_mode": {
    "name": "ipython",
    "version": 3
   },
   "file_extension": ".py",
   "mimetype": "text/x-python",
   "name": "python",
   "nbconvert_exporter": "python",
   "pygments_lexer": "ipython3",
   "version": "3.7.15"
  }
 },
 "nbformat": 4,
 "nbformat_minor": 2
}
