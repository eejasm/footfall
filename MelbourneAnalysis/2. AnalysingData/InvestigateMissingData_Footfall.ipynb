{
 "cells": [
  {
   "cell_type": "markdown",
   "metadata": {},
   "source": [
    "# Investigate missing Melbourne sensor footfall data "
   ]
  },
  {
   "cell_type": "markdown",
   "metadata": {},
   "source": [
    "#### Code initialisation"
   ]
  },
  {
   "cell_type": "code",
   "execution_count": 36,
   "metadata": {
    "ExecuteTime": {
     "end_time": "2020-05-20T09:29:55.509799Z",
     "start_time": "2020-05-20T09:29:52.577608Z"
    }
   },
   "outputs": [],
   "source": [
    "import pandas as pd\n",
    "import numpy as np\n",
    "import seaborn as sns\n",
    "import os\n",
    "from datetime import date, datetime"
   ]
  },
  {
   "cell_type": "code",
   "execution_count": 1,
   "metadata": {},
   "outputs": [],
   "source": [
    "def check_sensor_data_completeness(sensor_number):\n",
    "    \n",
    "    # Get data for just one sensor\n",
    "    one_sensor =  location_counts[location_counts.sensor_id == sensor_number]\n",
    "\n",
    "    # Go for only years after 2010 where messed up data is\n",
    "    one_sensor = one_sensor[one_sensor.year >2010]\n",
    "    one_sensor = one_sensor.sort_values(by=['datetime'])\n",
    "    \n",
    "    # Save\n",
    "    yearly_missing_vals = {}\n",
    "    \n",
    "    # Loop through each year, find the number of hourly values there are and compare this against\n",
    "    # the number of values there should be in that year (calculated using daterange and the first and last\n",
    "    # hour in the year)\n",
    "    for year in np.sort(one_sensor.year.unique()):\n",
    "        one_year = one_sensor[one_sensor.year==year]\n",
    "        vals_this_year = len(one_year)\n",
    "        expected_vals_this_year = len(pd.date_range(date(year, 1, 1), datetime(year, 12, 31, 23), freq = 'H'))\n",
    "        yearly_missing_vals[year] = expected_vals_this_year - vals_this_year\n",
    "    \n",
    "    # Convert to dataframe\n",
    "    yearly_missing_vals_df = pd.DataFrame.from_dict(yearly_missing_vals, orient='index', columns = [sensor_number])\n",
    "    \n",
    "    return yearly_missing_vals_df\n",
    "\n",
    "def count_number_missing_blocks(sensor_number):\n",
    "    this_sensor = []\n",
    "    for year in location_counts.year.unique()[2:]:\n",
    "        # Get data for just one sensor, in just one year (where there was just one missing value)\n",
    "        one_sensor = location_counts[location_counts.sensor_id == sensor_number].copy()\n",
    "        one_sensor_one_yr = one_sensor[one_sensor.year == year].copy()\n",
    "        one_sensor_one_yr.reset_index(inplace=True)\n",
    "\n",
    "        if len(one_sensor_one_yr) == 0:\n",
    "            this_sensor.append(np.nan)\n",
    "        else:\n",
    "            # Create a new column listing the timedifference between each row and the previous row\n",
    "            one_sensor_one_yr['timediff'] = one_sensor_one_yr['datetime'].diff().apply(lambda x: x/np.timedelta64(1, 'm')).fillna(0).astype('int64')\n",
    "\n",
    "            # Set this value for the first row using a timestamp for the first Jan\n",
    "            first_jan = datetime(year = year, month = 1, day=1, hour=0, minute=0, second=0)\n",
    "            # If the first row is the first of Jan, then set the timediff to be 60 so this doesnt flag as a mising block of data\n",
    "            if one_sensor_one_yr['datetime'].loc[0] == first_jan:\n",
    "                one_sensor_one_yr.at[one_sensor_one_yr.index[0], 'timediff'] = 60\n",
    "            # If it's not the fist_jan, then set it to how many hours are between that timestamp and the first Jan\n",
    "            else:\n",
    "                one_sensor_one_yr.at[one_sensor_one_yr.index[0], 'timediff'] = (one_sensor_one_yr['datetime'].loc[0]-first_jan).days*24                      \n",
    "\n",
    "            # Find the number rows where the time difference with the previous row doesn't equal 60 \n",
    "            number_blocks_of_rows = len(one_sensor_one_yr.loc[one_sensor_one_yr['timediff'] != 60])\n",
    "\n",
    "            # Check the last row is the 23rd hour of 31st December\n",
    "            # If its not, then add 1 to the number of missing rows of data\n",
    "            last_dec = datetime(year = year, month = 12, day=31, hour=23, minute=0, second=0)  \n",
    "            if one_sensor_one_yr['datetime'].loc[len(one_sensor_one_yr)-1] != last_dec:\n",
    "                number_blocks_of_rows+=1\n",
    "\n",
    "            # Add the number missing rows to the list for this sensor    \n",
    "            this_sensor.append(number_blocks_of_rows)\n",
    "            \n",
    "    return this_sensor"
   ]
  },
  {
   "cell_type": "markdown",
   "metadata": {},
   "source": [
    "#### Import pedestrian count data"
   ]
  },
  {
   "cell_type": "code",
   "execution_count": 3,
   "metadata": {},
   "outputs": [
    {
     "ename": "NameError",
     "evalue": "name 'pd' is not defined",
     "output_type": "error",
     "traceback": [
      "\u001b[0;31m---------------------------------------------------------------------------\u001b[0m",
      "\u001b[0;31mNameError\u001b[0m                                 Traceback (most recent call last)",
      "\u001b[0;32m/tmp/ipykernel_197412/2339905526.py\u001b[0m in \u001b[0;36m<module>\u001b[0;34m\u001b[0m\n\u001b[0;32m----> 1\u001b[0;31m \u001b[0mlocation_counts\u001b[0m \u001b[0;34m=\u001b[0m \u001b[0mpd\u001b[0m\u001b[0;34m.\u001b[0m\u001b[0mread_csv\u001b[0m\u001b[0;34m(\u001b[0m\u001b[0;34m\"../Cleaned_data/allsensors.csv\"\u001b[0m\u001b[0;34m)\u001b[0m\u001b[0;34m\u001b[0m\u001b[0;34m\u001b[0m\u001b[0m\n\u001b[0m",
      "\u001b[0;31mNameError\u001b[0m: name 'pd' is not defined"
     ]
    }
   ],
   "source": [
    "location_counts = pd.read_csv(\"../Cleaned_data/allsensors.csv\")"
   ]
  },
  {
   "cell_type": "markdown",
   "metadata": {},
   "source": [
    "# Investigate missing data"
   ]
  },
  {
   "cell_type": "markdown",
   "metadata": {},
   "source": [
    "#### List the number of missing hours in each year of data for each sensor"
   ]
  },
  {
   "cell_type": "code",
   "execution_count": 53,
   "metadata": {},
   "outputs": [
    {
     "ename": "ValueError",
     "evalue": "Length mismatch: Expected axis has 10 elements, new values have 12 elements",
     "output_type": "error",
     "traceback": [
      "\u001b[0;31m---------------------------------------------------------------------------\u001b[0m",
      "\u001b[0;31mValueError\u001b[0m                                Traceback (most recent call last)",
      "\u001b[0;32m/tmp/ipykernel_185473/3955401802.py\u001b[0m in \u001b[0;36m<module>\u001b[0;34m\u001b[0m\n\u001b[1;32m     18\u001b[0m \u001b[0;34m\u001b[0m\u001b[0m\n\u001b[1;32m     19\u001b[0m     \u001b[0;31m# Set index to year names\u001b[0m\u001b[0;34m\u001b[0m\u001b[0;34m\u001b[0m\u001b[0;34m\u001b[0m\u001b[0m\n\u001b[0;32m---> 20\u001b[0;31m     \u001b[0mmissing_vals_block_sizes\u001b[0m\u001b[0;34m.\u001b[0m\u001b[0mindex\u001b[0m \u001b[0;34m=\u001b[0m \u001b[0mlocation_counts\u001b[0m\u001b[0;34m.\u001b[0m\u001b[0myear\u001b[0m\u001b[0;34m.\u001b[0m\u001b[0munique\u001b[0m\u001b[0;34m(\u001b[0m\u001b[0;34m)\u001b[0m\u001b[0;34m\u001b[0m\u001b[0;34m\u001b[0m\u001b[0m\n\u001b[0m\u001b[1;32m     21\u001b[0m     \u001b[0mmissing_vals_per_year_all_sensors\u001b[0m\u001b[0;34m.\u001b[0m\u001b[0mindex\u001b[0m \u001b[0;34m=\u001b[0m \u001b[0mlocation_counts\u001b[0m\u001b[0;34m.\u001b[0m\u001b[0myear\u001b[0m\u001b[0;34m.\u001b[0m\u001b[0munique\u001b[0m\u001b[0;34m(\u001b[0m\u001b[0;34m)\u001b[0m\u001b[0;34m\u001b[0m\u001b[0;34m\u001b[0m\u001b[0m\n",
      "\u001b[0;32m/nfs/a321/gy17m2a/anaconda_install/anaconda3/envs/footfall_ml/lib/python3.7/site-packages/pandas/core/generic.py\u001b[0m in \u001b[0;36m__setattr__\u001b[0;34m(self, name, value)\u001b[0m\n\u001b[1;32m   5498\u001b[0m         \u001b[0;32mtry\u001b[0m\u001b[0;34m:\u001b[0m\u001b[0;34m\u001b[0m\u001b[0;34m\u001b[0m\u001b[0m\n\u001b[1;32m   5499\u001b[0m             \u001b[0mobject\u001b[0m\u001b[0;34m.\u001b[0m\u001b[0m__getattribute__\u001b[0m\u001b[0;34m(\u001b[0m\u001b[0mself\u001b[0m\u001b[0;34m,\u001b[0m \u001b[0mname\u001b[0m\u001b[0;34m)\u001b[0m\u001b[0;34m\u001b[0m\u001b[0;34m\u001b[0m\u001b[0m\n\u001b[0;32m-> 5500\u001b[0;31m             \u001b[0;32mreturn\u001b[0m \u001b[0mobject\u001b[0m\u001b[0;34m.\u001b[0m\u001b[0m__setattr__\u001b[0m\u001b[0;34m(\u001b[0m\u001b[0mself\u001b[0m\u001b[0;34m,\u001b[0m \u001b[0mname\u001b[0m\u001b[0;34m,\u001b[0m \u001b[0mvalue\u001b[0m\u001b[0;34m)\u001b[0m\u001b[0;34m\u001b[0m\u001b[0;34m\u001b[0m\u001b[0m\n\u001b[0m\u001b[1;32m   5501\u001b[0m         \u001b[0;32mexcept\u001b[0m \u001b[0mAttributeError\u001b[0m\u001b[0;34m:\u001b[0m\u001b[0;34m\u001b[0m\u001b[0;34m\u001b[0m\u001b[0m\n\u001b[1;32m   5502\u001b[0m             \u001b[0;32mpass\u001b[0m\u001b[0;34m\u001b[0m\u001b[0;34m\u001b[0m\u001b[0m\n",
      "\u001b[0;32m/nfs/a321/gy17m2a/anaconda_install/anaconda3/envs/footfall_ml/lib/python3.7/site-packages/pandas/_libs/properties.pyx\u001b[0m in \u001b[0;36mpandas._libs.properties.AxisProperty.__set__\u001b[0;34m()\u001b[0m\n",
      "\u001b[0;32m/nfs/a321/gy17m2a/anaconda_install/anaconda3/envs/footfall_ml/lib/python3.7/site-packages/pandas/core/generic.py\u001b[0m in \u001b[0;36m_set_axis\u001b[0;34m(self, axis, labels)\u001b[0m\n\u001b[1;32m    764\u001b[0m     \u001b[0;32mdef\u001b[0m \u001b[0m_set_axis\u001b[0m\u001b[0;34m(\u001b[0m\u001b[0mself\u001b[0m\u001b[0;34m,\u001b[0m \u001b[0maxis\u001b[0m\u001b[0;34m:\u001b[0m \u001b[0mint\u001b[0m\u001b[0;34m,\u001b[0m \u001b[0mlabels\u001b[0m\u001b[0;34m:\u001b[0m \u001b[0mIndex\u001b[0m\u001b[0;34m)\u001b[0m \u001b[0;34m->\u001b[0m \u001b[0;32mNone\u001b[0m\u001b[0;34m:\u001b[0m\u001b[0;34m\u001b[0m\u001b[0;34m\u001b[0m\u001b[0m\n\u001b[1;32m    765\u001b[0m         \u001b[0mlabels\u001b[0m \u001b[0;34m=\u001b[0m \u001b[0mensure_index\u001b[0m\u001b[0;34m(\u001b[0m\u001b[0mlabels\u001b[0m\u001b[0;34m)\u001b[0m\u001b[0;34m\u001b[0m\u001b[0;34m\u001b[0m\u001b[0m\n\u001b[0;32m--> 766\u001b[0;31m         \u001b[0mself\u001b[0m\u001b[0;34m.\u001b[0m\u001b[0m_mgr\u001b[0m\u001b[0;34m.\u001b[0m\u001b[0mset_axis\u001b[0m\u001b[0;34m(\u001b[0m\u001b[0maxis\u001b[0m\u001b[0;34m,\u001b[0m \u001b[0mlabels\u001b[0m\u001b[0;34m)\u001b[0m\u001b[0;34m\u001b[0m\u001b[0;34m\u001b[0m\u001b[0m\n\u001b[0m\u001b[1;32m    767\u001b[0m         \u001b[0mself\u001b[0m\u001b[0;34m.\u001b[0m\u001b[0m_clear_item_cache\u001b[0m\u001b[0;34m(\u001b[0m\u001b[0;34m)\u001b[0m\u001b[0;34m\u001b[0m\u001b[0;34m\u001b[0m\u001b[0m\n\u001b[1;32m    768\u001b[0m \u001b[0;34m\u001b[0m\u001b[0m\n",
      "\u001b[0;32m/nfs/a321/gy17m2a/anaconda_install/anaconda3/envs/footfall_ml/lib/python3.7/site-packages/pandas/core/internals/managers.py\u001b[0m in \u001b[0;36mset_axis\u001b[0;34m(self, axis, new_labels)\u001b[0m\n\u001b[1;32m    214\u001b[0m     \u001b[0;32mdef\u001b[0m \u001b[0mset_axis\u001b[0m\u001b[0;34m(\u001b[0m\u001b[0mself\u001b[0m\u001b[0;34m,\u001b[0m \u001b[0maxis\u001b[0m\u001b[0;34m:\u001b[0m \u001b[0mint\u001b[0m\u001b[0;34m,\u001b[0m \u001b[0mnew_labels\u001b[0m\u001b[0;34m:\u001b[0m \u001b[0mIndex\u001b[0m\u001b[0;34m)\u001b[0m \u001b[0;34m->\u001b[0m \u001b[0;32mNone\u001b[0m\u001b[0;34m:\u001b[0m\u001b[0;34m\u001b[0m\u001b[0;34m\u001b[0m\u001b[0m\n\u001b[1;32m    215\u001b[0m         \u001b[0;31m# Caller is responsible for ensuring we have an Index object.\u001b[0m\u001b[0;34m\u001b[0m\u001b[0;34m\u001b[0m\u001b[0;34m\u001b[0m\u001b[0m\n\u001b[0;32m--> 216\u001b[0;31m         \u001b[0mself\u001b[0m\u001b[0;34m.\u001b[0m\u001b[0m_validate_set_axis\u001b[0m\u001b[0;34m(\u001b[0m\u001b[0maxis\u001b[0m\u001b[0;34m,\u001b[0m \u001b[0mnew_labels\u001b[0m\u001b[0;34m)\u001b[0m\u001b[0;34m\u001b[0m\u001b[0;34m\u001b[0m\u001b[0m\n\u001b[0m\u001b[1;32m    217\u001b[0m         \u001b[0mself\u001b[0m\u001b[0;34m.\u001b[0m\u001b[0maxes\u001b[0m\u001b[0;34m[\u001b[0m\u001b[0maxis\u001b[0m\u001b[0;34m]\u001b[0m \u001b[0;34m=\u001b[0m \u001b[0mnew_labels\u001b[0m\u001b[0;34m\u001b[0m\u001b[0;34m\u001b[0m\u001b[0m\n\u001b[1;32m    218\u001b[0m \u001b[0;34m\u001b[0m\u001b[0m\n",
      "\u001b[0;32m/nfs/a321/gy17m2a/anaconda_install/anaconda3/envs/footfall_ml/lib/python3.7/site-packages/pandas/core/internals/base.py\u001b[0m in \u001b[0;36m_validate_set_axis\u001b[0;34m(self, axis, new_labels)\u001b[0m\n\u001b[1;32m     56\u001b[0m         \u001b[0;32melif\u001b[0m \u001b[0mnew_len\u001b[0m \u001b[0;34m!=\u001b[0m \u001b[0mold_len\u001b[0m\u001b[0;34m:\u001b[0m\u001b[0;34m\u001b[0m\u001b[0;34m\u001b[0m\u001b[0m\n\u001b[1;32m     57\u001b[0m             raise ValueError(\n\u001b[0;32m---> 58\u001b[0;31m                 \u001b[0;34mf\"Length mismatch: Expected axis has {old_len} elements, new \"\u001b[0m\u001b[0;34m\u001b[0m\u001b[0;34m\u001b[0m\u001b[0m\n\u001b[0m\u001b[1;32m     59\u001b[0m                 \u001b[0;34mf\"values have {new_len} elements\"\u001b[0m\u001b[0;34m\u001b[0m\u001b[0;34m\u001b[0m\u001b[0m\n\u001b[1;32m     60\u001b[0m             )\n",
      "\u001b[0;31mValueError\u001b[0m: Length mismatch: Expected axis has 10 elements, new values have 12 elements"
     ]
    }
   ],
   "source": [
    "# Inititalise dataframe to store the number of missing values in each year across all sensors\n",
    "# and the number of blocks in which the missing values are located\n",
    "missing_vals_per_year_all_sensors = pd.DataFrame(None)\n",
    "missing_vals_block_sizes = pd.DataFrame(None)\n",
    "\n",
    "# Get a list of sorted sensor numbers\n",
    "sensor_numbers_sorted =  sorted(location_counts['sensor_id'].unique().tolist())\n",
    "\n",
    "# Loop through each sensor\n",
    "for sensor_number in sensor_numbers_sorted:\n",
    "    # Return dataframes containing the number of missing values/blocks of missing vals in each year\n",
    "    missing_vals_per_year_this_sensor = check_sensor_data_completeness(sensor_number)\n",
    "    missing_vals_block_sizes_this_sensor =  count_number_missing_blocks(sensor_number)\n",
    "    \n",
    "    # Add to dataframes containing values for all sensors\n",
    "    missing_vals_block_sizes[sensor_number] = missing_vals_block_sizes_this_sensor\n",
    "    missing_vals_per_year_all_sensors[sensor_number] = missing_vals_per_year_this_sensor\n",
    "    \n",
    "    # Set index to year names\n",
    "    missing_vals_block_sizes.index = location_counts.year.unique()\n",
    "    missing_vals_per_year_all_sensors.index = location_counts.year.unique()"
   ]
  },
  {
   "cell_type": "markdown",
   "metadata": {},
   "source": [
    "### Find the number of sensors with no data in each year"
   ]
  },
  {
   "cell_type": "code",
   "execution_count": null,
   "metadata": {},
   "outputs": [],
   "source": [
    "missing_vals_per_year_all_sensors.isna().sum(axis = 1)\n",
    "\n",
    "for sensor_number in sensor_numbers_sorted:\n",
    "# missing_vals_per_year_all_sensors.loc[:,1]  \n",
    "for sensor_number in sensor_numbers_sorted:\n",
    "    if (missing_vals_per_year_all_sensors[sensor_number] == 0).all() == True:\n",
    "        print(\"Full data all years\")"
   ]
  },
  {
   "cell_type": "markdown",
   "metadata": {},
   "source": [
    "### Find sensors which don't have any years with absoloutly no data"
   ]
  },
  {
   "cell_type": "code",
   "execution_count": null,
   "metadata": {},
   "outputs": [],
   "source": [
    "# missing_vals_per_year_all_sensors[missing_vals_per_year_all_sensors.columns[~missing_vals_per_year_all_sensors.isnull().any()]]"
   ]
  },
  {
   "cell_type": "markdown",
   "metadata": {},
   "source": [
    "#### Check that where there are 0s in the  missing_blocks_sizes_df that there is also a 0 in the dataframe with the number of missing vals"
   ]
  },
  {
   "cell_type": "code",
   "execution_count": null,
   "metadata": {},
   "outputs": [],
   "source": [
    "# Set values over or equal to 1 in both dataframes\n",
    "missing_block_or_not = missing_vals_block_sizes.copy()\n",
    "missing_block_or_not[missing_block_or_not >= 1] = 1\n",
    "missing_vals_or_not = missing_vals_per_year_all_sensors.copy()\n",
    "missing_vals_or_not[missing_vals_or_not >= 1] = 1\n",
    "\n",
    "# Check if they are the same\n",
    "equality  = missing_block_or_not.eq(missing_vals_or_not)|(missing_block_or_not.isna()&missing_vals_or_not.isna())\n",
    "print(np.all(equality))"
   ]
  },
  {
   "cell_type": "code",
   "execution_count": null,
   "metadata": {},
   "outputs": [],
   "source": [
    "missing_vals_per_year_all_sensors"
   ]
  },
  {
   "cell_type": "code",
   "execution_count": null,
   "metadata": {},
   "outputs": [],
   "source": [
    "missing_vals_block_sizes"
   ]
  },
  {
   "cell_type": "markdown",
   "metadata": {},
   "source": [
    "### Find rows where next date is not one day later"
   ]
  },
  {
   "cell_type": "code",
   "execution_count": null,
   "metadata": {},
   "outputs": [],
   "source": [
    "# Get data for just one sensor\n",
    "one_sensor =  location_counts[location_counts.sensor_id ==2].copy()\n",
    "one_sensor_one_year = one_sensor[one_sensor.year==2013].copy()\n",
    "one_sensor_one_year.reset_index(inplace = True, drop = True)\n",
    "\n",
    "one_sensor_one_year['timediff'] = one_sensor_one_year['datetime'].diff().apply(lambda x: x/np.timedelta64(1, 'm')).fillna(0).astype('int64')\n",
    "one_sensor_one_year[one_sensor_one_year['timediff'] != 60]\n",
    "\n",
    "idx_of_row = one_sensor_one_year[one_sensor_one_year['timediff'] != 60].index\n",
    "df = pd.DataFrame(None)\n",
    "for i in range(0,len(idx_of_row)):\n",
    "    idx = idx_of_row[i]\n",
    "    if idx == 0:\n",
    "        rows = one_sensor_one_year.loc[[idx,idx+1]]\n",
    "    else:\n",
    "        rows = one_sensor_one_year.loc[[idx-1,idx,idx+1]]\n",
    "    df = df.append(rows)\n",
    "df"
   ]
  },
  {
   "cell_type": "markdown",
   "metadata": {},
   "source": [
    "### Specific datetime with glitch in lots of sensors"
   ]
  },
  {
   "cell_type": "code",
   "execution_count": null,
   "metadata": {},
   "outputs": [],
   "source": [
    "for sensor_num in sensor_numbers_sorted:\n",
    "\n",
    "    one_sensor =  location_counts[location_counts.sensor_id ==sensor_num].copy()\n",
    "    one_sensor_one_year = one_sensor[one_sensor.year==year].copy()\n",
    "    one_sensor_one_year.reset_index(inplace = True, drop = True)\n",
    "    one_sensor_one_year\n",
    "    one_sensor_one_year['timediff'] = one_sensor_one_year['datetime'].diff().apply(lambda x: x/np.timedelta64(1, 'm')).fillna(0).astype('int64')\n",
    "    first_jan = datetime(year = year, month = 1, day=1, hour=0, minute=0, second=0)\n",
    "    # If the first row is the first of Jan, then set the timediff to be 60 so this doesnt flag as a mising block of data\n",
    "    if one_sensor_one_year['datetime'].loc[0] == first_jan:\n",
    "        one_sensor_one_year.at[one_sensor_one_year.index[0], 'timediff'] = 60    \n",
    "    missing_vals_near = one_sensor_one_year[one_sensor_one_year['timediff'] != 60]\n",
    "    missing_vals_near    \n",
    "\n",
    "    print(missing_vals_near['datetime'])"
   ]
  },
  {
   "cell_type": "markdown",
   "metadata": {},
   "source": [
    "### Looking at trends in sensor counts\n",
    "Look to see which sensors have valid records for a full calendar year at a time. Some sensors were added at later years, and some stop working at points throughout the year"
   ]
  }
 ],
 "metadata": {
  "hide_input": false,
  "kernelspec": {
   "display_name": "Python 3 (ipykernel)",
   "language": "python",
   "name": "python3"
  },
  "language_info": {
   "codemirror_mode": {
    "name": "ipython",
    "version": 3
   },
   "file_extension": ".py",
   "mimetype": "text/x-python",
   "name": "python",
   "nbconvert_exporter": "python",
   "pygments_lexer": "ipython3",
   "version": "3.7.15"
  }
 },
 "nbformat": 4,
 "nbformat_minor": 2
}
