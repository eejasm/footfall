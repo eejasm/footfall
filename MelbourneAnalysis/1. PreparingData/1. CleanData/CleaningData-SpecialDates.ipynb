{
 "cells": [
  {
   "cell_type": "code",
   "execution_count": 1,
   "id": "3461e4d2",
   "metadata": {},
   "outputs": [],
   "source": [
    "import pandas as pd\n",
    "import os\n",
    "from datetime import date, timedelta\n",
    "\n",
    "def date_range_list(start_date, end_date):\n",
    "    # Return list of datetime.date objects between start_date and end_date (inclusive).\n",
    "    date_list = []\n",
    "    curr_date = start_date\n",
    "    while curr_date <= end_date:\n",
    "        date_list.append(curr_date)\n",
    "        curr_date += timedelta(days=1)\n",
    "    return date_list[:-1]"
   ]
  },
  {
   "cell_type": "markdown",
   "id": "7fd65487",
   "metadata": {},
   "source": [
    "Things to note:\n",
    "* 2017 has more because it also includes 2018\n",
    "* The 'Friday before AFL grand final' was only introduced in 2013 (but maybe still a day of note to that previously?)\n",
    "* Other discrepancies in the number of public holidays per year relate to, for instance, Xmas falling on a Saturday so the bank holiday being rolled over"
   ]
  },
  {
   "cell_type": "code",
   "execution_count": 2,
   "id": "b472dde3",
   "metadata": {},
   "outputs": [],
   "source": [
    "all_phs = pd.DataFrame(None)\n",
    "for year in [2011, 2012, 2013]:\n",
    "    ph = pd.read_csv(\"../Data/PublicHolidays/melbourne_public_holidays_{}.csv\".format(year), names=['Date', 'Holiday Name'], \n",
    "                     header =None)\n",
    "    ph['Date']= pd.to_datetime(ph['Date'])\n",
    "    all_phs = pd.concat((all_phs, ph), axis =0)\n",
    "for year in range(2014, 2018):\n",
    "    ph = pd.read_csv(\"../Data/PublicHolidays/australianpublicholidays-{}{}.csv\".format(year, (year-2000)+1))\n",
    "    ph = ph[ph['Applicable To'].str.contains(\"VIC|NAT\")]\n",
    "    ph['Date'] =(pd.to_datetime(ph['Date'], format = '%Y%m%d'))\n",
    "    if year != 2017:\n",
    "        ph = ph[ph['Date'].dt.year == year]\n",
    "    ph = ph[['Date', 'Holiday Name']]  \n",
    "    all_phs = pd.concat((all_phs, ph), axis =0)\n",
    "for year in range(2019,2023):\n",
    "    ph = pd.read_csv(\"../Data/PublicHolidays/australian_public_holidays_{}.csv\".format(year))\n",
    "    ph = ph[ph['Jurisdiction'].str.contains(\"vic\")]\n",
    "    ph['Date'] =(pd.to_datetime(ph['Date'], format = '%Y%m%d'))\n",
    "    ph = ph[['Date', 'Holiday Name']]\n",
    "#     print(len(ph))\n",
    "    all_phs = pd.concat((all_phs, ph), axis =0)"
   ]
  },
  {
   "cell_type": "markdown",
   "id": "a561a937",
   "metadata": {},
   "source": [
    "### Format data"
   ]
  },
  {
   "cell_type": "code",
   "execution_count": 3,
   "id": "b3981e77",
   "metadata": {},
   "outputs": [],
   "source": [
    "# Convert date to datetime\n",
    "all_phs['datetime'] = pd.to_datetime(all_phs['Date'])\n",
    "# Rename column to indicate it relates to public holidays, and set values to 1\n",
    "all_phs.rename(columns={'Holiday Name':'public_holiday'}, inplace=True)\n",
    "all_phs['public_holiday'] = 1\n",
    "# Drop date column \n",
    "all_phs = all_phs.drop(['Date'], axis=1)"
   ]
  },
  {
   "cell_type": "code",
   "execution_count": 5,
   "id": "541832ee",
   "metadata": {},
   "outputs": [],
   "source": [
    "all_phs.to_csv('../Cleaned_data/publicholidays.csv', index = False)"
   ]
  },
  {
   "cell_type": "markdown",
   "id": "6b2ec2dd",
   "metadata": {},
   "source": [
    "### School holidays\n",
    "https://www.education.wa.edu.au/past-term-dates  \n",
    "2012 from https://www.littleaussietravellers.com.au/australian-school-term-dates-2012/\n",
    "Extras for 2012 (because otherwise holiday at start of year (in previous school year) are excluded) from: https://www.abcdiamond.com.au/school-holidays-in-australia/"
   ]
  },
  {
   "cell_type": "code",
   "execution_count": 163,
   "id": "d60cf85b",
   "metadata": {},
   "outputs": [],
   "source": [
    "school_hols = pd.read_csv(\"../Data/SchoolHolidays.csv\", header = None)"
   ]
  },
  {
   "cell_type": "code",
   "execution_count": 169,
   "id": "64b96f22",
   "metadata": {},
   "outputs": [],
   "source": [
    "def date_range_list(start_date, end_date):\n",
    "    # Return list of datetime.date objects between start_date and end_date (inclusive).\n",
    "    date_list = []\n",
    "    curr_date = start_date\n",
    "    while curr_date <= end_date:\n",
    "        date_list.append(curr_date)\n",
    "        curr_date += timedelta(days=1)\n",
    "    return date_list#[:-1]\n",
    "\n",
    "def split (row):\n",
    "    two_dates = row.split('-')\n",
    "    date1, date2 = two_dates[0], two_dates[1]\n",
    "    if '/' in row:\n",
    "        date1 = pd.to_datetime(date1, format = '%d/%m/%Y')\n",
    "        date2 = pd.to_datetime(date2, format = '%d/%m/%Y')\n",
    "    else:\n",
    "        date1 = pd.to_datetime(date1)\n",
    "        date2 = pd.to_datetime(date2)\n",
    "    days_between = date_range_list(date1, date2)\n",
    "    return days_between"
   ]
  },
  {
   "cell_type": "markdown",
   "id": "16a8e5ce",
   "metadata": {},
   "source": [
    "#### Create dataframe containing all the dates which are school holidays"
   ]
  },
  {
   "cell_type": "code",
   "execution_count": 198,
   "id": "f08476e0",
   "metadata": {},
   "outputs": [],
   "source": [
    "all_holidays=[]\n",
    "for column in school_hols.columns:\n",
    "    days = school_hols[column].apply(split)\n",
    "    this_holiday = sum(days, [])\n",
    "    all_holidays.extend(this_holiday)\n",
    "# Add extra dates from 2012\n",
    "extras_2012 = date_range_list(pd.to_datetime('01/01/2012', format = '%d/%m/%Y'), pd.to_datetime('01/02/2012', format = '%d/%m/%Y'))\n",
    "all_holidays.extend(extras_2012)\n",
    "# Covnert to dataframe and sort in date order\n",
    "all_holidays_df = pd.DataFrame({'Dates':all_holidays})\n",
    "all_holidays_df.sort_values(by='Dates', inplace=True)    "
   ]
  },
  {
   "cell_type": "code",
   "execution_count": 199,
   "id": "01b3e21e",
   "metadata": {},
   "outputs": [
    {
     "name": "stdout",
     "output_type": "stream",
     "text": [
      "2012 91\n",
      "2013 88\n",
      "2014 88\n",
      "2015 88\n",
      "2016 86\n",
      "2017 87\n",
      "2018 88\n",
      "2019 89\n",
      "2020 94\n",
      "2021 90\n"
     ]
    }
   ],
   "source": [
    "for year in range(2012, 2022):\n",
    "    one_year = all_holidays_df[all_holidays_df['Dates'].dt.year == year]\n",
    "    print(year, len(one_year))"
   ]
  },
  {
   "cell_type": "code",
   "execution_count": 201,
   "id": "fc5cf580",
   "metadata": {},
   "outputs": [],
   "source": [
    "all_holidays_df.to_csv('../Cleaned_data/schoolholidays.csv', index = False)"
   ]
  }
 ],
 "metadata": {
  "kernelspec": {
   "display_name": "Python 3 (ipykernel)",
   "language": "python",
   "name": "python3"
  },
  "language_info": {
   "codemirror_mode": {
    "name": "ipython",
    "version": 3
   },
   "file_extension": ".py",
   "mimetype": "text/x-python",
   "name": "python",
   "nbconvert_exporter": "python",
   "pygments_lexer": "ipython3",
   "version": "3.7.15"
  }
 },
 "nbformat": 4,
 "nbformat_minor": 5
}
