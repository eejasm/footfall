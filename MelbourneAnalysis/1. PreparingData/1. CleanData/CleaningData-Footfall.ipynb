{
 "cells": [
  {
   "cell_type": "markdown",
   "metadata": {},
   "source": [
    "# Cleaning Melbourne sensor footfall data \n",
    "This script cleans the footfall data for Melbourne"
   ]
  },
  {
   "cell_type": "markdown",
   "metadata": {},
   "source": [
    "#### Code initialisation"
   ]
  },
  {
   "cell_type": "code",
   "execution_count": 1,
   "metadata": {
    "ExecuteTime": {
     "end_time": "2020-05-20T09:29:55.509799Z",
     "start_time": "2020-05-20T09:29:52.577608Z"
    }
   },
   "outputs": [],
   "source": [
    "import pandas as pd\n",
    "import numpy as np\n",
    "import seaborn as sns\n",
    "import os\n",
    "from datetime import date, datetime"
   ]
  },
  {
   "cell_type": "markdown",
   "metadata": {},
   "source": [
    "#### Import pedestrian count data"
   ]
  },
  {
   "cell_type": "code",
   "execution_count": 2,
   "metadata": {},
   "outputs": [],
   "source": [
    "sensor_counts = pd.read_csv('../../Data/FootfallData/Pedestrian_Counting_System_Monthly_counts_per_hour_may_2009_to_14_dec_2022.csv')\n",
    "sensor_locations = pd.read_csv('../../Data/FootfallData/melbourne_locations.csv')"
   ]
  },
  {
   "cell_type": "markdown",
   "metadata": {},
   "source": [
    "#### Rename columns to all lowercase (to facilitate joining)"
   ]
  },
  {
   "cell_type": "code",
   "execution_count": 3,
   "metadata": {},
   "outputs": [],
   "source": [
    "sensor_counts.rename({'Date_Time': 'datetime', 'Year': 'year', 'Month':'month', 'Mdate': 'mdate', \n",
    "                      'Day': 'day', 'Time': 'time', 'Sensor_ID': 'sensor_id', 'Hourly_Counts': 'hourly_counts'}, \n",
    "                     axis = 1, inplace = True)"
   ]
  },
  {
   "cell_type": "markdown",
   "metadata": {},
   "source": [
    "#### Drop unneeded columns"
   ]
  },
  {
   "cell_type": "code",
   "execution_count": 4,
   "metadata": {},
   "outputs": [],
   "source": [
    "sensor_counts.drop(['ID', 'Sensor_Name'], axis = 1, inplace = True)\n",
    "sensor_locations.drop(['sensor_description', 'sensor_name', 'installation_date', 'status', 'note', 'direction_1',\n",
    "                      'direction_2'], axis = 1, inplace = True)"
   ]
  },
  {
   "cell_type": "markdown",
   "metadata": {},
   "source": [
    "#### Join two dataframes so location and count info in same place"
   ]
  },
  {
   "cell_type": "code",
   "execution_count": 5,
   "metadata": {},
   "outputs": [],
   "source": [
    "location_counts = pd.merge(sensor_locations, sensor_counts, on='sensor_id', how='inner')"
   ]
  },
  {
   "cell_type": "markdown",
   "metadata": {},
   "source": [
    "#### It could be useful to drop sensors that do not have as many recorded countsfor now leaving them in, but may drop in the future"
   ]
  },
  {
   "cell_type": "markdown",
   "metadata": {},
   "source": [
    "#### Properly format datetime column"
   ]
  },
  {
   "cell_type": "code",
   "execution_count": 6,
   "metadata": {},
   "outputs": [],
   "source": [
    "location_counts['datetime'] = pd.to_datetime(location_counts['datetime'], format = '%B %d, %Y %I:%M:%S %p')"
   ]
  },
  {
   "cell_type": "markdown",
   "metadata": {},
   "source": [
    "#### Order by datetime column"
   ]
  },
  {
   "cell_type": "code",
   "execution_count": 7,
   "metadata": {},
   "outputs": [],
   "source": [
    "location_counts = location_counts.sort_values(by=['datetime'])\n",
    "location_counts.reset_index(inplace = True, drop = True)"
   ]
  },
  {
   "cell_type": "markdown",
   "metadata": {},
   "source": [
    "#### September, 2010 dates have problems:\n",
    "All dates have a timestamp of 00:00, presume they are in order of hour of day, for each day there are only 23 hours worth of data\n",
    "For now, in later stages just filter out 2010 data"
   ]
  },
  {
   "cell_type": "code",
   "execution_count": 8,
   "metadata": {},
   "outputs": [],
   "source": [
    "location_counts = location_counts[location_counts['year']>2010]"
   ]
  },
  {
   "cell_type": "markdown",
   "metadata": {},
   "source": [
    "### Clean and save data"
   ]
  },
  {
   "cell_type": "code",
   "execution_count": 9,
   "metadata": {},
   "outputs": [],
   "source": [
    "# location_counts.drop(['Latitude', 'Longitude', 'location'], axis = 1, inplace =True)\n",
    "# location_counts.rename({'day': 'weekday', 'mdate': 'day', 'time': 'hour'}, axis =1, inplace = True)\n",
    "\n",
    "# Change month to integers 1-12\n",
    "months = {'January': 1, 'February': 2, 'March': 3, 'April': 4, 'May': 5, 'June':6, 'July': 7, 'August': 8,\n",
    "         'September': 9, 'October': 10, 'November': 11, 'December': 12}\n",
    "\n",
    "location_counts.month = location_counts.month.map(months)"
   ]
  },
  {
   "cell_type": "code",
   "execution_count": 10,
   "metadata": {},
   "outputs": [],
   "source": [
    "just_some_sensors = location_counts[location_counts['sensor_id'].isin([2,6,8,9,10,11,18])]\n",
    "just_some_sensors.to_csv(\"../../Cleaned_data/validsensors.csv\",index=False)\n",
    "location_counts.to_csv(\"../../Cleaned_data/allsensors.csv\",index=False)"
   ]
  },
  {
   "cell_type": "code",
   "execution_count": 12,
   "metadata": {},
   "outputs": [
    {
     "data": {
      "text/html": [
       "<div>\n",
       "<style scoped>\n",
       "    .dataframe tbody tr th:only-of-type {\n",
       "        vertical-align: middle;\n",
       "    }\n",
       "\n",
       "    .dataframe tbody tr th {\n",
       "        vertical-align: top;\n",
       "    }\n",
       "\n",
       "    .dataframe thead th {\n",
       "        text-align: right;\n",
       "    }\n",
       "</style>\n",
       "<table border=\"1\" class=\"dataframe\">\n",
       "  <thead>\n",
       "    <tr style=\"text-align: right;\">\n",
       "      <th></th>\n",
       "      <th>sensor_id</th>\n",
       "      <th>Latitude</th>\n",
       "      <th>Longitude</th>\n",
       "      <th>location</th>\n",
       "      <th>datetime</th>\n",
       "      <th>year</th>\n",
       "      <th>month</th>\n",
       "      <th>mdate</th>\n",
       "      <th>day</th>\n",
       "      <th>time</th>\n",
       "      <th>hourly_counts</th>\n",
       "    </tr>\n",
       "  </thead>\n",
       "  <tbody>\n",
       "    <tr>\n",
       "      <th>254688</th>\n",
       "      <td>4</td>\n",
       "      <td>-37.814880</td>\n",
       "      <td>144.966088</td>\n",
       "      <td>(-37.81487988, 144.9660878)</td>\n",
       "      <td>2011-01-01 00:00:00</td>\n",
       "      <td>2011</td>\n",
       "      <td>1</td>\n",
       "      <td>1</td>\n",
       "      <td>Saturday</td>\n",
       "      <td>0</td>\n",
       "      <td>3514</td>\n",
       "    </tr>\n",
       "    <tr>\n",
       "      <th>254689</th>\n",
       "      <td>8</td>\n",
       "      <td>-37.822935</td>\n",
       "      <td>144.947175</td>\n",
       "      <td>(-37.82293543, 144.94717511)</td>\n",
       "      <td>2011-01-01 00:00:00</td>\n",
       "      <td>2011</td>\n",
       "      <td>1</td>\n",
       "      <td>1</td>\n",
       "      <td>Saturday</td>\n",
       "      <td>0</td>\n",
       "      <td>325</td>\n",
       "    </tr>\n",
       "    <tr>\n",
       "      <th>254690</th>\n",
       "      <td>2</td>\n",
       "      <td>-37.813807</td>\n",
       "      <td>144.965167</td>\n",
       "      <td>(-37.81380667, 144.96516719)</td>\n",
       "      <td>2011-01-01 00:00:00</td>\n",
       "      <td>2011</td>\n",
       "      <td>1</td>\n",
       "      <td>1</td>\n",
       "      <td>Saturday</td>\n",
       "      <td>0</td>\n",
       "      <td>985</td>\n",
       "    </tr>\n",
       "    <tr>\n",
       "      <th>254691</th>\n",
       "      <td>3</td>\n",
       "      <td>-37.811015</td>\n",
       "      <td>144.964295</td>\n",
       "      <td>(-37.81101523, 144.96429485)</td>\n",
       "      <td>2011-01-01 00:00:00</td>\n",
       "      <td>2011</td>\n",
       "      <td>1</td>\n",
       "      <td>1</td>\n",
       "      <td>Saturday</td>\n",
       "      <td>0</td>\n",
       "      <td>2547</td>\n",
       "    </tr>\n",
       "    <tr>\n",
       "      <th>254692</th>\n",
       "      <td>7</td>\n",
       "      <td>-37.818629</td>\n",
       "      <td>144.971694</td>\n",
       "      <td>(-37.81862929, 144.97169395)</td>\n",
       "      <td>2011-01-01 00:00:00</td>\n",
       "      <td>2011</td>\n",
       "      <td>1</td>\n",
       "      <td>1</td>\n",
       "      <td>Saturday</td>\n",
       "      <td>0</td>\n",
       "      <td>3352</td>\n",
       "    </tr>\n",
       "    <tr>\n",
       "      <th>...</th>\n",
       "      <td>...</td>\n",
       "      <td>...</td>\n",
       "      <td>...</td>\n",
       "      <td>...</td>\n",
       "      <td>...</td>\n",
       "      <td>...</td>\n",
       "      <td>...</td>\n",
       "      <td>...</td>\n",
       "      <td>...</td>\n",
       "      <td>...</td>\n",
       "      <td>...</td>\n",
       "    </tr>\n",
       "    <tr>\n",
       "      <th>4562225</th>\n",
       "      <td>67</td>\n",
       "      <td>-37.816888</td>\n",
       "      <td>144.965626</td>\n",
       "      <td>(-37.81688755, 144.9656257)</td>\n",
       "      <td>2022-10-31 23:00:00</td>\n",
       "      <td>2022</td>\n",
       "      <td>10</td>\n",
       "      <td>31</td>\n",
       "      <td>Monday</td>\n",
       "      <td>23</td>\n",
       "      <td>210</td>\n",
       "    </tr>\n",
       "    <tr>\n",
       "      <th>4562226</th>\n",
       "      <td>20</td>\n",
       "      <td>-37.811729</td>\n",
       "      <td>144.968247</td>\n",
       "      <td>(-37.81172913, 144.9682466)</td>\n",
       "      <td>2022-10-31 23:00:00</td>\n",
       "      <td>2022</td>\n",
       "      <td>10</td>\n",
       "      <td>31</td>\n",
       "      <td>Monday</td>\n",
       "      <td>23</td>\n",
       "      <td>262</td>\n",
       "    </tr>\n",
       "    <tr>\n",
       "      <th>4562227</th>\n",
       "      <td>50</td>\n",
       "      <td>-37.798082</td>\n",
       "      <td>144.967210</td>\n",
       "      <td>(-37.79808191, 144.96721014)</td>\n",
       "      <td>2022-10-31 23:00:00</td>\n",
       "      <td>2022</td>\n",
       "      <td>10</td>\n",
       "      <td>31</td>\n",
       "      <td>Monday</td>\n",
       "      <td>23</td>\n",
       "      <td>58</td>\n",
       "    </tr>\n",
       "    <tr>\n",
       "      <th>4562228</th>\n",
       "      <td>19</td>\n",
       "      <td>-37.812372</td>\n",
       "      <td>144.965507</td>\n",
       "      <td>(-37.81237202, 144.96550671)</td>\n",
       "      <td>2022-10-31 23:00:00</td>\n",
       "      <td>2022</td>\n",
       "      <td>10</td>\n",
       "      <td>31</td>\n",
       "      <td>Monday</td>\n",
       "      <td>23</td>\n",
       "      <td>388</td>\n",
       "    </tr>\n",
       "    <tr>\n",
       "      <th>4562229</th>\n",
       "      <td>8</td>\n",
       "      <td>-37.822935</td>\n",
       "      <td>144.947175</td>\n",
       "      <td>(-37.82293543, 144.94717511)</td>\n",
       "      <td>2022-10-31 23:00:00</td>\n",
       "      <td>2022</td>\n",
       "      <td>10</td>\n",
       "      <td>31</td>\n",
       "      <td>Monday</td>\n",
       "      <td>23</td>\n",
       "      <td>25</td>\n",
       "    </tr>\n",
       "  </tbody>\n",
       "</table>\n",
       "<p>4307542 rows × 11 columns</p>\n",
       "</div>"
      ],
      "text/plain": [
       "         sensor_id   Latitude   Longitude                      location  \\\n",
       "254688           4 -37.814880  144.966088   (-37.81487988, 144.9660878)   \n",
       "254689           8 -37.822935  144.947175  (-37.82293543, 144.94717511)   \n",
       "254690           2 -37.813807  144.965167  (-37.81380667, 144.96516719)   \n",
       "254691           3 -37.811015  144.964295  (-37.81101523, 144.96429485)   \n",
       "254692           7 -37.818629  144.971694  (-37.81862929, 144.97169395)   \n",
       "...            ...        ...         ...                           ...   \n",
       "4562225         67 -37.816888  144.965626   (-37.81688755, 144.9656257)   \n",
       "4562226         20 -37.811729  144.968247   (-37.81172913, 144.9682466)   \n",
       "4562227         50 -37.798082  144.967210  (-37.79808191, 144.96721014)   \n",
       "4562228         19 -37.812372  144.965507  (-37.81237202, 144.96550671)   \n",
       "4562229          8 -37.822935  144.947175  (-37.82293543, 144.94717511)   \n",
       "\n",
       "                   datetime  year  month  mdate       day  time  hourly_counts  \n",
       "254688  2011-01-01 00:00:00  2011      1      1  Saturday     0           3514  \n",
       "254689  2011-01-01 00:00:00  2011      1      1  Saturday     0            325  \n",
       "254690  2011-01-01 00:00:00  2011      1      1  Saturday     0            985  \n",
       "254691  2011-01-01 00:00:00  2011      1      1  Saturday     0           2547  \n",
       "254692  2011-01-01 00:00:00  2011      1      1  Saturday     0           3352  \n",
       "...                     ...   ...    ...    ...       ...   ...            ...  \n",
       "4562225 2022-10-31 23:00:00  2022     10     31    Monday    23            210  \n",
       "4562226 2022-10-31 23:00:00  2022     10     31    Monday    23            262  \n",
       "4562227 2022-10-31 23:00:00  2022     10     31    Monday    23             58  \n",
       "4562228 2022-10-31 23:00:00  2022     10     31    Monday    23            388  \n",
       "4562229 2022-10-31 23:00:00  2022     10     31    Monday    23             25  \n",
       "\n",
       "[4307542 rows x 11 columns]"
      ]
     },
     "execution_count": 12,
     "metadata": {},
     "output_type": "execute_result"
    }
   ],
   "source": [
    "location_counts"
   ]
  },
  {
   "cell_type": "code",
   "execution_count": 11,
   "metadata": {},
   "outputs": [],
   "source": [
    "# # Get data for just one sensor\n",
    "# one_sensor =  location_counts[location_counts.sensor_id == 4]\n",
    "# one_year = one_sensor[one_sensor.year==2010]\n",
    "# # Set the datetime as the index\n",
    "# one_sensor.set_index('datetime', inplace = True)\n",
    "# duplicates = one_sensor[one_sensor.index.duplicated()]\n",
    "# for day in duplicates.mdate.unique():\n",
    "#     one_day = duplicates[duplicates.mdate == day]\n",
    "#     print(day, len(one_day))"
   ]
  },
  {
   "cell_type": "markdown",
   "metadata": {},
   "source": [
    "## Outlier removal"
   ]
  },
  {
   "cell_type": "code",
   "execution_count": null,
   "metadata": {},
   "outputs": [],
   "source": [
    "def doubleMADsfromMedian(y,thresh=3.5):\n",
    "    \"\"\"Find outliers using the Median Average Distance.\n",
    "    \n",
    "    VALUE: return a list of true/false denoting whether the element in y is an outlier or not\n",
    "    \n",
    "    PARAMETERS:\n",
    "      - y is a pandas Series, or something like that.\n",
    "    \n",
    "    warning: this function does not check for NAs\n",
    "    nor does it address issues when \n",
    "    more than 50% of your data have identical values\n",
    "    \"\"\"\n",
    "    # Calculate the upper and lower limits\n",
    "    m = np.median(y) # The median\n",
    "    abs_dev = np.abs(y - m) # The absolute difference between each y and the median\n",
    "    # The upper and lower limits are the median of the difference\n",
    "    # of each data point from the median of the data\n",
    "    left_mad = np.median(abs_dev[y <= m]) # The left limit (median of lower half)\n",
    "    right_mad = np.median(abs_dev[y >= m]) # The right limit (median of upper half)\n",
    "    \n",
    "    # Now create an array where each value has left_mad if it is in the lower half of the data,\n",
    "    # or right_mad if it is in the upper half\n",
    "    y_mad = left_mad * np.ones(len(y)) # Initially every value is 'left_mad'\n",
    "    y_mad[y > m] = right_mad # Now larger values are right_mad\n",
    "\n",
    "    # Calculate the z scores for each element\n",
    "    modified_z_score = 0.6745 * abs_dev / y_mad\n",
    "    modified_z_score[y == m] = 0\n",
    "    \n",
    "    # Return boolean list showing whether each y is an outlier\n",
    "    return modified_z_score > thresh\n",
    "\n",
    "# Make a list of true/false for whether the footfall is an outlier\n",
    "no_outliers = pd.DataFrame(doubleMADsfromMedian(original['InCount']))\n",
    "no_outliers.columns = ['outlier'] # Rename the column to 'outlier'\n",
    "\n",
    "# Join to the original footfall data to the list of outliers, then select a few useful columns\n",
    "join = pd.concat([original, no_outliers], axis = 1)\n",
    "join = pd.DataFrame(join, columns = ['Day_yr', 'outlier', 'InCount'])\n",
    "\n",
    "# Choose just the outliers\n",
    "outliers = join[join['outlier'] == True]\n",
    "outliers_list = list(outliers['Day_yr']) # A list of the days that are outliers\n",
    "\n",
    "# Now remove all outliers from the original data\n",
    "df = original.loc[~original['Day_yr'].isin(outliers_list)]\n",
    "df = df.reset_index(drop = True)\n",
    "\n",
    "# Check that the lengths all make sense\n",
    "assert(len(df) == len(original)-len(outliers_list))\n",
    "\n",
    "print(\"I found {} outliers from {} days in total. Removing them leaves us with {} events\".format(\\\n",
    "    len(outliers_list), len(join), len(df) ) )"
   ]
  }
 ],
 "metadata": {
  "hide_input": false,
  "kernelspec": {
   "display_name": "Python 3 (ipykernel)",
   "language": "python",
   "name": "python3"
  },
  "language_info": {
   "codemirror_mode": {
    "name": "ipython",
    "version": 3
   },
   "file_extension": ".py",
   "mimetype": "text/x-python",
   "name": "python",
   "nbconvert_exporter": "python",
   "pygments_lexer": "ipython3",
   "version": "3.7.15"
  }
 },
 "nbformat": 4,
 "nbformat_minor": 2
}
