{
 "cells": [
  {
   "cell_type": "markdown",
   "metadata": {},
   "source": [
    "# Cleaning Melbourne sensor footfall data \n",
    "This script cleans the footfall data for Melbourne"
   ]
  },
  {
   "cell_type": "markdown",
   "metadata": {},
   "source": [
    "#### Code initialisation"
   ]
  },
  {
   "cell_type": "code",
   "execution_count": 18,
   "metadata": {
    "ExecuteTime": {
     "end_time": "2020-05-20T09:29:55.509799Z",
     "start_time": "2020-05-20T09:29:52.577608Z"
    }
   },
   "outputs": [],
   "source": [
    "import pandas as pd\n",
    "import numpy as np\n",
    "import seaborn as sns\n",
    "import os\n",
    "from datetime import date, datetime"
   ]
  },
  {
   "cell_type": "markdown",
   "metadata": {},
   "source": [
    "#### Import pedestrian count data"
   ]
  },
  {
   "cell_type": "code",
   "execution_count": 19,
   "metadata": {},
   "outputs": [],
   "source": [
    "sensor_counts = pd.read_csv('../../Data/FootfallData/Pedestrian_Counting_System_Monthly_counts_per_hour_may_2009_to_14_dec_2022.csv')\n",
    "sensor_locations = pd.read_csv('../../Data/FootfallData/melbourne_locations.csv')"
   ]
  },
  {
   "cell_type": "markdown",
   "metadata": {},
   "source": [
    "#### Rename columns to all lowercase (to facilitate joining)"
   ]
  },
  {
   "cell_type": "code",
   "execution_count": 20,
   "metadata": {},
   "outputs": [],
   "source": [
    "sensor_counts.rename({'Date_Time': 'datetime', 'Year': 'year', 'Month':'month', 'Mdate': 'mdate', \n",
    "                      'Day': 'day', 'Time': 'time', 'Sensor_ID': 'sensor_id', 'Hourly_Counts': 'hourly_counts'}, \n",
    "                     axis = 1, inplace = True)"
   ]
  },
  {
   "cell_type": "markdown",
   "metadata": {},
   "source": [
    "#### Drop unneeded columns"
   ]
  },
  {
   "cell_type": "code",
   "execution_count": 21,
   "metadata": {},
   "outputs": [],
   "source": [
    "sensor_counts.drop(['ID', 'Sensor_Name'], axis = 1, inplace = True)\n",
    "sensor_locations.drop(['sensor_description', 'sensor_name', 'installation_date', 'status', 'note', 'direction_1',\n",
    "                      'direction_2'], axis = 1, inplace = True)"
   ]
  },
  {
   "cell_type": "markdown",
   "metadata": {},
   "source": [
    "#### Join two dataframes so location and count info in same place"
   ]
  },
  {
   "cell_type": "code",
   "execution_count": 22,
   "metadata": {},
   "outputs": [],
   "source": [
    "location_counts = pd.merge(sensor_locations, sensor_counts, on='sensor_id', how='inner')"
   ]
  },
  {
   "cell_type": "markdown",
   "metadata": {},
   "source": [
    "#### It could be useful to drop sensors that do not have as many recorded countsfor now leaving them in, but may drop in the future"
   ]
  },
  {
   "cell_type": "markdown",
   "metadata": {},
   "source": [
    "#### Properly format datetime column"
   ]
  },
  {
   "cell_type": "code",
   "execution_count": 23,
   "metadata": {},
   "outputs": [],
   "source": [
    "location_counts['datetime'] = pd.to_datetime(location_counts['datetime'], format = '%B %d, %Y %I:%M:%S %p')"
   ]
  },
  {
   "cell_type": "markdown",
   "metadata": {},
   "source": [
    "#### Order by datetime column"
   ]
  },
  {
   "cell_type": "code",
   "execution_count": 24,
   "metadata": {},
   "outputs": [],
   "source": [
    "location_counts = location_counts.sort_values(by=['datetime'])\n",
    "location_counts.reset_index(inplace = True, drop = True)"
   ]
  },
  {
   "cell_type": "markdown",
   "metadata": {},
   "source": [
    "#### September, 2010 dates have problems:\n",
    "All dates have a timestamp of 00:00, presume they are in order of hour of day, for each day there are only 23 hours worth of data\n",
    "For now, in later stages just filter out 2010 data"
   ]
  },
  {
   "cell_type": "code",
   "execution_count": 25,
   "metadata": {},
   "outputs": [],
   "source": [
    "location_counts = location_counts[location_counts['year']>2010]"
   ]
  },
  {
   "cell_type": "markdown",
   "metadata": {},
   "source": [
    "### Clean and save data"
   ]
  },
  {
   "cell_type": "code",
   "execution_count": 28,
   "metadata": {},
   "outputs": [],
   "source": [
    "# location_counts.drop(['Latitude', 'Longitude', 'location'], axis = 1, inplace =True)\n",
    "# location_counts.rename({'day': 'weekday', 'mdate': 'day', 'time': 'hour'}, axis =1, inplace = True)\n",
    "\n",
    "# Change month to integers 1-12\n",
    "months = {'January': 1, 'February': 2, 'March': 3, 'April': 4, 'May': 5, 'June':6, 'July': 7, 'August': 8,\n",
    "         'September': 9, 'October': 10, 'November': 11, 'December': 12}\n",
    "\n",
    "location_counts.month = location_counts.month.map(months)"
   ]
  },
  {
   "cell_type": "code",
   "execution_count": 30,
   "metadata": {},
   "outputs": [],
   "source": [
    "just_some_sensors = location_counts[location_counts['sensor_id'].isin([2,6,8,9,10,11,18])]\n",
    "just_some_sensors.to_csv(\"../../Cleaned_data/validsensors.csv\",index=False)\n",
    "location_counts.to_csv(\"../../Cleaned_data/allsensors.csv\",index=False)"
   ]
  },
  {
   "cell_type": "code",
   "execution_count": null,
   "metadata": {},
   "outputs": [],
   "source": [
    "# # Get data for just one sensor\n",
    "# one_sensor =  location_counts[location_counts.sensor_id == 4]\n",
    "# one_year = one_sensor[one_sensor.year==2010]\n",
    "# # Set the datetime as the index\n",
    "# one_sensor.set_index('datetime', inplace = True)\n",
    "# duplicates = one_sensor[one_sensor.index.duplicated()]\n",
    "# for day in duplicates.mdate.unique():\n",
    "#     one_day = duplicates[duplicates.mdate == day]\n",
    "#     print(day, len(one_day))"
   ]
  }
 ],
 "metadata": {
  "hide_input": false,
  "kernelspec": {
   "display_name": "Python 3 (ipykernel)",
   "language": "python",
   "name": "python3"
  },
  "language_info": {
   "codemirror_mode": {
    "name": "ipython",
    "version": 3
   },
   "file_extension": ".py",
   "mimetype": "text/x-python",
   "name": "python",
   "nbconvert_exporter": "python",
   "pygments_lexer": "ipython3",
   "version": "3.7.15"
  }
 },
 "nbformat": 4,
 "nbformat_minor": 2
}
