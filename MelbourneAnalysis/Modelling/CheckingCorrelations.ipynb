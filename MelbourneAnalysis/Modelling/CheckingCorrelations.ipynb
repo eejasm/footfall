{
 "cells": [
  {
   "cell_type": "code",
   "execution_count": 1,
   "id": "95c2f135",
   "metadata": {},
   "outputs": [],
   "source": [
    "import pandas as pd\n",
    "import numpy as np"
   ]
  },
  {
   "cell_type": "code",
   "execution_count": 2,
   "id": "4d22f13c",
   "metadata": {},
   "outputs": [],
   "source": [
    "data = pd.read_csv(\"../Cleaned_data/formatted_data_for_modelling_allsensors.csv\", index_col = False)"
   ]
  },
  {
   "cell_type": "code",
   "execution_count": 3,
   "id": "e1d6afce",
   "metadata": {},
   "outputs": [],
   "source": [
    "# Filter columns using the regex pattern in function input\n",
    "regex_pattern = 'buildings$|furniture$|landmarks$'\n",
    "data = data[data.columns.drop(list(data.filter(regex=regex_pattern)))].copy()"
   ]
  },
  {
   "cell_type": "code",
   "execution_count": 4,
   "id": "cd288db6",
   "metadata": {},
   "outputs": [],
   "source": [
    "# data = data.drop(['sensor_id'],axis=1) # don't want this included\n",
    "# # Get rid of columns in which none of the sensors have a value\n",
    "# for column in data.columns:\n",
    "#     if np.nanmax(data[column]) ==0:\n",
    "#         del data[column]"
   ]
  },
  {
   "cell_type": "code",
   "execution_count": 5,
   "id": "0ad95183",
   "metadata": {},
   "outputs": [],
   "source": [
    "# data.columns"
   ]
  },
  {
   "cell_type": "code",
   "execution_count": 6,
   "id": "6741d0f7",
   "metadata": {},
   "outputs": [],
   "source": [
    "# data['transport_feature'] = data['landmarks_Transport'] + data['buildings_Transport']\n",
    "# del  data['landmarks_Transport'], data['buildings_Transport']"
   ]
  },
  {
   "cell_type": "code",
   "execution_count": 7,
   "id": "18c76ab7",
   "metadata": {},
   "outputs": [],
   "source": [
    "# data['retail_landmark_and_storageBuilding_and_seat_drinkingfountain_infoPillar'] = data['furniture_Seat'] + data['landmarks_Retail']+ data['furniture_Drinking Fountain']\n",
    "# + data['buildings_Storage']+ data['furniture_Information Pillar']\n",
    "# del  data['landmarks_Retail'], data['furniture_Seat'], data['furniture_Drinking Fountain'], data['buildings_Storage'], data['furniture_Information Pillar'], data['buildings_Retail']"
   ]
  },
  {
   "cell_type": "code",
   "execution_count": 8,
   "id": "baa63287",
   "metadata": {},
   "outputs": [],
   "source": [
    "# The predictor variables\n",
    "Xfull = data.drop(['hourly_counts'], axis =1)\n",
    "# The variable to be predicted\n",
    "Yfull = data['hourly_counts'].values"
   ]
  },
  {
   "cell_type": "code",
   "execution_count": 9,
   "id": "a9451bd6",
   "metadata": {},
   "outputs": [],
   "source": [
    "data_time_columns = Xfull[['day_of_month_num', 'time', 'weekday_num', 'time_of_day']]\n",
    "Xfull = Xfull.drop(['day_of_month_num', 'time', 'weekday_num', 'time_of_day','year', 'month','day', 'datetime', 'month_num'],axis=1)"
   ]
  },
  {
   "cell_type": "markdown",
   "id": "b9e4fb10",
   "metadata": {},
   "source": [
    "### Find cross correlations"
   ]
  },
  {
   "cell_type": "code",
   "execution_count": 10,
   "id": "0a8b1ec9",
   "metadata": {},
   "outputs": [],
   "source": [
    "cor= Xfull.corr()"
   ]
  },
  {
   "cell_type": "code",
   "execution_count": 15,
   "id": "903f3262",
   "metadata": {},
   "outputs": [
    {
     "name": "stdout",
     "output_type": "stream",
     "text": [
      "                index  furniture_Drinking Fountain\n",
      "16     furniture_Seat                     0.681804\n",
      "37  buildings_Storage                     0.704364\n",
      "                index  furniture_Information Pillar\n",
      "37  buildings_Storage                       0.66578\n",
      "                          index  furniture_Seat\n",
      "12  furniture_Drinking Fountain        0.681804\n",
      "18             landmarks_Retail        0.801746\n",
      "37            buildings_Storage        0.648192\n",
      "             index  landmarks_Retail\n",
      "16  furniture_Seat          0.801746\n",
      "                index  buildings_Retail\n",
      "37  buildings_Storage          0.674188\n",
      "                           index  buildings_Storage\n",
      "12   furniture_Drinking Fountain           0.704364\n",
      "14  furniture_Information Pillar           0.665780\n",
      "16                furniture_Seat           0.648192\n",
      "36              buildings_Retail           0.674188\n",
      "                  index  buildings_Hospital/Clinic\n",
      "45  buildings_Transport                   0.660374\n",
      "                        index  buildings_Transport\n",
      "41  buildings_Hospital/Clinic             0.660374\n"
     ]
    }
   ],
   "source": [
    "cor\n",
    "for column in Xfull.columns:\n",
    "    sensors = pd.DataFrame(cor[column])\n",
    "    sensors.reset_index(inplace=True)\n",
    "    test = sensors[sensors[column]>0.6]\n",
    "    test = test[test['index'] != column]\n",
    "    if len(test)>0:\n",
    "        print(test)"
   ]
  },
  {
   "cell_type": "code",
   "execution_count": 227,
   "id": "ee46ff3f",
   "metadata": {},
   "outputs": [],
   "source": [
    "# # Columns with no cross correlation\n",
    "# 'furniture_Picnic Setting',\n",
    "#  'furniture_Barbeque',\n",
    "#  'furniture_Hoop',\n",
    "# 'furniture_Tree Guard',    \n",
    "#  'furniture_Litter Bin'\n",
    "# 'furniture_Bollard',\n",
    "# 'furniture_Bicycle Rails',\n",
    "# 'landmarks_Place of Worship',\n",
    "# 'landmarks_Mixed Use',\n",
    "# 'landmarks_Leisure/Recreation',\n",
    "# 'landmarks_Office',\n",
    "#  'landmarks_Place Of Assembly',\n",
    "# 'landmarks_Health Services'\n",
    "# 'buildings_Community Use',\n",
    "#  'buildings_Office',\n",
    "#  'buildings_Working',   \n",
    "#  'buildings_Events',\n",
    "#     'buildings_Public Display Area'\n",
    "#      'buildings_Education'"
   ]
  },
  {
   "cell_type": "markdown",
   "id": "07bec706",
   "metadata": {},
   "source": [
    "### Save with consolidated features"
   ]
  },
  {
   "cell_type": "code",
   "execution_count": 230,
   "id": "f3a7a87c",
   "metadata": {},
   "outputs": [],
   "source": [
    "data.to_csv(\"../Cleaned_data/formatted_data_for_modelling_allsensors_combined_features.csv\", index = False)"
   ]
  }
 ],
 "metadata": {
  "kernelspec": {
   "display_name": "Python 3 (ipykernel)",
   "language": "python",
   "name": "python3"
  },
  "language_info": {
   "codemirror_mode": {
    "name": "ipython",
    "version": 3
   },
   "file_extension": ".py",
   "mimetype": "text/x-python",
   "name": "python",
   "nbconvert_exporter": "python",
   "pygments_lexer": "ipython3",
   "version": "3.7.15"
  }
 },
 "nbformat": 4,
 "nbformat_minor": 5
}
