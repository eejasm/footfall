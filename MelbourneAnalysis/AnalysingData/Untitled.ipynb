{
 "cells": [
  {
   "cell_type": "code",
   "execution_count": 2,
   "id": "c72cd3dd",
   "metadata": {},
   "outputs": [],
   "source": [
    "import pandas as pd\n",
    "import folium"
   ]
  },
  {
   "cell_type": "code",
   "execution_count": 3,
   "id": "4951d5e2",
   "metadata": {},
   "outputs": [],
   "source": [
    "street_inf = pd.read_csv('../Cleaned_data/street_inf_clean.csv')\n",
    "landmarks_transport = pd.read_csv('../Cleaned_data/landmarks_clean.csv')\n",
    "buildings_transport = pd.read_csv('../Cleaned_data/buildings_clean.csv')"
   ]
  },
  {
   "cell_type": "code",
   "execution_count": 8,
   "id": "d6536caa",
   "metadata": {},
   "outputs": [
    {
     "data": {
      "text/html": [
       "<div>\n",
       "<style scoped>\n",
       "    .dataframe tbody tr th:only-of-type {\n",
       "        vertical-align: middle;\n",
       "    }\n",
       "\n",
       "    .dataframe tbody tr th {\n",
       "        vertical-align: top;\n",
       "    }\n",
       "\n",
       "    .dataframe thead th {\n",
       "        text-align: right;\n",
       "    }\n",
       "</style>\n",
       "<table border=\"1\" class=\"dataframe\">\n",
       "  <thead>\n",
       "    <tr style=\"text-align: right;\">\n",
       "      <th></th>\n",
       "      <th>feature</th>\n",
       "      <th>condition_rating</th>\n",
       "      <th>Latitude</th>\n",
       "      <th>Longitude</th>\n",
       "    </tr>\n",
       "  </thead>\n",
       "  <tbody>\n",
       "    <tr>\n",
       "      <th>3</th>\n",
       "      <td>Bollard</td>\n",
       "      <td>4.00</td>\n",
       "      <td>-37.822882</td>\n",
       "      <td>144.971589</td>\n",
       "    </tr>\n",
       "    <tr>\n",
       "      <th>14</th>\n",
       "      <td>Bollard</td>\n",
       "      <td>3.11</td>\n",
       "      <td>-37.807308</td>\n",
       "      <td>144.958110</td>\n",
       "    </tr>\n",
       "    <tr>\n",
       "      <th>18</th>\n",
       "      <td>Bollard</td>\n",
       "      <td>2.88</td>\n",
       "      <td>-37.813056</td>\n",
       "      <td>144.956050</td>\n",
       "    </tr>\n",
       "    <tr>\n",
       "      <th>23</th>\n",
       "      <td>Bollard</td>\n",
       "      <td>1.97</td>\n",
       "      <td>-37.806585</td>\n",
       "      <td>144.910107</td>\n",
       "    </tr>\n",
       "    <tr>\n",
       "      <th>27</th>\n",
       "      <td>Bollard</td>\n",
       "      <td>2.57</td>\n",
       "      <td>-37.823884</td>\n",
       "      <td>144.937212</td>\n",
       "    </tr>\n",
       "    <tr>\n",
       "      <th>...</th>\n",
       "      <td>...</td>\n",
       "      <td>...</td>\n",
       "      <td>...</td>\n",
       "      <td>...</td>\n",
       "    </tr>\n",
       "    <tr>\n",
       "      <th>23405</th>\n",
       "      <td>Bollard</td>\n",
       "      <td>5.00</td>\n",
       "      <td>-37.816081</td>\n",
       "      <td>144.952903</td>\n",
       "    </tr>\n",
       "    <tr>\n",
       "      <th>23406</th>\n",
       "      <td>Bollard</td>\n",
       "      <td>5.00</td>\n",
       "      <td>-37.816079</td>\n",
       "      <td>144.952910</td>\n",
       "    </tr>\n",
       "    <tr>\n",
       "      <th>23407</th>\n",
       "      <td>Bollard</td>\n",
       "      <td>5.00</td>\n",
       "      <td>-37.816077</td>\n",
       "      <td>144.952920</td>\n",
       "    </tr>\n",
       "    <tr>\n",
       "      <th>23408</th>\n",
       "      <td>Bollard</td>\n",
       "      <td>5.00</td>\n",
       "      <td>-37.816072</td>\n",
       "      <td>144.952932</td>\n",
       "    </tr>\n",
       "    <tr>\n",
       "      <th>23409</th>\n",
       "      <td>Bollard</td>\n",
       "      <td>5.00</td>\n",
       "      <td>-37.816068</td>\n",
       "      <td>144.952948</td>\n",
       "    </tr>\n",
       "  </tbody>\n",
       "</table>\n",
       "<p>9388 rows × 4 columns</p>\n",
       "</div>"
      ],
      "text/plain": [
       "       feature  condition_rating   Latitude   Longitude\n",
       "3      Bollard              4.00 -37.822882  144.971589\n",
       "14     Bollard              3.11 -37.807308  144.958110\n",
       "18     Bollard              2.88 -37.813056  144.956050\n",
       "23     Bollard              1.97 -37.806585  144.910107\n",
       "27     Bollard              2.57 -37.823884  144.937212\n",
       "...        ...               ...        ...         ...\n",
       "23405  Bollard              5.00 -37.816081  144.952903\n",
       "23406  Bollard              5.00 -37.816079  144.952910\n",
       "23407  Bollard              5.00 -37.816077  144.952920\n",
       "23408  Bollard              5.00 -37.816072  144.952932\n",
       "23409  Bollard              5.00 -37.816068  144.952948\n",
       "\n",
       "[9388 rows x 4 columns]"
      ]
     },
     "execution_count": 8,
     "metadata": {},
     "output_type": "execute_result"
    }
   ],
   "source": [
    "bollards = street_inf[street_inf['feature']=='Bollard']"
   ]
  },
  {
   "cell_type": "code",
   "execution_count": 2,
   "id": "4020db17",
   "metadata": {},
   "outputs": [],
   "source": [
    "# # Plot\n",
    "# bollards_map = folium.Map(location=[bollards.Latitude.mean(),\n",
    "#                            bollards.Longitude.mean()], zoom_start=14, control_scale=True, min_zoom = 13)\n",
    "# for index, location_info in bollards.iterrows():\n",
    "#     folium.Marker([location_info[\"Latitude\"], location_info[\"Longitude\"]]).add_to(bollards_map)\n",
    "# bollards_map\n"
   ]
  },
  {
   "cell_type": "code",
   "execution_count": null,
   "id": "ceb61a98",
   "metadata": {},
   "outputs": [],
   "source": [
    "fig, ax =plt.subplots()\n",
    "bollards_gdf.plot(ax=ax)\n",
    "sensors_gdf.plot(ax=ax,color='red')\n",
    "gdf_edges.plot(ax=ax,column='betweenn_1', figsize =(10,10), scheme = 'EqualInterval', linewidth=0.3)"
   ]
  }
 ],
 "metadata": {
  "kernelspec": {
   "display_name": "Python 3 (ipykernel)",
   "language": "python",
   "name": "python3"
  },
  "language_info": {
   "codemirror_mode": {
    "name": "ipython",
    "version": 3
   },
   "file_extension": ".py",
   "mimetype": "text/x-python",
   "name": "python",
   "nbconvert_exporter": "python",
   "pygments_lexer": "ipython3",
   "version": "3.7.15"
  }
 },
 "nbformat": 4,
 "nbformat_minor": 5
}
